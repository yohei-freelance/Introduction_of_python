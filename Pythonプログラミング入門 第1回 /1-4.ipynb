{
 "cells": [
  {
   "cell_type": "markdown",
   "metadata": {},
   "source": [
    "# Pythonプログラミング入門 第1回\n",
    "デバッギングについて説明します\n",
    "\n",
    "# デバッグ\n",
    "プログラムが実行できない時は、バグを取り除くデバッギングが必要になります。例えば、以下に留意することでバグを防ぐことができます。\n",
    "\n",
    "- \"よい\"コードを書く\n",
    "    - コードに説明のコメントを入れる\n",
    "    - 1行の文字数、インデント、空白などのフォーマットに気をつける\n",
    "    - 変数や関数の名前を適当につけない\n",
    "    - グローバル変数に留意する\n",
    "    - コードに固有の\"マジックナンバー\"を使わず、変数を使う\n",
    "    - コード内でのコピーアンドペーストを避ける\n",
    "    - コード内の不要な処理は削除する\n",
    "    - コードの冗長性を減らすようにする    など\n",
    "    - 参考\n",
    "        - [Google Python Style Guide](http://works.surgo.jp/translation/pyguide.html)\n",
    "        - [Official Style Guide for Python Code](http://pep8-ja.readthedocs.io/ja/latest/)\n",
    "- 関数の単体テストを行う\n",
    "- 一つの関数には一つの機能・タスクを持たせるようにする など\n",
    "\n",
    "エラーには大きく分けて、文法エラー、実行エラー、論理エラーがあります。以下、それぞれのエラーについて対処法を説明します。"
   ]
  },
  {
   "cell_type": "markdown",
   "metadata": {},
   "source": [
    "## Syntax Errors\n",
    "1. まず、エラーメッセージを確認しましょう\n",
    "2. エラーメッセージの最終行を見て、それがSyntaxErrorであることを確認しましょう\n",
    "3. エラーとなっているコードの行数を確認しましょう\n",
    "4. そして、当該行付近のコードを注意深く確認しましょう\n",
    "\n",
    "よくある文法エラーの例：\n",
    "- クオーテーションや括弧の閉じ忘れ\n",
    "- コロンのつけ忘れ\n",
    "- =と==の混同\n",
    "- インデントの誤り など"
   ]
  },
  {
   "cell_type": "code",
   "execution_count": 1,
   "metadata": {},
   "outputs": [
    {
     "ename": "SyntaxError",
     "evalue": "EOL while scanning string literal (<ipython-input-1-569657170200>, line 1)",
     "output_type": "error",
     "traceback": [
      "\u001b[0;36m  File \u001b[0;32m\"<ipython-input-1-569657170200>\"\u001b[0;36m, line \u001b[0;32m1\u001b[0m\n\u001b[0;31m    print(\"This is the error)\u001b[0m\n\u001b[0m                             ^\u001b[0m\n\u001b[0;31mSyntaxError\u001b[0m\u001b[0;31m:\u001b[0m EOL while scanning string literal\n"
     ]
    }
   ],
   "source": [
    "print(\"This is the error)"
   ]
  },
  {
   "cell_type": "markdown",
   "metadata": {},
   "source": [
    "## Runtime Errors\n",
    "1. まず、エラーメッセージを確認しましょう\n",
    "2. エラーメッセージの最終行を見て、そのエラーのタイプを確認しましょう\n",
    "3. エラーとなっているコードの行数を確認しましょう\n",
    "4. そして、当該行付近のコードについて、どの部分が実行エラーのタイプに関係しているか確認しましょう。もし複数の原因がありそうであれば、行を分割、改行して再度実行し、エラーを確認しましょう\n",
    "5. 原因がわからない場合は、print文を挿入して処理の入出力の内容を確認しましょう\n",
    "\n",
    "よくある実行エラーの例：\n",
    "- 文字列やリストの要素エラー\n",
    "- 変数名・関数名の打ち間違え\n",
    "- 無限の繰り返し\n",
    "- 型と処理の不整合\n",
    "- ゼロ分割\n",
    "- ファイルの入出力誤り など"
   ]
  },
  {
   "cell_type": "code",
   "execution_count": 2,
   "metadata": {},
   "outputs": [
    {
     "ename": "ZeroDivisionError",
     "evalue": "division by zero",
     "output_type": "error",
     "traceback": [
      "\u001b[0;31m---------------------------------------------------------------------------\u001b[0m",
      "\u001b[0;31mZeroDivisionError\u001b[0m                         Traceback (most recent call last)",
      "\u001b[0;32m<ipython-input-2-0f9f90da76dc>\u001b[0m in \u001b[0;36m<module>\u001b[0;34m()\u001b[0m\n\u001b[0;32m----> 1\u001b[0;31m \u001b[0mprint\u001b[0m\u001b[0;34m(\u001b[0m\u001b[0;36m1\u001b[0m\u001b[0;34m/\u001b[0m\u001b[0;36m0\u001b[0m\u001b[0;34m)\u001b[0m\u001b[0;34m\u001b[0m\u001b[0m\n\u001b[0m",
      "\u001b[0;31mZeroDivisionError\u001b[0m: division by zero"
     ]
    }
   ],
   "source": [
    "print(1/0)"
   ]
  },
  {
   "cell_type": "markdown",
   "metadata": {},
   "source": [
    "## Logical Errors\n",
    "プログラムを実行できるが、意図する結果と異なる動作をする際\n",
    "1. 入力に対する期待される出力と実際の出力を確認しましょう\n",
    "2. コードを読み進めながら、期待する処理と異なるところを見つけましょう。必要であれば、print文を挿入して処理の入出力の内容を確認しましょう"
   ]
  },
  {
   "cell_type": "code",
   "execution_count": 4,
   "metadata": {},
   "outputs": [
    {
     "name": "stdout",
     "output_type": "stream",
     "text": [
      "1+1=3\n"
     ]
    }
   ],
   "source": [
    "print(\"1+1=3\")"
   ]
  },
  {
   "cell_type": "markdown",
   "metadata": {},
   "source": [
    "# 予習課題\n",
    "このノートブックには予習課題はありません。"
   ]
  }
 ],
 "metadata": {
  "kernelspec": {
   "display_name": "Python 3",
   "language": "python",
   "name": "python3"
  },
  "language_info": {
   "codemirror_mode": {
    "name": "ipython",
    "version": 3
   },
   "file_extension": ".py",
   "mimetype": "text/x-python",
   "name": "python",
   "nbconvert_exporter": "python",
   "pygments_lexer": "ipython3",
   "version": "3.6.8"
  }
 },
 "nbformat": 4,
 "nbformat_minor": 2
}
