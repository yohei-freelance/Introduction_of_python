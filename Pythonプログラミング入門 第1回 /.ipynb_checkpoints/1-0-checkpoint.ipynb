{
 "cells": [
  {
   "cell_type": "markdown",
   "metadata": {},
   "source": [
    "# Pythonプログラミング入門 第1回\n",
    "Jupyter Notebookについて説明します"
   ]
  },
  {
   "cell_type": "markdown",
   "metadata": {},
   "source": [
    "# Jupyter Notebookの使い方 \n",
    "教材等の既存のノートブックは、<br>\n",
    "ディレクトリのページで選択することによって開くことができます。<br>\n",
    "ノートブックにはipynbというエクステンションが付きます。\n",
    "\n",
    "ノートブックを新たに作成するには、ディレクトリが表示されているページで、<br>\n",
    "NewのメニューでPython3を選択してください。<br>\n",
    "Untitled（1などが付くことあり）というノートブックが作られます。<br>\n",
    "タイトルをクリックして変更することができます。\n",
    "\n",
    "ノートブックの上方には、FileやEditなどのメニュー、<br>\n",
    "↓ や ↑ や ■ などのアイコンが表示されています。\n",
    "\n",
    "右上に Python 3 と表示されていることに注意してください。\n",
    "\n",
    "Ctrl+s（Macの場合はCmd+s）を入力することによって、<br>\n",
    "ノートブックをファイルにセーブできます。<br>\n",
    "オートセーブもされますが、適当なタイミングでセーブしましょう。\n",
    "\n",
    "ノートブックはセルから成り立っています。"
   ]
  },
  {
   "cell_type": "markdown",
   "metadata": {},
   "source": [
    "## セル\n",
    "主に次の二種類のセルを使います。\n",
    "\n",
    "* Code<br>\n",
    "Pythonのコードが書かれたセルです。<br>\n",
    "Codeセルの横には In [ ]: と書かれています。<br>\n",
    "コードを実行するには、Shift+Enter（またはReturn）を押します。<br>\n",
    "このセルの次のセルはCodeセルです。Shift+Enterを押してみてください。\n",
    "<p>\n",
    "* Markdown<br>\n",
    "説明が書かれたセルです。<br>\n",
    "このセル自身はMarkdownセルです。\n",
    "\n",
    "セルの種類はノートブックの上のメニューで変更できます。"
   ]
  },
  {
   "cell_type": "code",
   "execution_count": 1,
   "metadata": {},
   "outputs": [
    {
     "data": {
      "text/plain": [
       "2"
      ]
     },
     "execution_count": 1,
     "metadata": {},
     "output_type": "execute_result"
    }
   ],
   "source": [
    "1+1"
   ]
  },
  {
   "cell_type": "markdown",
   "metadata": {},
   "source": [
    "## コマンドモード\n",
    "セルを選択するとコマンドモードになります。<br>\n",
    "ただし、Codeセルを選択したとき、<br>\n",
    "マウスカーソルが入力フィールドに入っていると、<br>\n",
    "編集モードになってしまいます。\n",
    "\n",
    "コマンドモードでは、セルの左の線が青色になります。\n",
    "\n",
    "コマンドモードでEnterを入力すると、編集モードになります。<br>\n",
    "Markdownのセルでは、ダブルクリックでも編集モードになります。\n",
    "\n",
    "コマンドモードでは、一文字コマンドが有効なので注意してください。\n",
    "\n",
    "* a: 上にセルを挿入(above)\n",
    "* b: 下にセルを挿入(below)\n",
    "* x: セルを削除（そのセルが削除されてしまいますので注意！）\n",
    "* l: セルの行に番号を振るか振らないかをスイッチ\n",
    "\n",
    "* sまたはCtrl+s: ノートブックをセーブ(checkpoint)\n",
    "* Enter: 編集モードに移行\n",
    "* Shift+Enter: セルを実行して次のセルに"
   ]
  },
  {
   "cell_type": "markdown",
   "metadata": {},
   "source": [
    "## 編集モード\n",
    "編集モードでは文字カーソルが表示されて、セルの編集が可能です。<br>\n",
    "Ctrlの付かない文字はそのまま挿入されます。\n",
    "\n",
    "編集モードでは、セルの左の線が緑色になります。\n",
    "\n",
    "編集モードでは、以下のような編集コマンドが使えます。\n",
    "\n",
    "* Ctrl+c: copy\n",
    "* Ctrl+x: cut\n",
    "* Ctrl+v: paste\n",
    "* Ctrl+z: undo\n",
    "* …\n",
    "\n",
    "Codeセルでは、編集モードでもShift+Enterを入力すると、<br>\n",
    "セルの中のコードが実行されて、次のセルに移動します。<br>\n",
    "Markdownセルはフォーマットされて、次のセルに移動します。<br>\n",
    "次のセルではコマンドモードになっています。\n",
    "\n",
    "Escでコマンドモードになります。\n",
    "\n",
    "Ctrl+sでノートブックをセーブ(checkpoint)。<br>\n",
    "これはコマンドモードの場合と同じです。"
   ]
  },
  {
   "cell_type": "markdown",
   "metadata": {},
   "source": [
    "# 練習\n",
    "次のセルを編集モードにして 10/3 と入力して実行してください。"
   ]
  },
  {
   "cell_type": "code",
   "execution_count": null,
   "metadata": {},
   "outputs": [],
   "source": []
  },
  {
   "cell_type": "markdown",
   "metadata": {},
   "source": [
    "### （注意）Shift-Enterに反応がなくなったとき\n",
    "CodeセルでShift-Enterをしても反応がないとき、<br>\n",
    "特にセルの左の部分が\n",
    "\n",
    "\tIn [*]:\n",
    "\n",
    "となったままで、\\* が数に置き換わらないとき、<br>\n",
    "■ のアイコンを押して、 kernel（Pythonのインタープリタ）を停止させてください。<br>\n",
    "\n",
    "それでも反応がないときは、右回りの矢印のアイコンを押して、<br>\n",
    "kernel（Pythonのインタープリタ）を起動し直してください。\n",
    "\n",
    "たとえば、次のような例です。■ のアイコンを押してください。"
   ]
  },
  {
   "cell_type": "code",
   "execution_count": null,
   "metadata": {},
   "outputs": [],
   "source": [
    "while True:\n",
    "    pass"
   ]
  },
  {
   "cell_type": "code",
   "execution_count": null,
   "metadata": {},
   "outputs": [],
   "source": []
  }
 ],
 "metadata": {
  "kernelspec": {
   "display_name": "Python 3",
   "language": "python",
   "name": "python3"
  },
  "language_info": {
   "codemirror_mode": {
    "name": "ipython",
    "version": 3
   },
   "file_extension": ".py",
   "mimetype": "text/x-python",
   "name": "python",
   "nbconvert_exporter": "python",
   "pygments_lexer": "ipython3",
   "version": "3.6.4"
  }
 },
 "nbformat": 4,
 "nbformat_minor": 2
}
