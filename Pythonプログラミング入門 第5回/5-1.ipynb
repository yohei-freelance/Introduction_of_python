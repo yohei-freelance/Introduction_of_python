{
 "cells": [
  {
   "cell_type": "markdown",
   "metadata": {
    "slideshow": {
     "slide_type": "slide"
    }
   },
   "source": [
    "# Pythonプログラミング入門 第5回\n",
    "ファイル入出力の基本について説明します"
   ]
  },
  {
   "cell_type": "markdown",
   "metadata": {
    "slideshow": {
     "slide_type": "slide"
    }
   },
   "source": [
    "# ファイルのオープン\n",
    "ファイルから文字列を読み込んだり、ファイルに書き込んだりするには、\n",
    "まず、ファイルをオープンする（開く）必要があります。"
   ]
  },
  {
   "cell_type": "code",
   "execution_count": 1,
   "metadata": {},
   "outputs": [],
   "source": [
    "f = open('small.csv', 'r')"
   ]
  },
  {
   "cell_type": "markdown",
   "metadata": {},
   "source": [
    "変数 f には、ファイルを読み書きするためのデータ（オブジェクト）が入ります。"
   ]
  },
  {
   "cell_type": "markdown",
   "metadata": {
    "slideshow": {
     "slide_type": "skip"
    }
   },
   "source": [
    "'small.csv' はファイル名の文字列で、一般にはファイルの絶対パス名か、そのノートブックからの相対パス名を指定します。\n",
    "\n",
    "ここでは、small.csv という名前のファイルがノートブックと同じディレクトリにあることを想定しています。\n",
    "\n",
    "たとえば、big.csv というファイルが、ノートブックの上のディレクトリにあるならば、'../big.csv' と指定します。\n",
    "ノートブックの上のディレクトリの下にある data というディレクトリにあるならば、'../data/big.csv' となります。"
   ]
  },
  {
   "cell_type": "markdown",
   "metadata": {
    "slideshow": {
     "slide_type": "-"
    }
   },
   "source": [
    "'r' はファイルの読み書きのモードの一種で、「読み込み」を意味します。\n",
    "\n",
    "書き込みについては後で説明します。"
   ]
  },
  {
   "cell_type": "markdown",
   "metadata": {
    "slideshow": {
     "slide_type": "slide"
    }
   },
   "source": [
    "# オブジェクト\n",
    "Pythonプログラムでは、全ての種類のデータは、オブジェクト指向言語における “オブジェクト” として実現されます。\n",
    "個々のオブジェクトは、それぞれの “参照値” によって一意に識別されます。\n",
    "\n",
    "また、個々のオブジェクトはそれぞれに不変な型を持ちます。\n",
    "オブジェクトの型は type という関数によって求めることができます。"
   ]
  },
  {
   "cell_type": "markdown",
   "metadata": {
    "slideshow": {
     "slide_type": "skip"
    }
   },
   "source": [
    "たとえば、3 というデータ（オブジェクト）の型は int です。"
   ]
  },
  {
   "cell_type": "code",
   "execution_count": 2,
   "metadata": {
    "slideshow": {
     "slide_type": "skip"
    }
   },
   "outputs": [
    {
     "data": {
      "text/plain": [
       "int"
      ]
     },
     "execution_count": 2,
     "metadata": {},
     "output_type": "execute_result"
    }
   ],
   "source": [
    "type(3)"
   ]
  },
  {
   "cell_type": "markdown",
   "metadata": {
    "slideshow": {
     "slide_type": "slide"
    }
   },
   "source": [
    "Pythonにおいて、変数には、オブジェクトの参照値が入ります。\n",
    "では、変数 f に入っているオブジェクトの型はどうなっているでしょうか。"
   ]
  },
  {
   "cell_type": "code",
   "execution_count": 3,
   "metadata": {},
   "outputs": [
    {
     "data": {
      "text/plain": [
       "_io.TextIOWrapper"
      ]
     },
     "execution_count": 3,
     "metadata": {},
     "output_type": "execute_result"
    }
   ],
   "source": [
    "type(f)"
   ]
  },
  {
   "cell_type": "markdown",
   "metadata": {},
   "source": [
    "f のオブジェクトそのものを表示させると以下のようになります。"
   ]
  },
  {
   "cell_type": "code",
   "execution_count": 4,
   "metadata": {},
   "outputs": [
    {
     "data": {
      "text/plain": [
       "<_io.TextIOWrapper name='small.csv' mode='r' encoding='UTF-8'>"
      ]
     },
     "execution_count": 4,
     "metadata": {},
     "output_type": "execute_result"
    }
   ],
   "source": [
    "f"
   ]
  },
  {
   "cell_type": "markdown",
   "metadata": {
    "slideshow": {
     "slide_type": "slide"
    }
   },
   "source": [
    "# 属性\n",
    "個々のオブジェクトは、さまざまな属性を持ちます。これらの属性は、以下のように確認できます。\n",
    "\n",
    "---\n",
    "```Python\n",
    "オブジェクト.属性名\n",
    "```\n",
    "---\n",
    "\n",
    "たとえば、以下のように f に入っているオブジェクトに対して色々な情報を問い合わせることができます。"
   ]
  },
  {
   "cell_type": "code",
   "execution_count": 5,
   "metadata": {
    "slideshow": {
     "slide_type": "-"
    }
   },
   "outputs": [
    {
     "data": {
      "text/plain": [
       "'small.csv'"
      ]
     },
     "execution_count": 5,
     "metadata": {},
     "output_type": "execute_result"
    }
   ],
   "source": [
    "f.name"
   ]
  },
  {
   "cell_type": "code",
   "execution_count": 6,
   "metadata": {
    "slideshow": {
     "slide_type": "-"
    }
   },
   "outputs": [
    {
     "data": {
      "text/plain": [
       "'r'"
      ]
     },
     "execution_count": 6,
     "metadata": {},
     "output_type": "execute_result"
    }
   ],
   "source": [
    "f.mode"
   ]
  },
  {
   "cell_type": "markdown",
   "metadata": {
    "slideshow": {
     "slide_type": "slide"
    }
   },
   "source": [
    "オブジェクトがどのような属性を持つかは、dir という関数を使って調べることができます。"
   ]
  },
  {
   "cell_type": "code",
   "execution_count": 7,
   "metadata": {},
   "outputs": [
    {
     "data": {
      "text/plain": [
       "['_CHUNK_SIZE',\n",
       " '__class__',\n",
       " '__del__',\n",
       " '__delattr__',\n",
       " '__dict__',\n",
       " '__dir__',\n",
       " '__doc__',\n",
       " '__enter__',\n",
       " '__eq__',\n",
       " '__exit__',\n",
       " '__format__',\n",
       " '__ge__',\n",
       " '__getattribute__',\n",
       " '__getstate__',\n",
       " '__gt__',\n",
       " '__hash__',\n",
       " '__init__',\n",
       " '__init_subclass__',\n",
       " '__iter__',\n",
       " '__le__',\n",
       " '__lt__',\n",
       " '__ne__',\n",
       " '__new__',\n",
       " '__next__',\n",
       " '__reduce__',\n",
       " '__reduce_ex__',\n",
       " '__repr__',\n",
       " '__setattr__',\n",
       " '__sizeof__',\n",
       " '__str__',\n",
       " '__subclasshook__',\n",
       " '_checkClosed',\n",
       " '_checkReadable',\n",
       " '_checkSeekable',\n",
       " '_checkWritable',\n",
       " '_finalizing',\n",
       " 'buffer',\n",
       " 'close',\n",
       " 'closed',\n",
       " 'detach',\n",
       " 'encoding',\n",
       " 'errors',\n",
       " 'fileno',\n",
       " 'flush',\n",
       " 'isatty',\n",
       " 'line_buffering',\n",
       " 'mode',\n",
       " 'name',\n",
       " 'newlines',\n",
       " 'read',\n",
       " 'readable',\n",
       " 'readline',\n",
       " 'readlines',\n",
       " 'seek',\n",
       " 'seekable',\n",
       " 'tell',\n",
       " 'truncate',\n",
       " 'writable',\n",
       " 'write',\n",
       " 'writelines']"
      ]
     },
     "execution_count": 7,
     "metadata": {},
     "output_type": "execute_result"
    }
   ],
   "source": [
    "dir(f)"
   ]
  },
  {
   "cell_type": "markdown",
   "metadata": {
    "slideshow": {
     "slide_type": "slide"
    }
   },
   "source": [
    "dir の結果は文字列の配列です。\n",
    "それぞれの文字列は属性の名前です。\n",
    "この中に、name や mode も含まれています。\n",
    "\n",
    "属性には、そのオブジェクトを操作するために関数として呼び出すことのできるものがあり、メソッドと呼ばれます。"
   ]
  },
  {
   "cell_type": "markdown",
   "metadata": {
    "slideshow": {
     "slide_type": "slide"
    }
   },
   "source": [
    "たとえば、read という属性の値を () を付けないで表示させると以下のようです。"
   ]
  },
  {
   "cell_type": "code",
   "execution_count": 8,
   "metadata": {
    "slideshow": {
     "slide_type": "-"
    }
   },
   "outputs": [
    {
     "data": {
      "text/plain": [
       "<function TextIOWrapper.read>"
      ]
     },
     "execution_count": 8,
     "metadata": {},
     "output_type": "execute_result"
    }
   ],
   "source": [
    "f.read"
   ]
  },
  {
   "cell_type": "markdown",
   "metadata": {},
   "source": [
    "この関数が、() を付けることによって呼び出されます。"
   ]
  },
  {
   "cell_type": "code",
   "execution_count": 9,
   "metadata": {
    "scrolled": true
   },
   "outputs": [
    {
     "data": {
      "text/plain": [
       "'11,12,13,14,15\\n21,22,23,24,25\\n31,32,33,34,35\\n'"
      ]
     },
     "execution_count": 9,
     "metadata": {},
     "output_type": "execute_result"
    }
   ],
   "source": [
    "f.read()"
   ]
  },
  {
   "cell_type": "markdown",
   "metadata": {
    "slideshow": {
     "slide_type": "fragment"
    }
   },
   "source": [
    "ファイル全体の内容が文字列として返されました。\n",
    "\\\\n は改行文字です。"
   ]
  },
  {
   "cell_type": "markdown",
   "metadata": {
    "slideshow": {
     "slide_type": "slide"
    }
   },
   "source": [
    "これでファイルの読み込みが終わりましたので、ファイルをクローズして（閉じて）おきましょう。"
   ]
  },
  {
   "cell_type": "code",
   "execution_count": null,
   "metadata": {},
   "outputs": [],
   "source": [
    "f.close()"
   ]
  },
  {
   "cell_type": "markdown",
   "metadata": {
    "slideshow": {
     "slide_type": "slide"
    }
   },
   "source": [
    "繰り返しますが、属性の値が関数であるとき、その属性をメソッドと呼びます。\n",
    "メソッドは、オブジェクト指向言語で一般的に使われる用語です。\n",
    "\n",
    "メソッドは、以下のようにして呼び出すことができます。\n",
    "\n",
    "---\n",
    "```Python\n",
    "オブジェクト.属性名(式, ...)\n",
    "```\n",
    "---\n",
    "\n",
    "この構文により、属性の値である関数が呼び出されます。\n",
    "その実行は、当然ながら、属性を持つオブジェクトに依存したものになります。"
   ]
  },
  {
   "cell_type": "markdown",
   "metadata": {
    "slideshow": {
     "slide_type": "slide"
    }
   },
   "source": [
    "# ファイルに対する for 文\n",
    "ファイルのオブジェクトは、イテレータの一種です。\n",
    "変数 f にファイルのオブジェクトが入っているとすると、\n",
    "next(f) は、ファイルから新たに一行を読んで文字列として返します。\n",
    "\n",
    "以下のように f をfor文の in の後に指定することができます。\n",
    "\n",
    "---\n",
    "```Python\n",
    "for line in f:\n",
    "    ...\n",
    "```\n",
    "---\n",
    "\n",
    "繰り返しの各ステップで、next(f) が呼び出されて、\n",
    "変数 line にその値が設定され、for 文の中身が実行されます。"
   ]
  },
  {
   "cell_type": "markdown",
   "metadata": {},
   "source": [
    "以下の例を見てください。"
   ]
  },
  {
   "cell_type": "code",
   "execution_count": null,
   "metadata": {
    "slideshow": {
     "slide_type": "slide"
    }
   },
   "outputs": [],
   "source": [
    "f = open('small.csv', 'r')\n",
    "for line in f:\n",
    "    print(line)\n",
    "f.close()"
   ]
  },
  {
   "cell_type": "markdown",
   "metadata": {
    "slideshow": {
     "slide_type": "slide"
    }
   },
   "source": [
    "# 行の読み込み\n",
    "ファイルのオブジェクトには、readline() というメソッドを適用することもできます。\n",
    "\n",
    "f をファイルのオブジェクトとしたとき、\n",
    "f.readline() と next(f) は、ほぼ同じで、\n",
    "ファイルから新たに一行を読んで文字列として返します。\n",
    "文字列の最後に改行文字が含まれます。\n",
    "\n",
    "f.readline() と next(f) では、ファイルの終わりに来たときの挙動が異なります。\n",
    "f.readline() は '' という空文字列を返すのですが、\n",
    "next(f) は StopIteration というエラーを発します。"
   ]
  },
  {
   "cell_type": "markdown",
   "metadata": {
    "slideshow": {
     "slide_type": "slide"
    }
   },
   "source": [
    "以下のようにして readline を使ってファイルを読んでみましょう。\n",
    "\n",
    "ファイルを読み終わると空文字列が返ることを確認してください。"
   ]
  },
  {
   "cell_type": "code",
   "execution_count": 10,
   "metadata": {},
   "outputs": [],
   "source": [
    "f = open('small.csv', 'r')"
   ]
  },
  {
   "cell_type": "code",
   "execution_count": 11,
   "metadata": {},
   "outputs": [
    {
     "data": {
      "text/plain": [
       "'11,12,13,14,15\\n'"
      ]
     },
     "execution_count": 11,
     "metadata": {},
     "output_type": "execute_result"
    }
   ],
   "source": [
    "f.readline()"
   ]
  },
  {
   "cell_type": "code",
   "execution_count": 12,
   "metadata": {},
   "outputs": [
    {
     "data": {
      "text/plain": [
       "'21,22,23,24,25\\n'"
      ]
     },
     "execution_count": 12,
     "metadata": {},
     "output_type": "execute_result"
    }
   ],
   "source": [
    "f.readline()"
   ]
  },
  {
   "cell_type": "code",
   "execution_count": 13,
   "metadata": {},
   "outputs": [
    {
     "data": {
      "text/plain": [
       "'31,32,33,34,35\\n'"
      ]
     },
     "execution_count": 13,
     "metadata": {},
     "output_type": "execute_result"
    }
   ],
   "source": [
    "f.readline()"
   ]
  },
  {
   "cell_type": "code",
   "execution_count": 14,
   "metadata": {},
   "outputs": [
    {
     "data": {
      "text/plain": [
       "''"
      ]
     },
     "execution_count": 14,
     "metadata": {},
     "output_type": "execute_result"
    }
   ],
   "source": [
    "f.readline()"
   ]
  },
  {
   "cell_type": "code",
   "execution_count": 15,
   "metadata": {},
   "outputs": [],
   "source": [
    "f.close()"
   ]
  },
  {
   "cell_type": "markdown",
   "metadata": {
    "slideshow": {
     "slide_type": "slide"
    }
   },
   "source": [
    "# ファイルに対する with 文"
   ]
  },
  {
   "cell_type": "markdown",
   "metadata": {},
   "source": [
    "ファイルのオブジェクトは、with文に指定することができます。\n",
    "\n",
    "---\n",
    "```Python\n",
    "with ファイル as 変数:\n",
    "    ...\n",
    "\n",
    "```\n",
    "---\n",
    "\n",
    "with の次には、open によってファイルをオープンする式を書きます。\n",
    "\n",
    "with文は処理後にファイルのクローズを自動的にやってくれますので、\n",
    "ファイルに対して close() を呼び出す必要がありません。"
   ]
  },
  {
   "cell_type": "code",
   "execution_count": 16,
   "metadata": {
    "slideshow": {
     "slide_type": "slide"
    }
   },
   "outputs": [
    {
     "name": "stdout",
     "output_type": "stream",
     "text": [
      "11,12,13,14,15\n",
      "\n",
      "21,22,23,24,25\n",
      "\n",
      "31,32,33,34,35\n",
      "\n",
      "<_io.TextIOWrapper name='small.csv' mode='r' encoding='UTF-8'>\n"
     ]
    }
   ],
   "source": [
    "with open('small.csv', 'r') as f:\n",
    "    for line in f:\n",
    "        print(line)\n",
    "        \n",
    "print(f)"
   ]
  },
  {
   "cell_type": "markdown",
   "metadata": {
    "slideshow": {
     "slide_type": "slide"
    }
   },
   "source": [
    "# ファイルへの書き込み\n",
    "ファイルへの書き込みは以下のようにして行います。"
   ]
  },
  {
   "cell_type": "code",
   "execution_count": 17,
   "metadata": {},
   "outputs": [],
   "source": [
    "with open(\"write-test.txt\", \"w\") as f:\n",
    "    f.write(\"hello\\nworld\\n\")"
   ]
  },
  {
   "cell_type": "markdown",
   "metadata": {
    "slideshow": {
     "slide_type": "-"
    }
   },
   "source": [
    "ファイルの読み書きのモードとしては、「書き込み」を意味する 'w' を指定しています。既にファイルが存在する場合、古い内容はなくなります。ファイルがない場合は、新たに作成されます。\n",
    "\n",
    "'a' を指定すると、ファイルが存在する場合、既存の内容の後に追記されます。ファイルがない場合は、新たに作成されます。"
   ]
  },
  {
   "cell_type": "code",
   "execution_count": 18,
   "metadata": {
    "slideshow": {
     "slide_type": "skip"
    }
   },
   "outputs": [],
   "source": [
    "with open(\"write-test.txt\", \"w\") as f:\n",
    "    f.writelines([\"hello\\n\", \"world\\n\"])"
   ]
  },
  {
   "cell_type": "markdown",
   "metadata": {
    "slideshow": {
     "slide_type": "skip"
    }
   },
   "source": [
    "write には文字列を指定します。writelines には文字列のリストを指定します。\n",
    "\n",
    "どちらも、改行するためには、文字列の中に \\\\n を入れる必要があります。"
   ]
  },
  {
   "cell_type": "markdown",
   "metadata": {
    "slideshow": {
     "slide_type": "skip"
    }
   },
   "source": [
    "# 練習\n",
    "\n",
    "1. 上のセルを実行して、write-test.txt というファイルを確認してください。"
   ]
  },
  {
   "cell_type": "markdown",
   "metadata": {
    "collapsed": true,
    "slideshow": {
     "slide_type": "slide"
    }
   },
   "source": [
    "# ファイルと文字列\n",
    "ファイルと文字列が関係する典型的な課題として、\n",
    "英語の文書をファイルから読み込み、出現する単語のリストを求めてみましょう。"
   ]
  },
  {
   "cell_type": "code",
   "execution_count": 19,
   "metadata": {},
   "outputs": [],
   "source": [
    "import re\n",
    "a = []\n",
    "with open('text-sample.txt', 'r') as f:\n",
    "    for line in f:\n",
    "        words = re.split('[^a-zA-Z]+', line)\n",
    "        for word in words:\n",
    "            if word != '':\n",
    "                a.append(word.lower())"
   ]
  },
  {
   "cell_type": "markdown",
   "metadata": {
    "slideshow": {
     "slide_type": "slide"
    }
   },
   "source": [
    "re は正規表現のモジュールで、\n",
    "\n",
    "---\n",
    "```Python\n",
    "re.split('[^a-zA-Z]+', line)\n",
    "\n",
    "```\n",
    "---\n",
    "\n",
    "という関数は、[^a-zA-Z]+ という正規表現にマッチする文字列をデリミタ（単語と単語の間に入るべき文字列）として、\n",
    "line の文字列を単語に区切って、単語（文字列）のリストを返します。\n",
    "\n",
    "正規表現とは、文字列のパターンを表現する式です。\n",
    "[^a-zA-Z]+ という正規表現は、英文字以外の文字が1回以上繰り返されている、というパターンを表します。\n",
    "\n",
    "word.lower は、単語（文字列）word の中の大文字を小文字に変換します。"
   ]
  },
  {
   "cell_type": "code",
   "execution_count": 20,
   "metadata": {
    "slideshow": {
     "slide_type": "slide"
    }
   },
   "outputs": [
    {
     "data": {
      "text/plain": [
       "['we',\n",
       " 'the',\n",
       " 'japanese',\n",
       " 'people',\n",
       " 'acting',\n",
       " 'through',\n",
       " 'our',\n",
       " 'duly',\n",
       " 'elected',\n",
       " 'representatives',\n",
       " 'in',\n",
       " 'the',\n",
       " 'national',\n",
       " 'diet',\n",
       " 'determined',\n",
       " 'that',\n",
       " 'we',\n",
       " 'shall',\n",
       " 'secure',\n",
       " 'for',\n",
       " 'ourselves',\n",
       " 'and',\n",
       " 'our',\n",
       " 'posterity',\n",
       " 'the',\n",
       " 'fruits',\n",
       " 'of',\n",
       " 'peaceful',\n",
       " 'cooperation',\n",
       " 'with',\n",
       " 'all',\n",
       " 'nations',\n",
       " 'and',\n",
       " 'the',\n",
       " 'blessings',\n",
       " 'of',\n",
       " 'liberty',\n",
       " 'throughout',\n",
       " 'this',\n",
       " 'land',\n",
       " 'and',\n",
       " 'resolved',\n",
       " 'that',\n",
       " 'never',\n",
       " 'again',\n",
       " 'shall',\n",
       " 'we',\n",
       " 'be',\n",
       " 'visited',\n",
       " 'with',\n",
       " 'the',\n",
       " 'horrors',\n",
       " 'of',\n",
       " 'war',\n",
       " 'through',\n",
       " 'the',\n",
       " 'action',\n",
       " 'of',\n",
       " 'government',\n",
       " 'do',\n",
       " 'proclaim',\n",
       " 'the',\n",
       " 'sovereignty',\n",
       " 'of',\n",
       " 'the',\n",
       " 'people',\n",
       " 's',\n",
       " 'will',\n",
       " 'and',\n",
       " 'do',\n",
       " 'ordain',\n",
       " 'and',\n",
       " 'establish',\n",
       " 'this',\n",
       " 'constitution',\n",
       " 'founded',\n",
       " 'upon',\n",
       " 'the',\n",
       " 'universal',\n",
       " 'principle',\n",
       " 'that',\n",
       " 'government',\n",
       " 'is',\n",
       " 'a',\n",
       " 'sacred',\n",
       " 'trust',\n",
       " 'the',\n",
       " 'authority',\n",
       " 'for',\n",
       " 'which',\n",
       " 'is',\n",
       " 'derived',\n",
       " 'from',\n",
       " 'the',\n",
       " 'people',\n",
       " 'the',\n",
       " 'powers',\n",
       " 'of',\n",
       " 'which',\n",
       " 'are',\n",
       " 'exercised',\n",
       " 'by',\n",
       " 'the',\n",
       " 'representatives',\n",
       " 'of',\n",
       " 'the',\n",
       " 'people',\n",
       " 'and',\n",
       " 'the',\n",
       " 'benefits',\n",
       " 'of',\n",
       " 'which',\n",
       " 'are',\n",
       " 'enjoyed',\n",
       " 'by',\n",
       " 'the',\n",
       " 'people',\n",
       " 'and',\n",
       " 'we',\n",
       " 'reject',\n",
       " 'and',\n",
       " 'revoke',\n",
       " 'all',\n",
       " 'constitutions',\n",
       " 'ordinances',\n",
       " 'laws',\n",
       " 'and',\n",
       " 'rescripts',\n",
       " 'in',\n",
       " 'conflict',\n",
       " 'herewith',\n",
       " 'desiring',\n",
       " 'peace',\n",
       " 'for',\n",
       " 'all',\n",
       " 'time',\n",
       " 'and',\n",
       " 'fully',\n",
       " 'conscious',\n",
       " 'of',\n",
       " 'the',\n",
       " 'high',\n",
       " 'ideals',\n",
       " 'controlling',\n",
       " 'human',\n",
       " 'relationship',\n",
       " 'now',\n",
       " 'stirring',\n",
       " 'mankind',\n",
       " 'we',\n",
       " 'have',\n",
       " 'determined',\n",
       " 'to',\n",
       " 'rely',\n",
       " 'for',\n",
       " 'our',\n",
       " 'security',\n",
       " 'and',\n",
       " 'survival',\n",
       " 'upon',\n",
       " 'the',\n",
       " 'justice',\n",
       " 'and',\n",
       " 'good',\n",
       " 'faith',\n",
       " 'of',\n",
       " 'the',\n",
       " 'peace',\n",
       " 'loving',\n",
       " 'peoples',\n",
       " 'of',\n",
       " 'the',\n",
       " 'world',\n",
       " 'we',\n",
       " 'desire',\n",
       " 'to',\n",
       " 'occupy',\n",
       " 'an',\n",
       " 'honored',\n",
       " 'place',\n",
       " 'in',\n",
       " 'an',\n",
       " 'international',\n",
       " 'society',\n",
       " 'designed',\n",
       " 'and',\n",
       " 'dedicated',\n",
       " 'to',\n",
       " 'the',\n",
       " 'preservation',\n",
       " 'of',\n",
       " 'peace',\n",
       " 'and',\n",
       " 'the',\n",
       " 'banishment',\n",
       " 'of',\n",
       " 'tyranny',\n",
       " 'and',\n",
       " 'slavery',\n",
       " 'oppression',\n",
       " 'and',\n",
       " 'intolerance',\n",
       " 'for',\n",
       " 'all',\n",
       " 'time',\n",
       " 'from',\n",
       " 'the',\n",
       " 'earth',\n",
       " 'we',\n",
       " 'recognize',\n",
       " 'and',\n",
       " 'acknowledge',\n",
       " 'that',\n",
       " 'all',\n",
       " 'peoples',\n",
       " 'have',\n",
       " 'the',\n",
       " 'right',\n",
       " 'to',\n",
       " 'live',\n",
       " 'in',\n",
       " 'peace',\n",
       " 'free',\n",
       " 'from',\n",
       " 'fear',\n",
       " 'and',\n",
       " 'want',\n",
       " 'we',\n",
       " 'hold',\n",
       " 'that',\n",
       " 'no',\n",
       " 'people',\n",
       " 'is',\n",
       " 'responsible',\n",
       " 'to',\n",
       " 'itself',\n",
       " 'alone',\n",
       " 'but',\n",
       " 'that',\n",
       " 'laws',\n",
       " 'of',\n",
       " 'political',\n",
       " 'morality',\n",
       " 'are',\n",
       " 'universal',\n",
       " 'and',\n",
       " 'that',\n",
       " 'obedience',\n",
       " 'to',\n",
       " 'such',\n",
       " 'laws',\n",
       " 'is',\n",
       " 'incumbent',\n",
       " 'upon',\n",
       " 'all',\n",
       " 'peoples',\n",
       " 'who',\n",
       " 'would',\n",
       " 'sustain',\n",
       " 'their',\n",
       " 'own',\n",
       " 'sovereignty',\n",
       " 'and',\n",
       " 'justify',\n",
       " 'their',\n",
       " 'sovereign',\n",
       " 'relationship',\n",
       " 'with',\n",
       " 'other',\n",
       " 'peoples',\n",
       " 'to',\n",
       " 'these',\n",
       " 'high',\n",
       " 'principles',\n",
       " 'and',\n",
       " 'purposes',\n",
       " 'we',\n",
       " 'the',\n",
       " 'japanese',\n",
       " 'people',\n",
       " 'pledge',\n",
       " 'our',\n",
       " 'national',\n",
       " 'honor',\n",
       " 'determined',\n",
       " 'will',\n",
       " 'and',\n",
       " 'full',\n",
       " 'resources']"
      ]
     },
     "execution_count": 20,
     "metadata": {},
     "output_type": "execute_result"
    }
   ],
   "source": [
    "a"
   ]
  },
  {
   "cell_type": "markdown",
   "metadata": {
    "slideshow": {
     "slide_type": "slide"
    }
   },
   "source": [
    "# 練習\n",
    "\n",
    "1. text-sample.txt に出現する単語のリストを、単語の重複のないように求めてください。\n",
    "\n",
    "2. 求めたリストをソートしてください。"
   ]
  },
  {
   "cell_type": "markdown",
   "metadata": {
    "slideshow": {
     "slide_type": "slide"
    }
   },
   "source": [
    "# 予習課題\n",
    "\n",
    "1. ファイル名をもらって、そのファイルの行数を返す関数 number_of_lines(name) を定義してください。"
   ]
  },
  {
   "cell_type": "code",
   "execution_count": 21,
   "metadata": {},
   "outputs": [],
   "source": [
    "def number_of_lines(name):\n",
    "    i = 0\n",
    "    with open(name, 'r') as f:\n",
    "        for line in f:\n",
    "            i = i + 1\n",
    "    return i"
   ]
  },
  {
   "cell_type": "code",
   "execution_count": 22,
   "metadata": {},
   "outputs": [
    {
     "data": {
      "text/plain": [
       "6"
      ]
     },
     "execution_count": 22,
     "metadata": {},
     "output_type": "execute_result"
    }
   ],
   "source": [
    "number_of_lines(\"text-sample.txt\")"
   ]
  },
  {
   "cell_type": "code",
   "execution_count": null,
   "metadata": {},
   "outputs": [],
   "source": []
  }
 ],
 "metadata": {
  "kernelspec": {
   "display_name": "Python 3",
   "language": "python",
   "name": "python3"
  },
  "language_info": {
   "codemirror_mode": {
    "name": "ipython",
    "version": 3
   },
   "file_extension": ".py",
   "mimetype": "text/x-python",
   "name": "python",
   "nbconvert_exporter": "python",
   "pygments_lexer": "ipython3",
   "version": "3.6.4"
  }
 },
 "nbformat": 4,
 "nbformat_minor": 2
}
