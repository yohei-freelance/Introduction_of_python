{
 "cells": [
  {
   "cell_type": "markdown",
   "metadata": {
    "slideshow": {
     "slide_type": "slide"
    }
   },
   "source": [
    "# Pythonプログラミング入門 第5回\n",
    "csv ファイルの入出力について説明します"
   ]
  },
  {
   "cell_type": "markdown",
   "metadata": {
    "slideshow": {
     "slide_type": "slide"
    }
   },
   "source": [
    "# csv ファイルの読み込み\n",
    "csv ファイルを読み書きするには、\n",
    "ファイルをオープンして、そのオブジェクトから、\n",
    "csv のリーダーを作ります。\n",
    "csv のリーダーとは、csv ファイルからデータを読み込むためのオブジェクトで、\n",
    "このオブジェクトのメソッドを呼び出すことにより、csv ファイルからデータを読み込むことができます。"
   ]
  },
  {
   "cell_type": "code",
   "execution_count": 2,
   "metadata": {},
   "outputs": [],
   "source": [
    "import csv\n",
    "f = open('small.csv', 'r')\n",
    "dataReader = csv.reader(f)"
   ]
  },
  {
   "cell_type": "code",
   "execution_count": 3,
   "metadata": {},
   "outputs": [
    {
     "data": {
      "text/plain": [
       "_csv.reader"
      ]
     },
     "execution_count": 3,
     "metadata": {},
     "output_type": "execute_result"
    }
   ],
   "source": [
    "type(dataReader)"
   ]
  },
  {
   "cell_type": "code",
   "execution_count": 3,
   "metadata": {
    "scrolled": true,
    "slideshow": {
     "slide_type": "slide"
    }
   },
   "outputs": [
    {
     "data": {
      "text/plain": [
       "['__class__',\n",
       " '__delattr__',\n",
       " '__dir__',\n",
       " '__doc__',\n",
       " '__eq__',\n",
       " '__format__',\n",
       " '__ge__',\n",
       " '__getattribute__',\n",
       " '__gt__',\n",
       " '__hash__',\n",
       " '__init__',\n",
       " '__init_subclass__',\n",
       " '__iter__',\n",
       " '__le__',\n",
       " '__lt__',\n",
       " '__ne__',\n",
       " '__new__',\n",
       " '__next__',\n",
       " '__reduce__',\n",
       " '__reduce_ex__',\n",
       " '__repr__',\n",
       " '__setattr__',\n",
       " '__sizeof__',\n",
       " '__str__',\n",
       " '__subclasshook__',\n",
       " 'dialect',\n",
       " 'line_num']"
      ]
     },
     "execution_count": 3,
     "metadata": {},
     "output_type": "execute_result"
    }
   ],
   "source": [
    "dir(dataReader)"
   ]
  },
  {
   "cell_type": "markdown",
   "metadata": {
    "slideshow": {
     "slide_type": "slide"
    }
   },
   "source": [
    "このオブジェクトもイテレータで、next という関数を呼び出すことができます。"
   ]
  },
  {
   "cell_type": "code",
   "execution_count": 4,
   "metadata": {},
   "outputs": [
    {
     "data": {
      "text/plain": [
       "['11', '12', '13', '14', '15']"
      ]
     },
     "execution_count": 4,
     "metadata": {},
     "output_type": "execute_result"
    }
   ],
   "source": [
    "next(dataReader)"
   ]
  },
  {
   "cell_type": "markdown",
   "metadata": {},
   "source": [
    "このようにして csv ファイルを読むと、\n",
    "csv ファイルの各行のデータが文字列の配列となって返されます。"
   ]
  },
  {
   "cell_type": "code",
   "execution_count": 5,
   "metadata": {},
   "outputs": [
    {
     "data": {
      "text/plain": [
       "['21', '22', '23', '24', '25']"
      ]
     },
     "execution_count": 5,
     "metadata": {},
     "output_type": "execute_result"
    }
   ],
   "source": [
    "next(dataReader)"
   ]
  },
  {
   "cell_type": "code",
   "execution_count": 6,
   "metadata": {
    "slideshow": {
     "slide_type": "slide"
    }
   },
   "outputs": [],
   "source": [
    "row = next(dataReader)"
   ]
  },
  {
   "cell_type": "code",
   "execution_count": 7,
   "metadata": {},
   "outputs": [
    {
     "data": {
      "text/plain": [
       "['31', '32', '33', '34', '35']"
      ]
     },
     "execution_count": 7,
     "metadata": {},
     "output_type": "execute_result"
    }
   ],
   "source": [
    "row"
   ]
  },
  {
   "cell_type": "code",
   "execution_count": 8,
   "metadata": {},
   "outputs": [
    {
     "data": {
      "text/plain": [
       "'33'"
      ]
     },
     "execution_count": 8,
     "metadata": {},
     "output_type": "execute_result"
    }
   ],
   "source": [
    "row[2]"
   ]
  },
  {
   "cell_type": "code",
   "execution_count": 9,
   "metadata": {},
   "outputs": [
    {
     "data": {
      "text/plain": [
       "33"
      ]
     },
     "execution_count": 9,
     "metadata": {},
     "output_type": "execute_result"
    }
   ],
   "source": [
    "int(row[2])"
   ]
  },
  {
   "cell_type": "markdown",
   "metadata": {
    "slideshow": {
     "slide_type": "fragment"
    }
   },
   "source": [
    "文字列を整数に変換するには、int を関数として用いればよいです。"
   ]
  },
  {
   "cell_type": "code",
   "execution_count": 10,
   "metadata": {
    "slideshow": {
     "slide_type": "slide"
    }
   },
   "outputs": [
    {
     "ename": "StopIteration",
     "evalue": "",
     "output_type": "error",
     "traceback": [
      "\u001b[0;31m---------------------------------------------------------------------------\u001b[0m",
      "\u001b[0;31mStopIteration\u001b[0m                             Traceback (most recent call last)",
      "\u001b[0;32m<ipython-input-10-4f4f4fee7fd4>\u001b[0m in \u001b[0;36m<module>\u001b[0;34m()\u001b[0m\n\u001b[0;32m----> 1\u001b[0;31m \u001b[0mnext\u001b[0m\u001b[0;34m(\u001b[0m\u001b[0mdataReader\u001b[0m\u001b[0;34m)\u001b[0m\u001b[0;34m\u001b[0m\u001b[0m\n\u001b[0m",
      "\u001b[0;31mStopIteration\u001b[0m: "
     ]
    }
   ],
   "source": [
    "next(dataReader)"
   ]
  },
  {
   "cell_type": "markdown",
   "metadata": {},
   "source": [
    "ファイルの終わりまできましたので、上のようにエラーになります。"
   ]
  },
  {
   "cell_type": "code",
   "execution_count": 11,
   "metadata": {},
   "outputs": [],
   "source": [
    "f.close()"
   ]
  },
  {
   "cell_type": "markdown",
   "metadata": {
    "slideshow": {
     "slide_type": "slide"
    }
   },
   "source": [
    "# csv ファイルに対する for 文\n",
    "csv のリーダーもイテレータですので、for 文の in の後に書くことができます。\n",
    "\n",
    "---\n",
    "```Python\n",
    "for row in dataReader:\n",
    "    ...\n",
    "```\n",
    "---\n",
    "\n",
    "繰り返しの各ステップで、next(dataReader) が呼び出されて、\n",
    "row にその値が設定され、for 文の中身が実行されます。"
   ]
  },
  {
   "cell_type": "code",
   "execution_count": 4,
   "metadata": {
    "slideshow": {
     "slide_type": "slide"
    }
   },
   "outputs": [
    {
     "name": "stdout",
     "output_type": "stream",
     "text": [
      "['11', '12', '13', '14', '15']\n",
      "['21', '22', '23', '24', '25']\n",
      "['31', '32', '33', '34', '35']\n"
     ]
    }
   ],
   "source": [
    "f = open('small.csv', 'r')\n",
    "dataReader = csv.reader(f)\n",
    "for row in dataReader:\n",
    "    print(row)\n",
    "f.close()"
   ]
  },
  {
   "cell_type": "markdown",
   "metadata": {
    "slideshow": {
     "slide_type": "slide"
    }
   },
   "source": [
    "# csv ファイルに対する with 文\n",
    "以下はwith文を使った例です。"
   ]
  },
  {
   "cell_type": "code",
   "execution_count": 13,
   "metadata": {},
   "outputs": [
    {
     "name": "stdout",
     "output_type": "stream",
     "text": [
      "['11', '12', '13', '14', '15']\n",
      "['21', '22', '23', '24', '25']\n",
      "['31', '32', '33', '34', '35']\n"
     ]
    }
   ],
   "source": [
    "with open('small.csv', 'r') as f:\n",
    "    dataReader = csv.reader(f)\n",
    "    for row in dataReader:\n",
    "        print(row)"
   ]
  },
  {
   "cell_type": "markdown",
   "metadata": {
    "slideshow": {
     "slide_type": "slide"
    }
   },
   "source": [
    "# csv ファイルの書き込み"
   ]
  },
  {
   "cell_type": "markdown",
   "metadata": {},
   "source": [
    "csv ファイルを作成して書き込むには、csv のライターを作ります。\n",
    "csv のライターとは、csv ファイルを作ってデータを書き込むためのオブジェクトで、\n",
    "このオブジェクトのメソッドを呼び出すことにより、csv ファイルにデータが書き込まれます。"
   ]
  },
  {
   "cell_type": "code",
   "execution_count": 39,
   "metadata": {},
   "outputs": [],
   "source": [
    "f = open('out.csv', 'w')"
   ]
  },
  {
   "cell_type": "code",
   "execution_count": 40,
   "metadata": {},
   "outputs": [],
   "source": [
    "dataWriter = csv.writer(f, lineterminator='\\n')"
   ]
  },
  {
   "cell_type": "code",
   "execution_count": 34,
   "metadata": {
    "slideshow": {
     "slide_type": "slide"
    }
   },
   "outputs": [
    {
     "data": {
      "text/plain": [
       "['__class__',\n",
       " '__delattr__',\n",
       " '__dir__',\n",
       " '__doc__',\n",
       " '__eq__',\n",
       " '__format__',\n",
       " '__ge__',\n",
       " '__getattribute__',\n",
       " '__gt__',\n",
       " '__hash__',\n",
       " '__init__',\n",
       " '__init_subclass__',\n",
       " '__le__',\n",
       " '__lt__',\n",
       " '__ne__',\n",
       " '__new__',\n",
       " '__reduce__',\n",
       " '__reduce_ex__',\n",
       " '__repr__',\n",
       " '__setattr__',\n",
       " '__sizeof__',\n",
       " '__str__',\n",
       " '__subclasshook__',\n",
       " 'dialect',\n",
       " 'writerow',\n",
       " 'writerows']"
      ]
     },
     "execution_count": 34,
     "metadata": {},
     "output_type": "execute_result"
    }
   ],
   "source": [
    "dir(dataWriter)"
   ]
  },
  {
   "cell_type": "code",
   "execution_count": 43,
   "metadata": {
    "slideshow": {
     "slide_type": "slide"
    }
   },
   "outputs": [
    {
     "data": {
      "text/plain": [
       "6"
      ]
     },
     "execution_count": 43,
     "metadata": {},
     "output_type": "execute_result"
    }
   ],
   "source": [
    "dataWriter.writerow([1,2,3])"
   ]
  },
  {
   "cell_type": "code",
   "execution_count": 46,
   "metadata": {
    "scrolled": true
   },
   "outputs": [
    {
     "data": {
      "text/plain": [
       "9"
      ]
     },
     "execution_count": 46,
     "metadata": {},
     "output_type": "execute_result"
    }
   ],
   "source": [
    "dataWriter.writerow([21,22,23])"
   ]
  },
  {
   "cell_type": "code",
   "execution_count": 47,
   "metadata": {},
   "outputs": [],
   "source": [
    "f.close()"
   ]
  },
  {
   "cell_type": "markdown",
   "metadata": {
    "slideshow": {
     "slide_type": "slide"
    }
   },
   "source": [
    "with文を使うこともできます。"
   ]
  },
  {
   "cell_type": "code",
   "execution_count": 38,
   "metadata": {},
   "outputs": [],
   "source": [
    "with open('out.csv', 'w') as f:\n",
    "    dataWriter = csv.writer(f, lineterminator='\\n')\n",
    "    dataWriter.writerow([1,2,3])\n",
    "    dataWriter.writerow([21,22,23])"
   ]
  },
  {
   "cell_type": "markdown",
   "metadata": {
    "slideshow": {
     "slide_type": "slide"
    }
   },
   "source": [
    "# 東京の7月の気温\n",
    "tokyo-temps.csv には、気象庁のオープンデータからダウンロードした、\n",
    "東京の7月の平均気温のデータが入っています。\n",
    "\n",
    "http://www.data.jma.go.jp/gmd/risk/obsdl/\n",
    "\n",
    "48行目の第2列に1875年7月の平均気温が入っており、\n",
    "以下、2016年まで、12行ごとに7月の平均気温が入っています。"
   ]
  },
  {
   "cell_type": "markdown",
   "metadata": {
    "slideshow": {
     "slide_type": "slide"
    }
   },
   "source": [
    "以下は、これを取り出す Python の簡単なコードです。"
   ]
  },
  {
   "cell_type": "code",
   "execution_count": 48,
   "metadata": {
    "slideshow": {
     "slide_type": "-"
    }
   },
   "outputs": [],
   "source": [
    "import csv\n",
    "\n",
    "with open('tokyo-temps.csv', 'r', encoding='sjis') as f:\n",
    "    dataReader = csv.reader(f)\n",
    "    n=0\n",
    "    year = 1875\n",
    "    years = []\n",
    "    july_temps = []\n",
    "    for row in dataReader:\n",
    "        n = n+1\n",
    "        if n>=48 and (n-48)%12 == 0:\n",
    "            years.append(year)\n",
    "            july_temps.append(float(row[1]))\n",
    "            year = year + 1"
   ]
  },
  {
   "cell_type": "markdown",
   "metadata": {},
   "source": [
    "ファイルをオープンするときに、キーワード引数の encoding が指定されています。\n",
    "この引数で、ファイルの符号を指定します。\n",
    "'sjis' はシフトJISを意味します。この他に、'utf-8'（8ビットのUnicode）があります。"
   ]
  },
  {
   "cell_type": "markdown",
   "metadata": {
    "slideshow": {
     "slide_type": "slide"
    }
   },
   "source": [
    "変数 years に年の配列、変数 july_temps に対応する年の7月の平均気温の配列が設定されます。"
   ]
  },
  {
   "cell_type": "code",
   "execution_count": 49,
   "metadata": {
    "slideshow": {
     "slide_type": "-"
    }
   },
   "outputs": [
    {
     "data": {
      "text/plain": [
       "[1875,\n",
       " 1876,\n",
       " 1877,\n",
       " 1878,\n",
       " 1879,\n",
       " 1880,\n",
       " 1881,\n",
       " 1882,\n",
       " 1883,\n",
       " 1884,\n",
       " 1885,\n",
       " 1886,\n",
       " 1887,\n",
       " 1888,\n",
       " 1889,\n",
       " 1890,\n",
       " 1891,\n",
       " 1892,\n",
       " 1893,\n",
       " 1894,\n",
       " 1895,\n",
       " 1896,\n",
       " 1897,\n",
       " 1898,\n",
       " 1899,\n",
       " 1900,\n",
       " 1901,\n",
       " 1902,\n",
       " 1903,\n",
       " 1904,\n",
       " 1905,\n",
       " 1906,\n",
       " 1907,\n",
       " 1908,\n",
       " 1909,\n",
       " 1910,\n",
       " 1911,\n",
       " 1912,\n",
       " 1913,\n",
       " 1914,\n",
       " 1915,\n",
       " 1916,\n",
       " 1917,\n",
       " 1918,\n",
       " 1919,\n",
       " 1920,\n",
       " 1921,\n",
       " 1922,\n",
       " 1923,\n",
       " 1924,\n",
       " 1925,\n",
       " 1926,\n",
       " 1927,\n",
       " 1928,\n",
       " 1929,\n",
       " 1930,\n",
       " 1931,\n",
       " 1932,\n",
       " 1933,\n",
       " 1934,\n",
       " 1935,\n",
       " 1936,\n",
       " 1937,\n",
       " 1938,\n",
       " 1939,\n",
       " 1940,\n",
       " 1941,\n",
       " 1942,\n",
       " 1943,\n",
       " 1944,\n",
       " 1945,\n",
       " 1946,\n",
       " 1947,\n",
       " 1948,\n",
       " 1949,\n",
       " 1950,\n",
       " 1951,\n",
       " 1952,\n",
       " 1953,\n",
       " 1954,\n",
       " 1955,\n",
       " 1956,\n",
       " 1957,\n",
       " 1958,\n",
       " 1959,\n",
       " 1960,\n",
       " 1961,\n",
       " 1962,\n",
       " 1963,\n",
       " 1964,\n",
       " 1965,\n",
       " 1966,\n",
       " 1967,\n",
       " 1968,\n",
       " 1969,\n",
       " 1970,\n",
       " 1971,\n",
       " 1972,\n",
       " 1973,\n",
       " 1974,\n",
       " 1975,\n",
       " 1976,\n",
       " 1977,\n",
       " 1978,\n",
       " 1979,\n",
       " 1980,\n",
       " 1981,\n",
       " 1982,\n",
       " 1983,\n",
       " 1984,\n",
       " 1985,\n",
       " 1986,\n",
       " 1987,\n",
       " 1988,\n",
       " 1989,\n",
       " 1990,\n",
       " 1991,\n",
       " 1992,\n",
       " 1993,\n",
       " 1994,\n",
       " 1995,\n",
       " 1996,\n",
       " 1997,\n",
       " 1998,\n",
       " 1999,\n",
       " 2000,\n",
       " 2001,\n",
       " 2002,\n",
       " 2003,\n",
       " 2004,\n",
       " 2005,\n",
       " 2006,\n",
       " 2007,\n",
       " 2008,\n",
       " 2009,\n",
       " 2010,\n",
       " 2011,\n",
       " 2012,\n",
       " 2013,\n",
       " 2014,\n",
       " 2015,\n",
       " 2016]"
      ]
     },
     "execution_count": 49,
     "metadata": {},
     "output_type": "execute_result"
    }
   ],
   "source": [
    "years"
   ]
  },
  {
   "cell_type": "code",
   "execution_count": 50,
   "metadata": {
    "slideshow": {
     "slide_type": "slide"
    }
   },
   "outputs": [
    {
     "data": {
      "text/plain": [
       "[26.0,\n",
       " 24.3,\n",
       " 26.5,\n",
       " 26.0,\n",
       " 26.1,\n",
       " 24.2,\n",
       " 24.0,\n",
       " 24.2,\n",
       " 23.7,\n",
       " 23.4,\n",
       " 23.1,\n",
       " 25.0,\n",
       " 23.6,\n",
       " 24.5,\n",
       " 23.4,\n",
       " 23.5,\n",
       " 24.9,\n",
       " 25.7,\n",
       " 25.3,\n",
       " 26.8,\n",
       " 22.1,\n",
       " 24.1,\n",
       " 22.9,\n",
       " 25.9,\n",
       " 23.2,\n",
       " 22.8,\n",
       " 22.1,\n",
       " 21.8,\n",
       " 23.2,\n",
       " 24.8,\n",
       " 23.3,\n",
       " 23.5,\n",
       " 22.7,\n",
       " 22.1,\n",
       " 24.3,\n",
       " 23.0,\n",
       " 24.5,\n",
       " 24.3,\n",
       " 23.3,\n",
       " 25.5,\n",
       " 24.2,\n",
       " 23.9,\n",
       " 25.7,\n",
       " 26.0,\n",
       " 23.6,\n",
       " 26.1,\n",
       " 24.3,\n",
       " 25.0,\n",
       " 24.0,\n",
       " 26.1,\n",
       " 23.2,\n",
       " 24.6,\n",
       " 26.0,\n",
       " 23.4,\n",
       " 25.9,\n",
       " 26.3,\n",
       " 21.8,\n",
       " 25.7,\n",
       " 26.6,\n",
       " 23.9,\n",
       " 24.3,\n",
       " 24.9,\n",
       " 26.3,\n",
       " 25.0,\n",
       " 26.5,\n",
       " 26.9,\n",
       " 23.7,\n",
       " 27.5,\n",
       " 25.1,\n",
       " 25.6,\n",
       " 22.0,\n",
       " 26.2,\n",
       " 25.7,\n",
       " 26.0,\n",
       " 25.3,\n",
       " 26.5,\n",
       " 24.3,\n",
       " 24.3,\n",
       " 24.7,\n",
       " 22.3,\n",
       " 27.6,\n",
       " 24.2,\n",
       " 24.4,\n",
       " 24.9,\n",
       " 26.1,\n",
       " 25.8,\n",
       " 27.4,\n",
       " 25.1,\n",
       " 25.7,\n",
       " 25.5,\n",
       " 24.2,\n",
       " 24.4,\n",
       " 26.3,\n",
       " 24.7,\n",
       " 25.0,\n",
       " 25.4,\n",
       " 25.8,\n",
       " 25.2,\n",
       " 26.1,\n",
       " 23.4,\n",
       " 25.6,\n",
       " 23.9,\n",
       " 25.8,\n",
       " 27.8,\n",
       " 25.2,\n",
       " 23.8,\n",
       " 26.3,\n",
       " 23.1,\n",
       " 23.8,\n",
       " 26.2,\n",
       " 26.3,\n",
       " 23.9,\n",
       " 27.0,\n",
       " 22.4,\n",
       " 24.1,\n",
       " 25.7,\n",
       " 26.7,\n",
       " 25.5,\n",
       " 22.5,\n",
       " 28.3,\n",
       " 26.4,\n",
       " 26.2,\n",
       " 26.6,\n",
       " 25.3,\n",
       " 25.9,\n",
       " 27.7,\n",
       " 28.5,\n",
       " 28.0,\n",
       " 22.8,\n",
       " 28.5,\n",
       " 25.6,\n",
       " 25.6,\n",
       " 24.4,\n",
       " 27.0,\n",
       " 26.3,\n",
       " 28.0,\n",
       " 27.3,\n",
       " 26.4,\n",
       " 27.3,\n",
       " 26.8,\n",
       " 26.2,\n",
       " 25.4]"
      ]
     },
     "execution_count": 50,
     "metadata": {},
     "output_type": "execute_result"
    }
   ],
   "source": [
    "july_temps"
   ]
  },
  {
   "cell_type": "markdown",
   "metadata": {
    "slideshow": {
     "slide_type": "slide"
    }
   },
   "source": [
    "ここでは詳しく説明しませんが、線形回帰によるフィッティングを行ってみましょう。"
   ]
  },
  {
   "cell_type": "code",
   "execution_count": 51,
   "metadata": {},
   "outputs": [],
   "source": [
    "import numpy\n",
    "import matplotlib.pyplot as plt\n",
    "%matplotlib inline\n",
    "\n",
    "fitp = numpy.poly1d(numpy.polyfit(years, july_temps, 1))\n",
    "ma = max(years)\n",
    "mi = min(years)\n",
    "xp = numpy.linspace(mi, ma, (ma - mi))"
   ]
  },
  {
   "cell_type": "code",
   "execution_count": 52,
   "metadata": {
    "scrolled": true,
    "slideshow": {
     "slide_type": "slide"
    }
   },
   "outputs": [
    {
     "data": {
      "image/png": "[encoded data removed]",
      "text/plain": [
       "<matplotlib.figure.Figure at 0x108afd978>"
      ]
     },
     "metadata": {},
     "output_type": "display_data"
    }
   ],
   "source": [
    "plt.plot(years, july_temps, '.', xp, fitp(xp), '-')\n",
    "plt.show()"
   ]
  },
  {
   "cell_type": "markdown",
   "metadata": {
    "slideshow": {
     "slide_type": "slide"
    }
   },
   "source": [
    "# 練習\n",
    "\n",
    "1. tokyo-temps.csv を読み込んで、各行が西暦年と7月の気温のみからなる csv ファイルを作成してください。<br>\n",
    "西暦年は1875から2016までとします。\n",
    "\n",
    "2. 作成した csv ファイルを Excel から読み込んで確認してください。"
   ]
  },
  {
   "cell_type": "code",
   "execution_count": 1,
   "metadata": {},
   "outputs": [],
   "source": [
    "import csv\n",
    "\n",
    "with open('tokyo-temps.csv', 'r', encoding='sjis') as f:\n",
    "    dataReader = csv.reader(f)\n",
    "    n=0\n",
    "    year = 1875\n",
    "    years_and_july_temps = []\n",
    "    for row in dataReader:\n",
    "        n = n+1\n",
    "        if n>=48 and (n-48)%12 == 0:\n",
    "            years_and_july_temps.append(year)\n",
    "            years_and_july_temps.append(float(row[1]))\n",
    "            years_and_july_temps.append(\"\\r\")\n",
    "            year = year + 1\n",
    "            \n",
    "years_and_july_temps\n",
    "\n",
    "with open('years_and_july_temps.csv', 'w') as f:\n",
    "    dataWriter = csv.writer(f,lineterminator='\\n')\n",
    "    dataWriter.writerow(years_and_july_temps)"
   ]
  },
  {
   "cell_type": "markdown",
   "metadata": {
    "slideshow": {
     "slide_type": "slide"
    }
   },
   "source": [
    "# 予習課題\n",
    "\n",
    "1. 整数のみからなる csv ファイルの名前をもらって、csv ファイルの各行を読み込んで整数のリストを作り、\n",
    "ファイル全体の内容を、そのようなリストのリストとして返す関数 csv_matrix(name) を定義してください。"
   ]
  },
  {
   "cell_type": "code",
   "execution_count": 1,
   "metadata": {},
   "outputs": [],
   "source": [
    "#「リストのリスト」という言葉の意味が分からなかったのですが、このような解釈で合っていますでしょうか。\n",
    "\n",
    "import csv\n",
    "\n",
    "def csv_matrix(name):\n",
    "    with open(name, 'r') as f:\n",
    "        dataReader = csv.reader(f)\n",
    "        matrix = []\n",
    "        for row in dataReader:\n",
    "            matrix.append(row)\n",
    "    return matrix"
   ]
  },
  {
   "cell_type": "code",
   "execution_count": 2,
   "metadata": {},
   "outputs": [
    {
     "data": {
      "text/plain": [
       "[['11', '12', '13', '14', '15'],\n",
       " ['21', '22', '23', '24', '25'],\n",
       " ['31', '32', '33', '34', '35']]"
      ]
     },
     "execution_count": 2,
     "metadata": {},
     "output_type": "execute_result"
    }
   ],
   "source": [
    "csv_matrix('small.csv')"
   ]
  },
  {
   "cell_type": "code",
   "execution_count": 5,
   "metadata": {},
   "outputs": [
    {
     "ename": "NameError",
     "evalue": "name 'csv_matriw' is not defined",
     "output_type": "error",
     "traceback": [
      "\u001b[0;31m---------------------------------------------------------------------------\u001b[0m",
      "\u001b[0;31mNameError\u001b[0m                                 Traceback (most recent call last)",
      "\u001b[0;32m<ipython-input-5-0a738a62120f>\u001b[0m in \u001b[0;36m<module>\u001b[0;34m()\u001b[0m\n\u001b[0;32m----> 1\u001b[0;31m \u001b[0mcsv_matriw\u001b[0m\u001b[0;34m(\u001b[0m\u001b[0;34m'small.csv'\u001b[0m\u001b[0;34m)\u001b[0m\u001b[0;34m(\u001b[0m\u001b[0mrow\u001b[0m\u001b[0;34m)\u001b[0m\u001b[0;34m\u001b[0m\u001b[0m\n\u001b[0m",
      "\u001b[0;31mNameError\u001b[0m: name 'csv_matriw' is not defined"
     ]
    }
   ],
   "source": [
    "csv_matriw('small.csv')(row)"
   ]
  },
  {
   "cell_type": "code",
   "execution_count": null,
   "metadata": {},
   "outputs": [],
   "source": []
  }
 ],
 "metadata": {
  "kernelspec": {
   "display_name": "Python 3",
   "language": "python",
   "name": "python3"
  },
  "language_info": {
   "codemirror_mode": {
    "name": "ipython",
    "version": 3
   },
   "file_extension": ".py",
   "mimetype": "text/x-python",
   "name": "python",
   "nbconvert_exporter": "python",
   "pygments_lexer": "ipython3",
   "version": "3.6.4"
  }
 },
 "nbformat": 4,
 "nbformat_minor": 2
}
