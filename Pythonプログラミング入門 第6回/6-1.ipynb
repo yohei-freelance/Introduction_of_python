{
 "cells": [
  {
   "cell_type": "markdown",
   "metadata": {
    "slideshow": {
     "slide_type": "slide"
    }
   },
   "source": [
    "# Pythonプログラミング入門 第6回\n",
    "オブジェクト指向について説明します"
   ]
  },
  {
   "cell_type": "markdown",
   "metadata": {
    "slideshow": {
     "slide_type": "slide"
    }
   },
   "source": [
    "# オブジェクト型\n",
    "\n",
    "Pythonプログラムでは、全ての種類のデータ（数値、文字列、関数など）は、オブジェクト指向言語における “オブジェクト” として実現され、\n",
    "オブジェクトはそれぞれに不変な型を持ちます。\n",
    "一般に型とはデータの種類のことですが、Pythonでは、すべてのデータはオブジェクトなので、\n",
    "型は「オブジェクト型」ともいいます。\n",
    "オブジェクト型は以下のように分類されます。"
   ]
  },
  {
   "cell_type": "markdown",
   "metadata": {
    "slideshow": {
     "slide_type": "slide"
    }
   },
   "source": [
    "- オブジェクト型\n",
    "    - 数値型\n",
    "        - 整数\n",
    "        - 浮動小数点 など\n",
    "    - コンテナ型\n",
    "        - シーケンス型\n",
    "            - リスト、タプル、文字列など\n",
    "        - 集合型\n",
    "            - セットなど\n",
    "        - マップ型\n",
    "            - 辞書など"
   ]
  },
  {
   "cell_type": "markdown",
   "metadata": {
    "slideshow": {
     "slide_type": "slide"
    }
   },
   "source": [
    "オブジェクトの型は、`type` という組み込み関数で調べることができます。"
   ]
  },
  {
   "cell_type": "code",
   "execution_count": 16,
   "metadata": {},
   "outputs": [
    {
     "data": {
      "text/plain": [
       "str"
      ]
     },
     "execution_count": 16,
     "metadata": {},
     "output_type": "execute_result"
    }
   ],
   "source": [
    "type('hello')"
   ]
  },
  {
   "cell_type": "markdown",
   "metadata": {
    "slideshow": {
     "slide_type": "slide"
    }
   },
   "source": [
    "# クラス定義\n",
    "Python ではクラスを定義することで、新しいオブジェクト型を作成します。\n",
    "クラス定義は次のように行います。\n",
    "\n",
    "---\n",
    "```Python \n",
    "class クラス名:\n",
    "    クラスに関するプログラム文\n",
    "```\n",
    "\n",
    "---\n",
    "定義されたクラスを型とするオブジェクトを生成する方法は以下のとおりです。\n",
    "\n",
    "---\n",
    "```Python\n",
    "クラス名()\n",
    "```\n",
    "\n",
    "---"
   ]
  },
  {
   "cell_type": "markdown",
   "metadata": {
    "slideshow": {
     "slide_type": "slide"
    }
   },
   "source": [
    "以下では、`pass` を用いて最も簡単なクラス（クラスに関するプログラム文が何もないクラス）を定義し、\n",
    "そのオブジェクトを生成します。"
   ]
  },
  {
   "cell_type": "code",
   "execution_count": 17,
   "metadata": {},
   "outputs": [],
   "source": [
    "class EmptyClass:\n",
    "    pass\n",
    "\n",
    "ec = EmptyClass()"
   ]
  },
  {
   "cell_type": "markdown",
   "metadata": {},
   "source": [
    "`ec` という変数にはオブジェクトが入っています。"
   ]
  },
  {
   "cell_type": "code",
   "execution_count": 18,
   "metadata": {},
   "outputs": [
    {
     "data": {
      "text/plain": [
       "<__main__.EmptyClass at 0x10a546710>"
      ]
     },
     "execution_count": 18,
     "metadata": {},
     "output_type": "execute_result"
    }
   ],
   "source": [
    "ec"
   ]
  },
  {
   "cell_type": "markdown",
   "metadata": {
    "slideshow": {
     "slide_type": "slide"
    }
   },
   "source": [
    "関数 `type` で、このオブジェクトの型を確認してみます。"
   ]
  },
  {
   "cell_type": "code",
   "execution_count": 4,
   "metadata": {
    "scrolled": true
   },
   "outputs": [
    {
     "data": {
      "text/plain": [
       "__main__.EmptyClass"
      ]
     },
     "execution_count": 4,
     "metadata": {},
     "output_type": "execute_result"
    }
   ],
   "source": [
    "type(ec)"
   ]
  },
  {
   "cell_type": "markdown",
   "metadata": {},
   "source": [
    "`__main__.EmptyClass` というオブジェクト型であることがわかります。\n",
    "これは `EmptyClass` と同じです。\n",
    "ここで、`__main__`はこのプログラムのモジュールを示しています。（'6-3 モジュール' を参照してください。）"
   ]
  },
  {
   "cell_type": "code",
   "execution_count": 5,
   "metadata": {
    "slideshow": {
     "slide_type": "-"
    }
   },
   "outputs": [
    {
     "data": {
      "text/plain": [
       "__main__.EmptyClass"
      ]
     },
     "execution_count": 5,
     "metadata": {},
     "output_type": "execute_result"
    }
   ],
   "source": [
    "EmptyClass"
   ]
  },
  {
   "cell_type": "code",
   "execution_count": 6,
   "metadata": {},
   "outputs": [
    {
     "data": {
      "text/plain": [
       "True"
      ]
     },
     "execution_count": 6,
     "metadata": {},
     "output_type": "execute_result"
    }
   ],
   "source": [
    "type(ec) == EmptyClass"
   ]
  },
  {
   "cell_type": "markdown",
   "metadata": {
    "slideshow": {
     "slide_type": "slide"
    }
   },
   "source": [
    "もう一つ、このクラスのオブジェクトを作ってみます。"
   ]
  },
  {
   "cell_type": "code",
   "execution_count": 7,
   "metadata": {},
   "outputs": [],
   "source": [
    "ec1 = EmptyClass()"
   ]
  },
  {
   "cell_type": "code",
   "execution_count": 8,
   "metadata": {},
   "outputs": [
    {
     "data": {
      "text/plain": [
       "<__main__.EmptyClass at 0x10a576208>"
      ]
     },
     "execution_count": 8,
     "metadata": {},
     "output_type": "execute_result"
    }
   ],
   "source": [
    "ec1"
   ]
  },
  {
   "cell_type": "code",
   "execution_count": 9,
   "metadata": {},
   "outputs": [
    {
     "data": {
      "text/plain": [
       "False"
      ]
     },
     "execution_count": 9,
     "metadata": {},
     "output_type": "execute_result"
    }
   ],
   "source": [
    "ec == ec1"
   ]
  },
  {
   "cell_type": "markdown",
   "metadata": {
    "slideshow": {
     "slide_type": "skip"
    }
   },
   "source": [
    "### クラス名について（参考）\n",
    "\n",
    "クラス名に特に制約はありませんが、`EmptyClass`、`MyClass`、`SimpleCourse` のように、\n",
    "単語の組み合わせではそれぞれの最初の文字を大文字にする\n",
    "（CapitalizedWords, CapWords, Camel case と呼ばれる）形式が一般的です。"
   ]
  },
  {
   "cell_type": "markdown",
   "metadata": {
    "slideshow": {
     "slide_type": "slide"
    }
   },
   "source": [
    "# 属性の追加、変更、削除\n",
    "生成されたオブジェクトに対して、属性の追加、変更、削除を行うことができます。  "
   ]
  },
  {
   "cell_type": "code",
   "execution_count": 10,
   "metadata": {},
   "outputs": [],
   "source": [
    "ec.name = 'bar'"
   ]
  },
  {
   "cell_type": "code",
   "execution_count": 11,
   "metadata": {},
   "outputs": [
    {
     "data": {
      "text/plain": [
       "'bar'"
      ]
     },
     "execution_count": 11,
     "metadata": {},
     "output_type": "execute_result"
    }
   ],
   "source": [
    "ec.name"
   ]
  },
  {
   "cell_type": "code",
   "execution_count": 12,
   "metadata": {
    "slideshow": {
     "slide_type": "-"
    }
   },
   "outputs": [],
   "source": [
    "ec.name = 'boo'"
   ]
  },
  {
   "cell_type": "code",
   "execution_count": 13,
   "metadata": {
    "slideshow": {
     "slide_type": "-"
    }
   },
   "outputs": [
    {
     "data": {
      "text/plain": [
       "'boo'"
      ]
     },
     "execution_count": 13,
     "metadata": {},
     "output_type": "execute_result"
    }
   ],
   "source": [
    "ec.name"
   ]
  },
  {
   "cell_type": "code",
   "execution_count": 14,
   "metadata": {},
   "outputs": [],
   "source": [
    "del ec.name"
   ]
  },
  {
   "cell_type": "code",
   "execution_count": 15,
   "metadata": {},
   "outputs": [
    {
     "ename": "AttributeError",
     "evalue": "'EmptyClass' object has no attribute 'name'",
     "output_type": "error",
     "traceback": [
      "\u001b[0;31m---------------------------------------------------------------------------\u001b[0m",
      "\u001b[0;31mAttributeError\u001b[0m                            Traceback (most recent call last)",
      "\u001b[0;32m<ipython-input-15-58c58e793649>\u001b[0m in \u001b[0;36m<module>\u001b[0;34m()\u001b[0m\n\u001b[0;32m----> 1\u001b[0;31m \u001b[0mec\u001b[0m\u001b[0;34m.\u001b[0m\u001b[0mname\u001b[0m\u001b[0;34m\u001b[0m\u001b[0m\n\u001b[0m",
      "\u001b[0;31mAttributeError\u001b[0m: 'EmptyClass' object has no attribute 'name'"
     ]
    }
   ],
   "source": [
    "ec.name"
   ]
  },
  {
   "cell_type": "markdown",
   "metadata": {
    "slideshow": {
     "slide_type": "slide"
    }
   },
   "source": [
    "# メソッドの定義\n",
    "クラス内で定義される関数はメソッドと呼ばれ、そのクラスのオブジェクトの属性となります。\n",
    "\n",
    "メソッドが呼び出されると、その最初の引数にオブジェクト自身がわたされます。\n",
    "一般にこれに対応する引数の名前として `self` が使われます。\n",
    "ただし、この引数は、メソッドを呼び出す式の括弧の中には書かれません。"
   ]
  },
  {
   "cell_type": "markdown",
   "metadata": {
    "slideshow": {
     "slide_type": "slide"
    }
   },
   "source": [
    "具体例として、`MyClass` を以下のように定義して、そのオブジェクトを生成して `mc` という変数に入れます。"
   ]
  },
  {
   "cell_type": "code",
   "execution_count": 19,
   "metadata": {},
   "outputs": [],
   "source": [
    "class MyClass:\n",
    "    def f(self):\n",
    "        return type(self)\n",
    "    def f2(self, param):\n",
    "        print(self, ':', type(self))\n",
    "        return param\n",
    "\n",
    "mc = MyClass()"
   ]
  },
  {
   "cell_type": "code",
   "execution_count": 20,
   "metadata": {
    "scrolled": true,
    "slideshow": {
     "slide_type": "skip"
    }
   },
   "outputs": [
    {
     "data": {
      "text/plain": [
       "<__main__.MyClass at 0x10a5e0e48>"
      ]
     },
     "execution_count": 20,
     "metadata": {},
     "output_type": "execute_result"
    }
   ],
   "source": [
    "mc"
   ]
  },
  {
   "cell_type": "markdown",
   "metadata": {
    "slideshow": {
     "slide_type": "slide"
    }
   },
   "source": [
    "このオブジェクトの属性 `f` と `f2` を確認してみます。関数 `type` を使うと、`mc.f` と `mc.f2` がメソッドであることが確認できます。"
   ]
  },
  {
   "cell_type": "code",
   "execution_count": 21,
   "metadata": {
    "scrolled": true,
    "slideshow": {
     "slide_type": "skip"
    }
   },
   "outputs": [
    {
     "data": {
      "text/plain": [
       "<bound method MyClass.f of <__main__.MyClass object at 0x10a5e0e48>>"
      ]
     },
     "execution_count": 21,
     "metadata": {},
     "output_type": "execute_result"
    }
   ],
   "source": [
    "mc.f"
   ]
  },
  {
   "cell_type": "code",
   "execution_count": 22,
   "metadata": {},
   "outputs": [
    {
     "data": {
      "text/plain": [
       "method"
      ]
     },
     "execution_count": 22,
     "metadata": {},
     "output_type": "execute_result"
    }
   ],
   "source": [
    "type(mc.f)"
   ]
  },
  {
   "cell_type": "code",
   "execution_count": 23,
   "metadata": {},
   "outputs": [
    {
     "data": {
      "text/plain": [
       "method"
      ]
     },
     "execution_count": 23,
     "metadata": {},
     "output_type": "execute_result"
    }
   ],
   "source": [
    "type(mc.f2)"
   ]
  },
  {
   "cell_type": "markdown",
   "metadata": {
    "slideshow": {
     "slide_type": "slide"
    }
   },
   "source": [
    "メソッド `f` を呼び出してみます。\n",
    "\n",
    "---\n",
    "```Python\n",
    "    def f(self):\n",
    "        return type(self)\n",
    "```\n",
    "---"
   ]
  },
  {
   "cell_type": "code",
   "execution_count": 24,
   "metadata": {},
   "outputs": [
    {
     "data": {
      "text/plain": [
       "__main__.MyClass"
      ]
     },
     "execution_count": 24,
     "metadata": {},
     "output_type": "execute_result"
    }
   ],
   "source": [
    "mc.f()"
   ]
  },
  {
   "cell_type": "markdown",
   "metadata": {},
   "source": [
    "`f` の引数である `self` にこのオブジェクトがわたされて、`type(self)` が返されました。`mc.f()` には引数はありません。"
   ]
  },
  {
   "cell_type": "markdown",
   "metadata": {
    "slideshow": {
     "slide_type": "slide"
    }
   },
   "source": [
    "メソッド `f2` を呼び出すには引数が必要です。\n",
    "\n",
    "---\n",
    "```Python\n",
    "    def f2(self, param):\n",
    "        print(self, ':', type(self))\n",
    "        return param\n",
    "```\n",
    "---"
   ]
  },
  {
   "cell_type": "code",
   "execution_count": 30,
   "metadata": {
    "scrolled": true
   },
   "outputs": [
    {
     "name": "stdout",
     "output_type": "stream",
     "text": [
      "<__main__.MyClass object at 0x10a5e0e48> : <class '__main__.MyClass'>\n"
     ]
    },
    {
     "data": {
      "text/plain": [
       "99"
      ]
     },
     "execution_count": 30,
     "metadata": {},
     "output_type": "execute_result"
    }
   ],
   "source": [
    "mc.f2(99)"
   ]
  },
  {
   "cell_type": "markdown",
   "metadata": {},
   "source": [
    "オブジェクト自身 `self` とその型 `type(self)` が print されて、引数がそのまま返されました。"
   ]
  },
  {
   "cell_type": "markdown",
   "metadata": {
    "slideshow": {
     "slide_type": "slide"
    }
   },
   "source": [
    "（メソッドでない）属性の設定は、メソッドの中でも行うことができます。このためには、メソッドの中で、\n",
    "\n",
    "---\n",
    "```Python\n",
    "self.属性名 = 式\n",
    "```\n",
    "\n",
    "---\n",
    "という代入を行えばよいわけです。"
   ]
  },
  {
   "cell_type": "markdown",
   "metadata": {
    "slideshow": {
     "slide_type": "slide"
    }
   },
   "source": [
    "以下では二次元平面上の点を表すオブジェクトのクラス ``Point2D`` を定義します。\n",
    "このクラスのオブジェクトは、`x` と `y` という属性を持ち、それぞれ x 座標と y 座標を表すとします。\n",
    "`set_xy` というメソッドによって、これらの属性が設定されます。"
   ]
  },
  {
   "cell_type": "code",
   "execution_count": 37,
   "metadata": {
    "slideshow": {
     "slide_type": "-"
    }
   },
   "outputs": [],
   "source": [
    "class Point2D:\n",
    "    def set_xy(self,a,b):\n",
    "        self.x = a\n",
    "        self.y = b\n",
    "    def dist_from_origin(self):\n",
    "        return (self.x**2 + self.y**2)**0.5\n",
    "\n",
    "p = Point2D()"
   ]
  },
  {
   "cell_type": "code",
   "execution_count": 27,
   "metadata": {
    "slideshow": {
     "slide_type": "skip"
    }
   },
   "outputs": [
    {
     "data": {
      "text/plain": [
       "<__main__.Point2D at 0x10a5e9f28>"
      ]
     },
     "execution_count": 27,
     "metadata": {},
     "output_type": "execute_result"
    }
   ],
   "source": [
    "p"
   ]
  },
  {
   "cell_type": "code",
   "execution_count": 39,
   "metadata": {},
   "outputs": [],
   "source": [
    "p.set_xy(3,4)"
   ]
  },
  {
   "cell_type": "code",
   "execution_count": 40,
   "metadata": {},
   "outputs": [
    {
     "data": {
      "text/plain": [
       "(3, 4)"
      ]
     },
     "execution_count": 40,
     "metadata": {},
     "output_type": "execute_result"
    }
   ],
   "source": [
    "p.x, p.y"
   ]
  },
  {
   "cell_type": "markdown",
   "metadata": {
    "slideshow": {
     "slide_type": "slide"
    }
   },
   "source": [
    "`dist_from_origin()` というメソッドは、原点からそのオブジェクトが表す点までの距離を返します。\n",
    "その中で、オブジェクトの属性 `x` と `y` を参照しています。\n",
    "\n",
    "---\n",
    "```Python\n",
    "    def dist_from_origin(self):\n",
    "        return (self.x**2 + self.y**2)**0.5\n",
    "```\n",
    "---"
   ]
  },
  {
   "cell_type": "code",
   "execution_count": 33,
   "metadata": {},
   "outputs": [
    {
     "data": {
      "text/plain": [
       "5.0"
      ]
     },
     "execution_count": 33,
     "metadata": {},
     "output_type": "execute_result"
    }
   ],
   "source": [
    "p.dist_from_origin()"
   ]
  },
  {
   "cell_type": "markdown",
   "metadata": {
    "slideshow": {
     "slide_type": "slide"
    }
   },
   "source": [
    "## オブジェクトの初期化\n",
    "多くの場合、オブジェクトの生成にあたって、特定の初期状態が設定されることが望まれます。\n",
    "クラス定義に `__init__()` というメソッドが含まれていれば、オブジェクトの生成時にそれが自動的に呼ばれます。"
   ]
  },
  {
   "cell_type": "markdown",
   "metadata": {
    "slideshow": {
     "slide_type": "slide"
    }
   },
   "source": [
    "以下のクラス `Point2DInitialized0` では、オブジェクトの生成時に属性 `x` と `y` が 0 に設定されます。\n",
    "繰り返しますが、メソッドの最初の引数にはオブジェクト自身がわたされ、これに対応する名前として `self` を使っています。"
   ]
  },
  {
   "cell_type": "code",
   "execution_count": 34,
   "metadata": {
    "slideshow": {
     "slide_type": "-"
    }
   },
   "outputs": [],
   "source": [
    "class Point2DInitialized0:\n",
    "    def __init__(self):\n",
    "        self.x = 0          # self は生成されたオブジェクト、ここでは self に x, y 属性を追加している\n",
    "        self.y = 0          # \n",
    "    def dist_from_origin(self):\n",
    "        return (self.x**2 + self.y**2)**0.5\n",
    "\n",
    "p0 = Point2DInitialized0()"
   ]
  },
  {
   "cell_type": "code",
   "execution_count": 35,
   "metadata": {
    "slideshow": {
     "slide_type": "skip"
    }
   },
   "outputs": [
    {
     "data": {
      "text/plain": [
       "<__main__.Point2DInitialized0 at 0x10a576518>"
      ]
     },
     "execution_count": 35,
     "metadata": {},
     "output_type": "execute_result"
    }
   ],
   "source": [
    "p0"
   ]
  },
  {
   "cell_type": "markdown",
   "metadata": {},
   "source": [
    "属性 `x` と `y` は、両方とも 0 に初期化されています。"
   ]
  },
  {
   "cell_type": "code",
   "execution_count": 36,
   "metadata": {},
   "outputs": [
    {
     "data": {
      "text/plain": [
       "(0, 0)"
      ]
     },
     "execution_count": 36,
     "metadata": {},
     "output_type": "execute_result"
    }
   ],
   "source": [
    "p0.x, p0.y"
   ]
  },
  {
   "cell_type": "markdown",
   "metadata": {
    "slideshow": {
     "slide_type": "slide"
    }
   },
   "source": [
    "## 引数による初期化\n",
    "初期化の際に、`__init__()`に引数をわたして、オブジェクト生成時の初期状態として設定することもできます。具体的には、生成時に与えられる引数が`__init_()`にわたされます。\n",
    "以下のクラス `Point2DInitialized` は生成時に x 座標と y 座標を与えるクラスです。"
   ]
  },
  {
   "cell_type": "code",
   "execution_count": 41,
   "metadata": {
    "slideshow": {
     "slide_type": "-"
    }
   },
   "outputs": [],
   "source": [
    "class Point2DInitialized:\n",
    "    def __init__(self, x, y):\n",
    "        self.x = x\n",
    "        self.y = y\n",
    "    def dist_from_origin(self):\n",
    "        return (self.x**2 + self.y**2)**0.5\n",
    "\n",
    "p1 = Point2DInitialized(3, 4)"
   ]
  },
  {
   "cell_type": "code",
   "execution_count": 42,
   "metadata": {
    "slideshow": {
     "slide_type": "skip"
    }
   },
   "outputs": [
    {
     "data": {
      "text/plain": [
       "<__main__.Point2DInitialized at 0x10a4bc908>"
      ]
     },
     "execution_count": 42,
     "metadata": {},
     "output_type": "execute_result"
    }
   ],
   "source": [
    "p1"
   ]
  },
  {
   "cell_type": "code",
   "execution_count": 43,
   "metadata": {},
   "outputs": [
    {
     "data": {
      "text/plain": [
       "(3, 4)"
      ]
     },
     "execution_count": 43,
     "metadata": {},
     "output_type": "execute_result"
    }
   ],
   "source": [
    "p1.x, p1.y"
   ]
  },
  {
   "cell_type": "code",
   "execution_count": 44,
   "metadata": {
    "slideshow": {
     "slide_type": "skip"
    }
   },
   "outputs": [
    {
     "data": {
      "text/plain": [
       "5.0"
      ]
     },
     "execution_count": 44,
     "metadata": {},
     "output_type": "execute_result"
    }
   ],
   "source": [
    "p1.dist_from_origin()"
   ]
  },
  {
   "cell_type": "markdown",
   "metadata": {
    "slideshow": {
     "slide_type": "slide"
    }
   },
   "source": [
    "`__init__` の引数として `self` に加えて `x` と `y` が指定されています。\n",
    "\n",
    "---\n",
    "```Python\n",
    "self.x = x\n",
    "```\n",
    "\n",
    "---\n",
    "という代入文の右辺では `x` という引数が参照されています。引数 `x` の値が、オブジェクトの `x` という属性に設定されています。（Pythonのプログラムではこのように属性名と引数名を同じにすることが多いようです。） "
   ]
  },
  {
   "cell_type": "markdown",
   "metadata": {
    "slideshow": {
     "slide_type": "slide"
    }
   },
   "source": [
    "# 予習課題\n",
    "\n",
    "以下のように、三次元空間の点を表すオブジェクトのクラス `Point3D` を定義してください。\n",
    "\n",
    "1. このクラスのオブジェクトは `x`、`y`、`z` を属性として持ち、\n",
    "それぞれ x 座標、y 座標、z 座標を表します。\n",
    "これらの属性はオブジェクト生成時に与える引数で初期化されます。\n",
    "2. 原点からの距離を返す `distance_from_origin()` というメソッドを持ちます。\n",
    "3. クラス `Point3D` の別のオブジェクト q が与えられたときに、q の属性 `x`、`y`、`z` を、\n",
    "それぞれ `self` の属性 `x`、`y`、`z` に設定する `set` というメソッドを持ちます。"
   ]
  },
  {
   "cell_type": "markdown",
   "metadata": {
    "slideshow": {
     "slide_type": "slide"
    }
   },
   "source": [
    "たとえば、\n",
    "\n",
    "---\n",
    "```Python\n",
    "p = Point3D(0,0,0)\n",
    "q = Point3D(3,4,5)\n",
    "p.set(q)\n",
    "print(p.x, p.y, p.z)\n",
    "```\n",
    "---\n",
    "とすると、`3 4 5` と print されます。\n"
   ]
  },
  {
   "cell_type": "code",
   "execution_count": 49,
   "metadata": {
    "slideshow": {
     "slide_type": "skip"
    }
   },
   "outputs": [
    {
     "name": "stdout",
     "output_type": "stream",
     "text": [
      "3 4 5\n"
     ]
    }
   ],
   "source": [
    "class Point3D:\n",
    "    def __init__(self,x,y,z):\n",
    "        self.x = x\n",
    "        self.y = y\n",
    "        self.z = z\n",
    "    def distance_from_origin(self):\n",
    "        return (self.x**2 + self.y**2 + self.z**2)**0.5\n",
    "    def set(self,q):\n",
    "        self.x = q.x\n",
    "        self.y = q.y\n",
    "        self.z = q.z\n",
    "        \n",
    "p = Point3D(0,0,0)\n",
    "q = Point3D(3,4,5)\n",
    "p.set(q)\n",
    "print(p.x, p.y, p.z)"
   ]
  },
  {
   "cell_type": "markdown",
   "metadata": {
    "slideshow": {
     "slide_type": "slide"
    }
   },
   "source": [
    "# 属性の検査、追加、変更、削除（組み込み関数による方法）\n",
    "\n",
    "組み込み関数 `hasattr()` は属性の有無を検査する組み込み関数です。\n",
    "属性が存在すれば `True`、存在しなければ `False` を返します。\n",
    "たとえば、以下では、属性 `ec.name` の有無を検査しています。"
   ]
  },
  {
   "cell_type": "code",
   "execution_count": null,
   "metadata": {},
   "outputs": [],
   "source": [
    "ec.name = 'foo'"
   ]
  },
  {
   "cell_type": "code",
   "execution_count": null,
   "metadata": {},
   "outputs": [],
   "source": [
    "hasattr(ec, 'name')"
   ]
  },
  {
   "cell_type": "markdown",
   "metadata": {
    "slideshow": {
     "slide_type": "slide"
    }
   },
   "source": [
    "`del　ec.name` によって属性を削除すると、以下のようになります。"
   ]
  },
  {
   "cell_type": "code",
   "execution_count": null,
   "metadata": {},
   "outputs": [],
   "source": [
    "del ec.name"
   ]
  },
  {
   "cell_type": "code",
   "execution_count": null,
   "metadata": {},
   "outputs": [],
   "source": [
    "hasattr(ec, 'name')"
   ]
  },
  {
   "cell_type": "markdown",
   "metadata": {
    "slideshow": {
     "slide_type": "slide"
    }
   },
   "source": [
    "さらに、属性の操作を行うために、以下のような組み込み関数を使うことができます。\n",
    "\n",
    "---\n",
    "```Python\n",
    "setattr(オブジェクト, 属性文字列, 式)    # 追加・変更\n",
    "delattr(オブジェクト, 属性文字列)        # 削除\n",
    "```\n",
    "---\n",
    "\n",
    "これらの組み込み関数により、属性の名前がプログラムを実行してから定まるときにも、属性の操作することができます。\n",
    "すなわち、上の属性文字列を書くべきところで、文字列に評価される式を書くことができます。"
   ]
  },
  {
   "cell_type": "code",
   "execution_count": null,
   "metadata": {
    "slideshow": {
     "slide_type": "slide"
    }
   },
   "outputs": [],
   "source": [
    "setattr(ec, 'na'+'me', 'bar')"
   ]
  },
  {
   "cell_type": "code",
   "execution_count": null,
   "metadata": {},
   "outputs": [],
   "source": [
    "ec.name"
   ]
  },
  {
   "cell_type": "code",
   "execution_count": null,
   "metadata": {},
   "outputs": [],
   "source": [
    "delattr(ec, 'NAME'.lower())"
   ]
  },
  {
   "cell_type": "code",
   "execution_count": null,
   "metadata": {},
   "outputs": [],
   "source": [
    "ec.name"
   ]
  },
  {
   "cell_type": "markdown",
   "metadata": {
    "slideshow": {
     "slide_type": "skip"
    }
   },
   "source": [
    "# [参考] クラス変数\n",
    "\n",
    "以下の例のように、クラス定義の直下で変数に代入を行うと、\n",
    "その変数は\n",
    "\n",
    "---\n",
    "```Python\n",
    "クラス名.変数名\n",
    "```\n",
    "---\n",
    "によって参照することができます。\n",
    "このような変数をクラス変数と呼びます。"
   ]
  },
  {
   "cell_type": "code",
   "execution_count": null,
   "metadata": {
    "slideshow": {
     "slide_type": "skip"
    }
   },
   "outputs": [],
   "source": [
    "class StrangeClass:\n",
    "    n = 1\n",
    "    def foo(self):\n",
    "        self.n = 3"
   ]
  },
  {
   "cell_type": "code",
   "execution_count": null,
   "metadata": {
    "slideshow": {
     "slide_type": "skip"
    }
   },
   "outputs": [],
   "source": [
    "StrangeClass.n"
   ]
  },
  {
   "cell_type": "markdown",
   "metadata": {
    "slideshow": {
     "slide_type": "skip"
    }
   },
   "source": [
    "そのクラスのオブジェクトを作ると、クラス変数は、オブジェクトの属性としても参照できます。"
   ]
  },
  {
   "cell_type": "code",
   "execution_count": null,
   "metadata": {
    "slideshow": {
     "slide_type": "skip"
    }
   },
   "outputs": [],
   "source": [
    "sc = StrangeClass()"
   ]
  },
  {
   "cell_type": "code",
   "execution_count": null,
   "metadata": {
    "slideshow": {
     "slide_type": "skip"
    }
   },
   "outputs": [],
   "source": [
    "sc.n"
   ]
  },
  {
   "cell_type": "markdown",
   "metadata": {
    "slideshow": {
     "slide_type": "skip"
    }
   },
   "source": [
    "ところが、その属性の値を変更すると"
   ]
  },
  {
   "cell_type": "code",
   "execution_count": null,
   "metadata": {
    "slideshow": {
     "slide_type": "skip"
    }
   },
   "outputs": [],
   "source": [
    "sc.n = 3"
   ]
  },
  {
   "cell_type": "markdown",
   "metadata": {
    "slideshow": {
     "slide_type": "skip"
    }
   },
   "source": [
    "以下のように、もとのクラス変数とオブジェクトの属性は別ものになるのです。"
   ]
  },
  {
   "cell_type": "code",
   "execution_count": null,
   "metadata": {
    "slideshow": {
     "slide_type": "skip"
    }
   },
   "outputs": [],
   "source": [
    "StrangeClass.n"
   ]
  },
  {
   "cell_type": "code",
   "execution_count": null,
   "metadata": {
    "slideshow": {
     "slide_type": "skip"
    }
   },
   "outputs": [],
   "source": [
    "sc.n"
   ]
  },
  {
   "cell_type": "markdown",
   "metadata": {
    "slideshow": {
     "slide_type": "skip"
    }
   },
   "source": [
    "メソッドの中で属性の値を変更しても同じです。"
   ]
  },
  {
   "cell_type": "code",
   "execution_count": null,
   "metadata": {
    "slideshow": {
     "slide_type": "skip"
    }
   },
   "outputs": [],
   "source": [
    "sc1 = StrangeClass()"
   ]
  },
  {
   "cell_type": "code",
   "execution_count": null,
   "metadata": {
    "slideshow": {
     "slide_type": "skip"
    }
   },
   "outputs": [],
   "source": [
    "sc1.n"
   ]
  },
  {
   "cell_type": "code",
   "execution_count": null,
   "metadata": {
    "slideshow": {
     "slide_type": "skip"
    }
   },
   "outputs": [],
   "source": [
    "sc1.foo()"
   ]
  },
  {
   "cell_type": "code",
   "execution_count": null,
   "metadata": {
    "slideshow": {
     "slide_type": "skip"
    }
   },
   "outputs": [],
   "source": [
    "StrangeClass.n"
   ]
  },
  {
   "cell_type": "code",
   "execution_count": null,
   "metadata": {
    "slideshow": {
     "slide_type": "skip"
    }
   },
   "outputs": [],
   "source": [
    "sc1.n"
   ]
  },
  {
   "cell_type": "markdown",
   "metadata": {
    "slideshow": {
     "slide_type": "skip"
    }
   },
   "source": [
    "クラス変数の値を変更してみます。"
   ]
  },
  {
   "cell_type": "code",
   "execution_count": null,
   "metadata": {
    "slideshow": {
     "slide_type": "skip"
    }
   },
   "outputs": [],
   "source": [
    "StrangeClass.n = 10"
   ]
  },
  {
   "cell_type": "code",
   "execution_count": null,
   "metadata": {
    "slideshow": {
     "slide_type": "skip"
    }
   },
   "outputs": [],
   "source": [
    "sc2 = StrangeClass()"
   ]
  },
  {
   "cell_type": "code",
   "execution_count": null,
   "metadata": {
    "slideshow": {
     "slide_type": "skip"
    }
   },
   "outputs": [],
   "source": [
    "sc2.n"
   ]
  },
  {
   "cell_type": "code",
   "execution_count": null,
   "metadata": {
    "slideshow": {
     "slide_type": "skip"
    }
   },
   "outputs": [],
   "source": [
    "sc2.foo()"
   ]
  },
  {
   "cell_type": "code",
   "execution_count": null,
   "metadata": {
    "slideshow": {
     "slide_type": "skip"
    }
   },
   "outputs": [],
   "source": [
    "sc2.n"
   ]
  },
  {
   "cell_type": "code",
   "execution_count": null,
   "metadata": {
    "slideshow": {
     "slide_type": "skip"
    }
   },
   "outputs": [],
   "source": []
  }
 ],
 "metadata": {
  "kernelspec": {
   "display_name": "Python 3",
   "language": "python",
   "name": "python3"
  },
  "language_info": {
   "codemirror_mode": {
    "name": "ipython",
    "version": 3
   },
   "file_extension": ".py",
   "mimetype": "text/x-python",
   "name": "python",
   "nbconvert_exporter": "python",
   "pygments_lexer": "ipython3",
   "version": "3.6.4"
  }
 },
 "nbformat": 4,
 "nbformat_minor": 2
}
