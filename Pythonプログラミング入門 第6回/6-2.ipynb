{
 "cells": [
  {
   "cell_type": "markdown",
   "metadata": {
    "slideshow": {
     "slide_type": "slide"
    }
   },
   "source": [
    "# Pythonプログラミング入門 第6回\n",
    "クラスの継承について説明します"
   ]
  },
  {
   "cell_type": "markdown",
   "metadata": {
    "slideshow": {
     "slide_type": "slide"
    }
   },
   "source": [
    "# クラスの継承、基底・派生クラス\n",
    "\n",
    "6-1 ではユーザが新しくクラスを定義する方法について説明しました。\n",
    "クラスを定義する際にすべてを新しく定義するのではなく、すでに存在する類似したクラスを拡張できれば便利です。\n",
    "そのような拡張はクラスの**継承**によって実現できます。ここで継承されるクラスを基底クラス（あるいは親クラス）、\n",
    "継承したものを派生クラス（あるいは子クラス）と呼びます。  \n",
    "\n",
    "実際、Python では多様な処理をおこなうための強力なソフトウェアフレームワークが用意されています。\n",
    "フレームワークとは、お手本を集めたようなもので、\n",
    "ユーザはお手本と異なるところを手直ししたり追加したりする、すなわちカスタマイズする、ことによって、\n",
    "フレームワークを活用します。\n",
    "このカスタマイズにあたって、ユーザはフレームワーク側で用意された基底クラスを拡張した派生クラスをつくっていく方法が一般的です。"
   ]
  },
  {
   "cell_type": "markdown",
   "metadata": {
    "slideshow": {
     "slide_type": "slide"
    }
   },
   "source": [
    "## 派生クラスの定義\n",
    "\n",
    "基底クラス BaseClass を継承し、派生クラス DerivedClass を定義するには以下のようにおこないます。\n",
    "\n",
    "---\n",
    "```Python\n",
    "class DerivedClass(BaseClass):\n",
    "    派生クラスに関するプログラム文\n",
    "```\n",
    "\n",
    "---\n",
    "\n",
    "派生クラスでは、それの基底クラスの属性・メソッドをそのまま利用できるので、\n",
    "派生クラスに依存した属性・メソッドのみをプログラムすれば良いことになります。"
   ]
  },
  {
   "cell_type": "markdown",
   "metadata": {
    "slideshow": {
     "slide_type": "slide"
    }
   },
   "source": [
    "以下の例では、2 次元平面上の点を表すオブジェクトのクラス `Point2DInitialized`を基底クラスとして、\n",
    "それを継承する派生クラス `Point2DPolar` を定義しています。  \n",
    "`Point2DPolar` ではメソッド `__init__()`, ` dist_from_origin()` や、属性 `x, y` は\n",
    "全く定義していませんが、基底クラスのものをそのまま使うことができます。  \n",
    "もちろん新しく定義したメソッド `r()`, `theta()` も使えます。"
   ]
  },
  {
   "cell_type": "code",
   "execution_count": 1,
   "metadata": {},
   "outputs": [],
   "source": [
    "import math                                 # 逆 cos 関数に必要なため\n",
    "\n",
    "class Point2DInitialized:\n",
    "    def __init__(self, x, y):\n",
    "        self.x = x\n",
    "        self.y = y\n",
    "    def dist_from_origin(self):\n",
    "        return (self.x**2 + self.y**2)**0.5\n",
    "    \n",
    "class Point2DPolar(Point2DInitialized):\n",
    "    def r(self):\n",
    "        return(self.dist_from_origin())\n",
    "    def theta(self):\n",
    "        if self.dist_from_origin != 0:\n",
    "            return math.acos( self.x / self.dist_from_origin())\n",
    "        else:\n",
    "            return 0"
   ]
  },
  {
   "cell_type": "code",
   "execution_count": 2,
   "metadata": {
    "slideshow": {
     "slide_type": "-"
    }
   },
   "outputs": [
    {
     "data": {
      "text/plain": [
       "<__main__.Point2DPolar at 0x106bb8d30>"
      ]
     },
     "execution_count": 2,
     "metadata": {},
     "output_type": "execute_result"
    }
   ],
   "source": [
    "p2p = Point2DPolar(3, 4)\n",
    "p2p"
   ]
  },
  {
   "cell_type": "code",
   "execution_count": 3,
   "metadata": {},
   "outputs": [
    {
     "data": {
      "text/plain": [
       "(3, 4)"
      ]
     },
     "execution_count": 3,
     "metadata": {},
     "output_type": "execute_result"
    }
   ],
   "source": [
    "p2p.x, p2p.y           # Point2DPolar では x, y 属性は定義していないが、基底クラスの属性が使える"
   ]
  },
  {
   "cell_type": "code",
   "execution_count": 4,
   "metadata": {},
   "outputs": [
    {
     "data": {
      "text/plain": [
       "5.0"
      ]
     },
     "execution_count": 4,
     "metadata": {},
     "output_type": "execute_result"
    }
   ],
   "source": [
    "p2p.dist_from_origin() # メソッドも基底クラスのものが使える"
   ]
  },
  {
   "cell_type": "code",
   "execution_count": 5,
   "metadata": {},
   "outputs": [
    {
     "data": {
      "text/plain": [
       "5.0"
      ]
     },
     "execution_count": 5,
     "metadata": {},
     "output_type": "execute_result"
    }
   ],
   "source": [
    "p2p.r()                # 新しく定義したメソッド r()"
   ]
  },
  {
   "cell_type": "code",
   "execution_count": 6,
   "metadata": {},
   "outputs": [
    {
     "data": {
      "text/plain": [
       "0.9272952180016123"
      ]
     },
     "execution_count": 6,
     "metadata": {},
     "output_type": "execute_result"
    }
   ],
   "source": [
    "p2p.theta()"
   ]
  },
  {
   "cell_type": "markdown",
   "metadata": {
    "slideshow": {
     "slide_type": "slide"
    }
   },
   "source": [
    "## 属性・メソッドの上書き\n",
    "\n",
    "派生クラスで基底クラスの属性・メソッドを上書き（オーバーライド）することもできます。\n",
    "以下の例では `dist_from_origin` を演算子 `**` を利用したものから、\n",
    "数学関数モジュールの平方根を求める関数 `math.sqrt()`に置き換えています。"
   ]
  },
  {
   "cell_type": "code",
   "execution_count": 7,
   "metadata": {},
   "outputs": [],
   "source": [
    "import math\n",
    "\n",
    "class Point2DPolar2(Point2DPolar):\n",
    "    def dist_from_origin(self):\n",
    "        print(\"new dist_from_origin\")\n",
    "        return math.sqrt(self.x**2 + self.y**2)"
   ]
  },
  {
   "cell_type": "code",
   "execution_count": 8,
   "metadata": {},
   "outputs": [
    {
     "name": "stdout",
     "output_type": "stream",
     "text": [
      "new dist_from_origin\n"
     ]
    },
    {
     "data": {
      "text/plain": [
       "5.0"
      ]
     },
     "execution_count": 8,
     "metadata": {},
     "output_type": "execute_result"
    }
   ],
   "source": [
    "p2p2 = Point2DPolar2(3, 4)\n",
    "p2p2.dist_from_origin()"
   ]
  },
  {
   "cell_type": "markdown",
   "metadata": {
    "slideshow": {
     "slide_type": "slide"
    }
   },
   "source": [
    "## 基底クラスのメソッド呼び出し\n",
    "\n",
    "派生クラスのメソッドから基底クラスのメソッド・属性を呼びだしたいことはよくあります。\n",
    "このような場合組み込み関数 `super()`を利用します。"
   ]
  },
  {
   "cell_type": "markdown",
   "metadata": {},
   "source": [
    "以下は `Point2DPolar` を継承したクラス、`Point2DCached` の例です。\n",
    "`Point2DCached` では `x, y` が与えられる初期化時に極座標も先に計算します。\n",
    "\n",
    "派生クラス `Point2DCached`では初期化メソッド `__init__()`　を置き換えており、\n",
    "その中で基底クラスの初期化メソッドを `super().__init__()` を使って呼び出しています。"
   ]
  },
  {
   "cell_type": "code",
   "execution_count": 9,
   "metadata": {},
   "outputs": [],
   "source": [
    "class Point2DCached(Point2DPolar):\n",
    "    def __init__(self, x, y):\n",
    "        super().__init__(x, y)\n",
    "        self.r_c = (x*x + y*y)**0.5\n",
    "        self.theta_c = self.theta()\n",
    "    def dist_from_origin(self):\n",
    "        return self.r_c"
   ]
  },
  {
   "cell_type": "code",
   "execution_count": 10,
   "metadata": {},
   "outputs": [
    {
     "data": {
      "text/plain": [
       "(3, 4)"
      ]
     },
     "execution_count": 10,
     "metadata": {},
     "output_type": "execute_result"
    }
   ],
   "source": [
    "p2c = Point2DCached(3, 4)\n",
    "p2c.x, p2c.y"
   ]
  },
  {
   "cell_type": "code",
   "execution_count": 11,
   "metadata": {},
   "outputs": [
    {
     "data": {
      "text/plain": [
       "(5.0, 0.9272952180016123)"
      ]
     },
     "execution_count": 11,
     "metadata": {},
     "output_type": "execute_result"
    }
   ],
   "source": [
    "p2c.r_c, p2c.theta_c"
   ]
  },
  {
   "cell_type": "markdown",
   "metadata": {
    "slideshow": {
     "slide_type": "slide"
    }
   },
   "source": [
    "## クラスとイテレータ\n",
    "\n",
    "これまで説明したように `for` 文を用いることで、プログラムはリスト・辞書といったデータ構造やファイルにわたって反復的にアクセスすることができます。\n",
    "\n",
    "---\n",
    "```Python\n",
    "for i in [1, 2, 3, 4]:\n",
    "    print(i)\n",
    "\n",
    "for line in open(\"myfile,txt\"):\n",
    "   print(line)\n",
    "\n",
    "```\n",
    "\n",
    "`for` 文では、第4回に説明した組み込み関数 `iter()` を呼び、イテラブルオブジェクトからイテレータを作成します。\n",
    "その後 `next()` を繰り返し呼び、要素を一つずつ取り出しています。\n",
    "\n",
    "ここでは、このような反復処理をサポートするクラスの定義方法を説明します。\n",
    "これには、２つのメソッド`__iter__()` と `__next__()` を定義します。\n",
    "\n",
    "前者の `__iter__()`はオブジェクトに対応するイテレータを返します。\n",
    "クラスで `__next__()` が定義されていればオブジェクトそのもの、すなわち `self`を返します。\n",
    "\n",
    "後者の `__next__()` は、呼ばれるたびにデータを一つずつ返します。返すデータがなくなれば、`raise StopIteration`\n",
    "で例外（エラー）を送出します。\n",
    "例外を受けプログラムは `for`ループの繰り返しから脱けます。"
   ]
  },
  {
   "cell_type": "markdown",
   "metadata": {
    "slideshow": {
     "slide_type": "slide"
    }
   },
   "source": [
    "具体例として、以下の折れ線を扱うクラス`Chain`を考えます。\n",
    "`Chain` は座標 $(p_1, p_2, ...)$ を要素とする `series` 属性をもちます。"
   ]
  },
  {
   "cell_type": "code",
   "execution_count": 12,
   "metadata": {},
   "outputs": [],
   "source": [
    "class Chain():\n",
    "    def __init__(self, series):\n",
    "        self.series = series\n",
    "        self.index = 0\n",
    "    def __iter__(self):\n",
    "        return self\n",
    "    def __next__(self):\n",
    "        if self.index == len(self.series):\n",
    "            raise StopIteration\n",
    "        self.index += 1\n",
    "        return self.series[self.index - 1]"
   ]
  },
  {
   "cell_type": "markdown",
   "metadata": {},
   "source": [
    "ここで、オブジェクトを生成し `for` ループでアクセスしてみます。"
   ]
  },
  {
   "cell_type": "code",
   "execution_count": 13,
   "metadata": {},
   "outputs": [
    {
     "name": "stdout",
     "output_type": "stream",
     "text": [
      "(0, 0)\n",
      "(0, 1)\n",
      "(1, 1)\n",
      "(1, 0)\n"
     ]
    }
   ],
   "source": [
    "ch = Chain([(0,0), (0,1), (1,1), (1,0)])\n",
    "for p in ch:\n",
    "    print(p)"
   ]
  },
  {
   "cell_type": "markdown",
   "metadata": {},
   "source": [
    "ただし、一度繰り返しが終了すると、属性 `Chain.index` が最大値となっているためもう繰り返しはおこないません。"
   ]
  },
  {
   "cell_type": "code",
   "execution_count": 15,
   "metadata": {},
   "outputs": [],
   "source": [
    "for p in ch:\n",
    "    print(p)"
   ]
  },
  {
   "cell_type": "markdown",
   "metadata": {
    "slideshow": {
     "slide_type": "slide"
    }
   },
   "source": [
    "## 継承関係を検査する関数\n",
    "\n",
    "`issubclass(clas1, class2)` は `class1` が `class2` の継承関係を検査する組み込み関数です:"
   ]
  },
  {
   "cell_type": "code",
   "execution_count": 16,
   "metadata": {},
   "outputs": [
    {
     "data": {
      "text/plain": [
       "True"
      ]
     },
     "execution_count": 16,
     "metadata": {},
     "output_type": "execute_result"
    }
   ],
   "source": [
    "issubclass(Point2DCached, Point2DPolar)       # Point2DCached は　Point2DPolar を継承している"
   ]
  },
  {
   "cell_type": "code",
   "execution_count": 17,
   "metadata": {},
   "outputs": [
    {
     "data": {
      "text/plain": [
       "False"
      ]
     },
     "execution_count": 17,
     "metadata": {},
     "output_type": "execute_result"
    }
   ],
   "source": [
    "issubclass(Point2DPolar, Point2DCached)       # 逆は正しくない"
   ]
  },
  {
   "cell_type": "code",
   "execution_count": 18,
   "metadata": {},
   "outputs": [
    {
     "data": {
      "text/plain": [
       "True"
      ]
     },
     "execution_count": 18,
     "metadata": {},
     "output_type": "execute_result"
    }
   ],
   "source": [
    "issubclass(Point2DCached, Point2DInitialized) # 継承関係が入れ子になっていても検査できます"
   ]
  },
  {
   "cell_type": "markdown",
   "metadata": {
    "slideshow": {
     "slide_type": "skip"
    }
   },
   "source": [
    "## 予習課題\n",
    "以下のセルに講義情報をあつかうクラス `SimpleCourse` クラスを定義しています。\n",
    "このクラスでは、日本語タイトル・日本語教員名・開講時間を属性として持ちます。\n",
    "\n",
    "これの派生クラスとして、以下の条件を満たす `SimpleCourseE`を作成してください:\n",
    "\n",
    "1. 英語タイトル(title)・英語教員名(name)属性もオブジェクト生成時に初期化する。\n",
    "    オブジェクト生成時の引数の与え方は以下を参考にしてください。\n",
    "1. 2 つのメソッド、英語タイトル・英語教員名を文字列として返す `info_e()` と、日本語タイトル・日本語教員名を返す `info_j()` を実装してください。\n",
    "    返り値の形式は `(タイトル、教員名)`の tuple としてください。\n",
    "\n",
    "---\n",
    "```Python\n",
    "\n",
    "sce = SimpleCourseE(\"コンピュータシステム概論\", \"Overview of Computer Systems\", \"小林克志\", \"Katsushi Kobayashi\",\"木5\")\n",
    "\n",
    "```\n",
    "---"
   ]
  },
  {
   "cell_type": "code",
   "execution_count": 53,
   "metadata": {},
   "outputs": [],
   "source": [
    "class SimpleCourse:\n",
    "    def __init__(self, title_j, name_j, slot):\n",
    "        self.title_j = title_j\n",
    "        self.name_j = name_j\n",
    "        self.slot = slot\n",
    "\n",
    "sc = SimpleCourse(\"コンピュータシステム概論\", \"小林克志\", \"木5\")\n",
    "\n",
    "class SimpleCourseE(SimpleCourse):\n",
    "    def __init__(self, title_j, title_e, name_j, name_e, slot):\n",
    "        super().__init__(title_j, name_j, slot)\n",
    "        self.title_e = title_e\n",
    "        self.name_e = name_e\n",
    "    def info_e(self):\n",
    "        return (self.title_e, self.name_e)\n",
    "    def info_j(self):\n",
    "        return (self.title_j, self.name_j)\n",
    "    \n",
    "sce = SimpleCourseE(\"コンピュータシステム概論\", \"Overview of Computer Systems\", \"小林克志\", \"Katsushi Kobayashi\",\"木5\")"
   ]
  },
  {
   "cell_type": "code",
   "execution_count": 54,
   "metadata": {},
   "outputs": [
    {
     "data": {
      "text/plain": [
       "('コンピュータシステム概論', '小林克志')"
      ]
     },
     "execution_count": 54,
     "metadata": {},
     "output_type": "execute_result"
    }
   ],
   "source": [
    "sce.info_j()"
   ]
  },
  {
   "cell_type": "code",
   "execution_count": 55,
   "metadata": {},
   "outputs": [
    {
     "data": {
      "text/plain": [
       "('Overview of Computer Systems', 'Katsushi Kobayashi')"
      ]
     },
     "execution_count": 55,
     "metadata": {},
     "output_type": "execute_result"
    }
   ],
   "source": [
    "sce.info_e()"
   ]
  },
  {
   "cell_type": "code",
   "execution_count": null,
   "metadata": {},
   "outputs": [],
   "source": []
  }
 ],
 "metadata": {
  "kernelspec": {
   "display_name": "Python 3",
   "language": "python",
   "name": "python3"
  },
  "language_info": {
   "codemirror_mode": {
    "name": "ipython",
    "version": 3
   },
   "file_extension": ".py",
   "mimetype": "text/x-python",
   "name": "python",
   "nbconvert_exporter": "python",
   "pygments_lexer": "ipython3",
   "version": "3.6.4"
  }
 },
 "nbformat": 4,
 "nbformat_minor": 2
}
