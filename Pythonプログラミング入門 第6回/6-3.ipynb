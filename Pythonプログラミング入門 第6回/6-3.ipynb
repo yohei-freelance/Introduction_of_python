{
 "cells": [
  {
   "cell_type": "markdown",
   "metadata": {
    "slideshow": {
     "slide_type": "slide"
    }
   },
   "source": [
    "# Pythonプログラミング入門 第6回\n",
    "Python 実行ファイルとモジュールについて説明します"
   ]
  },
  {
   "cell_type": "markdown",
   "metadata": {
    "slideshow": {
     "slide_type": "slide"
    }
   },
   "source": [
    "# Python プログラムファイル\n",
    "この講義ではこれまで、プログラムを jupyter-notebook （拡張子 .ipynb）のコードセル（Code）に書き込むスタイルを採ってきました。\n",
    "jupyter-notebook では、コードセルに加え、文書セル（Markdown）、出力結果を json 形式で保存しています。\n",
    "この形式は学習には適していますが、Python で標準的に使われるプログラムファイル形式ではありません。\n",
    "\n",
    "Python の標準プログラム形式（拡張子 .py）では Python プログラム、すなわち jupyter-notebook におけるコードセルの内容を記述します。\n",
    "オペレーティングシステム（実際にはシェル）から Python プログラム、例えば `foo.py` を実行するには、以下のようにします。（もちろん `python` は実行パスに入っている必要があります）\n",
    "\n",
    "---\n",
    "```console\n",
    "$ python foo.py\n",
    "あるいは\n",
    "$ python3 foo.py\n",
    "```\n",
    "\n",
    "---"
   ]
  },
  {
   "cell_type": "markdown",
   "metadata": {
    "slideshow": {
     "slide_type": "slide"
    }
   },
   "source": [
    "## プログラムファイルの文字コード\n",
    "\n",
    "Python の標準プログラム形式では、ヘッダ行が定義されておりプログラムで使用する文字コードや、Unix 環境では Python インタープリタのファイルパスなどを記述します。\n",
    "Python の標準文字コードは UTF-8 (Unicode) ですが、これに代えて Windows などで使われてきた Shift_JIS を利用する場合は、先頭行に以下を記述します。\n",
    "\n",
    "---\n",
    "```Python\n",
    "# -*- coding: shift_jis -*-\n",
    "```\n",
    "\n",
    "---\n",
    "\n",
    "Unix ではプログラムスクリプトの先頭行には、そのスクリプトを読み込むインタプリタを指定します（shebang 行）。\n",
    "このケースでは先頭行は例えば、以下のようになります。\n",
    "\n",
    "---\n",
    "```Python\n",
    "#!/usr/bin/env python3\n",
    "# -*- coding: shift_jis -*-\n",
    "```\n",
    "\n",
    "---"
   ]
  },
  {
   "cell_type": "markdown",
   "metadata": {
    "slideshow": {
     "slide_type": "slide"
    }
   },
   "source": [
    "## jupyter-notebook で Python プログラム (.py) をあつかう\n",
    "\n",
    "jupyter-notebook で Python プログラムをあつかうには大きく２種類の方法があります。\n",
    "\n",
    "1. jupyter-notebook で直接 Python プログラム(.py)を開く\n",
    "1. jupyter-notebook を Python プログラム(.py)に変換する"
   ]
  },
  {
   "cell_type": "markdown",
   "metadata": {
    "slideshow": {
     "slide_type": "subslide"
    }
   },
   "source": [
    "### jupyter-notebook で Python プログラムを開く\n",
    "jupyter-notebook で直接 Python プログラムファイルを開くには、\n",
    "（jupyter-notebook 起動時に表示される）ファイルマネージャ画面で、`New -> Text file` を選択すると、エディタ画面に遷移します。\n",
    "その後、`File -> Rename` あるいはファイル名を直接クリックして .py 拡張子をもつファイル名として保存します。\n",
    "実際には、セルで動作を確認したプログラムスクリプトをクリップボードにコピー、ここのエディタにペーストするという方法が現実的と思われます。"
   ]
  },
  {
   "cell_type": "markdown",
   "metadata": {
    "slideshow": {
     "slide_type": "subslide"
    }
   },
   "source": [
    "### jupyter-notebook 形式を Python プログラム(.py)に変換する\n",
    "講義で利用している jupyter-notebook を .py としてセーブするには、`File -> Download as -> Python(.py)`を選択します。\n",
    "そうすると、コードセルだけがプログラム行として有効になり、その他の行は `#` でコメントアウトされた Python プログラムファイルがダウンロードファイルに生成されます。環境によっては、`.py` ではなく `.html` ファイルとして保存されるかもしれませんが、ファイル名を変更すれば Python プログラムファイルとして利用できます。\n",
    "後者の方法は、全てのコードセルの内容を一度に実行するプログラムとして保存されます。jupyter-notebook のようにセル単位の実行とはならないことに注意する必要があります。"
   ]
  },
  {
   "cell_type": "markdown",
   "metadata": {
    "slideshow": {
     "slide_type": "subslide"
    }
   },
   "source": [
    "**ここでは jupyter-notebook で Python プログラムファイルを作成する方法を紹介しましたが、\n",
    "使い慣れているエディタがあればそちらを使ってもかまいません。**"
   ]
  },
  {
   "cell_type": "markdown",
   "metadata": {
    "slideshow": {
     "slide_type": "slide"
    }
   },
   "source": [
    "## プログラムへの引数の渡し方\n",
    "Python プログラムファイル(.py)の実行時には、パラメータとして引数を与えることができます。  \n",
    "引数は、`sys` モジュールの `argv` 変数にリストとして格納されます。\n",
    "以下のプログラムはコマンドラインに与えられた引数を出力します。\n",
    "\n",
    "---\n",
    "```Python:argsprint.py\n",
    "from sys import argv\n",
    "for i, arg in enumerate(argv):\n",
    "    print(i,\":\", arg)\n",
    "```\n",
    "\n",
    "---\n",
    "これを実行すると、以下のように出力されます。\n",
    "リストの最初の要素には、プログラム名そのものが格納されることに注意してください。\n",
    "\n",
    "---\n",
    "```console\n",
    "$ python argsprint.py foo bar baz\n",
    "0 : argsprint.py\n",
    "1 : foo\n",
    "2 : bar\n",
    "3 : baz\n",
    "$\n",
    "```\n",
    "\n",
    "---"
   ]
  },
  {
   "cell_type": "markdown",
   "metadata": {
    "slideshow": {
     "slide_type": "slide"
    }
   },
   "source": [
    "# モジュール\n",
    "\n",
    "プログラムが大きくなるとそれを複数のファイルに分割した方がプログラム開発・維持が簡単になります。\n",
    "また一度定義した便利な関数・クラスを別のプログラムで再利用するにもファイル分割が必要となります。\n",
    "Python ではプログラムをモジュール単位で複数のファイルに分割することができます。\n",
    "\n",
    "以下が記述された simpleutcourse.py というモジュールを読み込む場合を説明します。\n",
    "\n",
    "---\n",
    "```Python:simpleutcourse.py\n",
    "class SimpleCourse:\n",
    "    def __init__(self):\n",
    "        self.students = []\n",
    "    def add_member(self, id):\n",
    "        self.students.append(id)\n",
    "        \n",
    "class SimpleUTCourse(SimpleCourse):\n",
    "    def __init__(self, title_j, name_j, year, terms, slot):\n",
    "        super().__init__()\n",
    "        self.title_j = title_j\n",
    "        self.year = year\n",
    "        self.terms = terms\n",
    "        self.slot = slot\n",
    "```\n",
    "\n",
    "---\n",
    "\n",
    "ここで定義されているクラスを利用するには、`import モジュール名（.pyは省略）` と書きます。\n",
    "ここで、モジュールで定義されている関数名・クラス名は `モジュール名.クラス名`となります。"
   ]
  },
  {
   "cell_type": "code",
   "execution_count": 1,
   "metadata": {
    "slideshow": {
     "slide_type": "-"
    }
   },
   "outputs": [
    {
     "name": "stdout",
     "output_type": "stream",
     "text": [
      "['18-1234']\n"
     ]
    }
   ],
   "source": [
    "import simpleutcourse\n",
    "\n",
    "sc = simpleutcourse.SimpleCourse()\n",
    "sc.add_member(\"18-1234\")\n",
    "print(sc.students)"
   ]
  },
  {
   "cell_type": "markdown",
   "metadata": {
    "slideshow": {
     "slide_type": "subslide"
    }
   },
   "source": [
    "モジュール内で定義されている名前を読み込み元のプログラムでそのまま使いたい場合は、以下のように書くことができます。"
   ]
  },
  {
   "cell_type": "code",
   "execution_count": 2,
   "metadata": {},
   "outputs": [
    {
     "name": "stdout",
     "output_type": "stream",
     "text": [
      "['33-1234']\n"
     ]
    }
   ],
   "source": [
    "from simpleutcourse import SimpleCourse, SimpleUTCourse\n",
    "\n",
    "sc1 = SimpleCourse()\n",
    "sc1.add_member(\"33-1234\")\n",
    "print(sc1.students)"
   ]
  },
  {
   "cell_type": "markdown",
   "metadata": {
    "slideshow": {
     "slide_type": "subslide"
    }
   },
   "source": [
    "別の方法として、ワイルドカード`*`を利用する方法もあります。  \n",
    "この方法ではアンダースコア`_`で始まるものを除いた全ての名前が読み込まれるため、明示的に名前を指定する必要はありません。\n",
    "\n",
    "ただしこの方法は推奨されていません。理由は読み込んだモジュール内の未知の名前とプログラム内の名前が衝突する可能性があるためです。"
   ]
  },
  {
   "cell_type": "code",
   "execution_count": 3,
   "metadata": {},
   "outputs": [],
   "source": [
    "from simpleutcourse import *"
   ]
  },
  {
   "cell_type": "markdown",
   "metadata": {
    "slideshow": {
     "slide_type": "subslide"
    }
   },
   "source": [
    "モジュール名が長すぎるなどの理由から別の名前としたい場合は、`as` を利用する方法もあります。"
   ]
  },
  {
   "cell_type": "code",
   "execution_count": 4,
   "metadata": {},
   "outputs": [
    {
     "name": "stdout",
     "output_type": "stream",
     "text": [
      "['18-1234']\n"
     ]
    }
   ],
   "source": [
    "import simpleutcourse as sc\n",
    "\n",
    "sc1 = sc.SimpleCourse()\n",
    "sc1.add_member(\"18-1234\")\n",
    "print(sc1.students)"
   ]
  },
  {
   "cell_type": "markdown",
   "metadata": {
    "slideshow": {
     "slide_type": "slide"
    }
   },
   "source": [
    "## 練習\n",
    "第一回では、数学関数を以下のように import し、`math.sqrt()` 関数を利用していました。\n",
    "\n",
    "---\n",
    "```Python\n",
    "import math\n",
    "print(math.sqrt(2))\n",
    "print(math.sin(math.pi))\n",
    "```\n",
    "\n",
    "---\n",
    "\n",
    "以下のセルのプログラムを `math.変数・関数名`を `変数・関数名`として利用するように書き換えてください。\n",
    "すなわち、`math.sqrt()` に代えて `sqrt()` を `math.pi` に代えて `pi` を使うように修正してください。"
   ]
  },
  {
   "cell_type": "code",
   "execution_count": 8,
   "metadata": {
    "slideshow": {
     "slide_type": "-"
    }
   },
   "outputs": [
    {
     "name": "stdout",
     "output_type": "stream",
     "text": [
      "1.4142135623730951\n",
      "1.2246467991473532e-16\n"
     ]
    }
   ],
   "source": [
    "import math\n",
    "print(math.sqrt(2))\n",
    "print(math.sin(math.pi))"
   ]
  },
  {
   "cell_type": "code",
   "execution_count": 16,
   "metadata": {},
   "outputs": [
    {
     "name": "stdout",
     "output_type": "stream",
     "text": [
      "1.4142135623730951\n",
      "1.2246467991473532e-16\n"
     ]
    }
   ],
   "source": [
    "from math import sqrt, pi, sin\n",
    "\n",
    "print(sqrt(2))\n",
    "print(sin(pi))"
   ]
  },
  {
   "cell_type": "markdown",
   "metadata": {
    "slideshow": {
     "slide_type": "slide"
    }
   },
   "source": [
    "## モジュールの検索パス\n",
    "\n",
    "import されるモジュールは Python インタプリタの検索パスに置く必要があります。\n",
    "当面は自身でつくるモジュールはプログラムファイルと同じディレクトリに置けば問題はありません。\n",
    "検索パスの情報は `sys.path`　変数から取得できます。"
   ]
  },
  {
   "cell_type": "code",
   "execution_count": 7,
   "metadata": {},
   "outputs": [
    {
     "data": {
      "text/plain": [
       "['',\n",
       " '/Users/yohei/anaconda3/lib/python36.zip',\n",
       " '/Users/yohei/anaconda3/lib/python3.6',\n",
       " '/Users/yohei/anaconda3/lib/python3.6/lib-dynload',\n",
       " '/Users/yohei/anaconda3/lib/python3.6/site-packages',\n",
       " '/Users/yohei/anaconda3/lib/python3.6/site-packages/aeosa',\n",
       " '/Users/yohei/anaconda3/lib/python3.6/site-packages/IPython/extensions',\n",
       " '/Users/yohei/.ipython']"
      ]
     },
     "execution_count": 7,
     "metadata": {},
     "output_type": "execute_result"
    }
   ],
   "source": [
    "import sys\n",
    "sys.path"
   ]
  },
  {
   "cell_type": "markdown",
   "metadata": {
    "slideshow": {
     "slide_type": "skip"
    }
   },
   "source": [
    "# 予習課題\n",
    "\n",
    "**この予習課題は、これまで学んだ Python プログラミングだけではなく OS に関する知識も必要となり、\n",
    "難易度が若干高くなっています。  \n",
    "この課題に関しては、講義前にクリアできない場合でも講義の解説後の再提出も受け付けます。**\n",
    "\n",
    "\n",
    "\n",
    "東京大学授業カタログ大学院版、学部前期課程版をそれぞれ `grad-2018.json`、`jd-2018.json` というファイルに用意しました。\n",
    "これらの json ファイルを Python 標準 json モジュールの `json.load()`によって読み込み、教員名`name_j`が\"全教員\"となっている講義情報のみを json として出力するプログラム、filter_all.py を作成してください。\n",
    "\n",
    "ただし、コマンドライン引数によって読み込む授業カタログファイルを指定します。\n",
    "大学院版を読み込む場合は以下のようになります。\n",
    "\n",
    "```console\n",
    "$ python filter_all.py grad-2018.json\n",
    "あるいは\n",
    "$ python3 filter_all.py grad-2018.json\n",
    "```\n",
    "\n",
    "出力する json ファイルのファイル名は、`\"all_\" + 与えたファイル名` としてください。"
   ]
  },
  {
   "cell_type": "code",
   "execution_count": 2,
   "metadata": {},
   "outputs": [
    {
     "ename": "FileNotFoundError",
     "evalue": "[Errno 2] No such file or directory: '-f'",
     "output_type": "error",
     "traceback": [
      "\u001b[0;31m---------------------------------------------------------------------------\u001b[0m",
      "\u001b[0;31mFileNotFoundError\u001b[0m                         Traceback (most recent call last)",
      "\u001b[0;32m<ipython-input-2-8a1c22e771c0>\u001b[0m in \u001b[0;36m<module>\u001b[0;34m()\u001b[0m\n\u001b[1;32m      2\u001b[0m \u001b[0;32mimport\u001b[0m \u001b[0mjson\u001b[0m\u001b[0;34m\u001b[0m\u001b[0m\n\u001b[1;32m      3\u001b[0m \u001b[0;34m\u001b[0m\u001b[0m\n\u001b[0;32m----> 4\u001b[0;31m \u001b[0;32mwith\u001b[0m \u001b[0mopen\u001b[0m\u001b[0;34m(\u001b[0m\u001b[0margv\u001b[0m\u001b[0;34m[\u001b[0m\u001b[0;36m1\u001b[0m\u001b[0;34m]\u001b[0m\u001b[0;34m,\u001b[0m \u001b[0;34m\"r\"\u001b[0m\u001b[0;34m,\u001b[0m \u001b[0mencoding\u001b[0m\u001b[0;34m=\u001b[0m\u001b[0;34m\"utf-8\"\u001b[0m\u001b[0;34m)\u001b[0m \u001b[0;32mas\u001b[0m \u001b[0mf\u001b[0m\u001b[0;34m:\u001b[0m\u001b[0;34m\u001b[0m\u001b[0m\n\u001b[0m\u001b[1;32m      5\u001b[0m     \u001b[0mj\u001b[0m \u001b[0;34m=\u001b[0m \u001b[0mjson_load\u001b[0m\u001b[0;34m(\u001b[0m\u001b[0mf\u001b[0m\u001b[0;34m)\u001b[0m\u001b[0;34m\u001b[0m\u001b[0m\n\u001b[1;32m      6\u001b[0m \u001b[0;34m\u001b[0m\u001b[0m\n",
      "\u001b[0;31mFileNotFoundError\u001b[0m: [Errno 2] No such file or directory: '-f'"
     ]
    }
   ],
   "source": [
    "from sys import argv\n",
    "import json\n",
    "\n",
    "with open(argv[1], \"r\", encoding=\"utf-8\") as f:\n",
    "    j = json_load(f)\n",
    "\n",
    "nd = []\n",
    "\n",
    "for d in j:\n",
    "    if \"全教員\" == d[\"name_j\"]:\n",
    "        nd.append(d)\n",
    "\n",
    "with open(\"all_\" + argv[1], \"w\", encoding = \"utf-8\") as fw:\n",
    "    json_dump(nd, fw)"
   ]
  },
  {
   "cell_type": "code",
   "execution_count": 36,
   "metadata": {},
   "outputs": [],
   "source": [
    "with open(\"jd-2018.json\", \"r\") as f:\n",
    "    j = load(f)\n",
    "    #for d in j:\n",
    "        #if d[\"name_j\"] == \"全教員\":\n",
    "            #print(d)\n",
    "\n",
    "with open(\"all_jd-2018.json\", \"w\", encoding = \"utf-8\") as g:\n",
    "    for d in j:\n",
    "        if d[\"name_j\"] == \"全教員\":\n",
    "            dump(d, g, ensure_ascii=False)\n",
    "        else:\n",
    "            pass"
   ]
  },
  {
   "cell_type": "code",
   "execution_count": 34,
   "metadata": {},
   "outputs": [],
   "source": [
    "for d in j:\n",
    "    if d.get('title',-1)==-1:\n",
    "        print(d)"
   ]
  },
  {
   "cell_type": "markdown",
   "metadata": {
    "slideshow": {
     "slide_type": "skip"
    }
   },
   "source": [
    "## モジュールファイルの実行(参考)\n",
    "\n",
    "モジュールファイルは他のプログラムで利用する関数・クラスを定義するだけではなく、\n",
    "それ自身を Pythoh プログラムとして実行したい場合もあります。\n",
    "このような場合は、プログラム実行部分に以下のコードを追加することで実現できます。\n",
    "\n",
    "---\n",
    "```Python\n",
    "関数・クラスの定義\n",
    "if __name__ == \"__main__\":\n",
    "    プログラムの実行文\n",
    "```\n",
    "\n",
    "---\n",
    "\n",
    "Python では、直接実行されたファイルは `\"__main__\"` という名前（`__name__`）のモジュールとして扱われます。\n",
    "プログラムの中でモジュールの名前は `__name__` という変数に\n",
    "入っていますので、`__name__ == \"__main__\"` という条件により、\n",
    "直接実行されたファイルかどうかが判定できます。"
   ]
  },
  {
   "cell_type": "markdown",
   "metadata": {
    "slideshow": {
     "slide_type": "skip"
    }
   },
   "source": [
    "## パッケージ(参考)\n",
    "パッケージは Python モジュール名を、区切り文字 `.` を利用して構造化する方法です。  \n",
    "多くの関数・クラスを提供する巨大なモジュールで利用されています。\n",
    "\n",
    "以下は、`foo` パッケージのサブモジュール `bar.baz` を import する例です。\n",
    "\n",
    "---\n",
    "```Python\n",
    "import foo.bar.baz\n",
    "あるいは\n",
    "from foo import bar.baz\n",
    "```\n",
    "\n",
    "---\n",
    "\n",
    "パッケージはファイルシステムのディレクトリによって構造化されています。\n",
    "Python はディレクトリに `__init__.py` があればディレクトリパッケージとして取り扱います。\n",
    "最も簡単なケースでは `__init__.py` はただの空ファイルで構いませんが、 `__init__.py` にパッケージのための初期化コードを入れることもできます。\n",
    "\n",
    "上の例 `foo.bar.baz` は以下のディレクトリ構造となります。\n",
    "\n",
    "---\n",
    "```console\n",
    "foo/\n",
    "    __init__.py\n",
    "    bar/\n",
    "        __init__.py\n",
    "        baz/\n",
    "            __init__py\n",
    "            baz_moduke.py\n",
    "```\n",
    "\n",
    "---"
   ]
  }
 ],
 "metadata": {
  "kernelspec": {
   "display_name": "Python 3",
   "language": "python",
   "name": "python3"
  },
  "language_info": {
   "codemirror_mode": {
    "name": "ipython",
    "version": 3
   },
   "file_extension": ".py",
   "mimetype": "text/x-python",
   "name": "python",
   "nbconvert_exporter": "python",
   "pygments_lexer": "ipython3",
   "version": "3.6.4"
  }
 },
 "nbformat": 4,
 "nbformat_minor": 2
}
