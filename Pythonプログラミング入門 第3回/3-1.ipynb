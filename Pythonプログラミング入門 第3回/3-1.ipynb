{
 "cells": [
  {
   "cell_type": "markdown",
   "metadata": {
    "slideshow": {
     "slide_type": "slide"
    }
   },
   "source": [
    "# Pythonプログラミング入門 第3回\n",
    "制御構造のうち条件分岐について説明します"
   ]
  },
  {
   "cell_type": "markdown",
   "metadata": {
    "slideshow": {
     "slide_type": "slide"
    }
   },
   "source": [
    "## インデントによる構文\n",
    "条件分岐の前に、Python のインデント（行頭の空白、字下げ）について説明します。\n",
    "Python のインデントは実行文をグループにまとめる機能をもちます。\n",
    "\n",
    "実行文はインデントレベル（深さ）の違いによって異なるグループとして扱われます。\n",
    "細かく言えば、インデントレベルが戻る（浅くなる）まで実行文は同じグループに属し、\n",
    "レベルが深くなると実行文はもとのグループに加え、別のグループに属するものとして扱われます。"
   ]
  },
  {
   "cell_type": "markdown",
   "metadata": {
    "slideshow": {
     "slide_type": "slide"
    }
   },
   "source": [
    "###### インデントによる構文(続き)\n",
    "具体例として、第1回で定義した関数 bmax を使って説明します:"
   ]
  },
  {
   "cell_type": "code",
   "execution_count": 3,
   "metadata": {},
   "outputs": [
    {
     "name": "stdout",
     "output_type": "stream",
     "text": [
      "Hello World\n"
     ]
    }
   ],
   "source": [
    "def bmax(a,b):\n",
    "    if a > b: \n",
    "        return a \n",
    "    else:\n",
    "        return b\n",
    "\n",
    "print(\"Hello World\")"
   ]
  },
  {
   "cell_type": "markdown",
   "metadata": {
    "slideshow": {
     "slide_type": "notes"
    }
   },
   "source": [
    "この例では 1 行目の関数定義 def $\\sim$ : の後から 1 レベルのインデントが始まり 5 行目までつづきます。\n",
    "すなわち、5 行目までは関数 bmax を記述した実行文のグループということです。  \n",
    "次に、3 行目の 2 レベルのインデントの実行文は、if $\\sim$ : 間の論理式が True \n",
    "の場合にのみ実行されるグループに属します（関数 bmax のグループに加えて）。\n",
    "そして、4 行目ではインデントが戻されており、1行のみの実行文で終わっています。  \n",
    "5 行目の 2 レベルの実行文は 2 行目の論理式が False の場合に実行されるグループに属します。  \n",
    "最後に、7 行目ではインデントが戻されており、関数 bmax の定義とは関係ないことがわかります。"
   ]
  },
  {
   "cell_type": "markdown",
   "metadata": {
    "slideshow": {
     "slide_type": "slide"
    }
   },
   "source": [
    "#### インデントによる構文(続き)\n",
    "もちろん　if 文を入れ子にするときは、さらに深いインデントが必要になります。  \n",
    "そして、下の２つのプロラムの動作はあきらかに異なることに注意が必要です。  \n",
    "---\n",
    "```Python\n",
    "if 式1:\n",
    "    ....\n",
    "    if 式2:\n",
    "        ....\n",
    "        if 式3:\n",
    "            ....\n",
    "```\n",
    "\n",
    "---\n",
    "```Python\n",
    "if 式1:\n",
    "    ....\n",
    "if 式2:\n",
    "    ....\n",
    "if 式3:\n",
    "    ....\n",
    "```\n",
    "\n",
    "**Python ではインデントとして空白文字 4 文字が広く利用されています。\n",
    "講義でもこの書式を利用します。**  \n",
    "Jupyter では Tab を入力すれば、自動的にこの書式のインデントに変換されます。\n",
    "また、インデントを戻すときは Shift-Tab が便利です。"
   ]
  },
  {
   "cell_type": "markdown",
   "metadata": {
    "slideshow": {
     "slide_type": "slide"
    }
   },
   "source": [
    "## #によるコメント(参考)\n",
    "\n",
    "プログラムが複雑になってくると、プログラム中のコメントが理解の助けになることがあります。\n",
    "\n",
    "Python プログラム行では、ハッシュ記号(#) につづく文字は無視されます。\n",
    "これを利用してプログラムにコメントいれることができます。\n",
    "\n",
    "行全体をコメントとするには、行頭に # をおきコメントを書きます。  \n",
    "また、実行文に続けて # を置き短いコメントを書くこともできます。  \n",
    "さらに、実行文の冒頭に # を入れ、その行を無効化（コメントアウト）することもよくおこなわれます。  \n",
    "\n",
    "以下に、関数 bmax() にコメントをいれた例を示します:"
   ]
  },
  {
   "cell_type": "code",
   "execution_count": 2,
   "metadata": {},
   "outputs": [
    {
     "name": "stdout",
     "output_type": "stream",
     "text": [
      "Hello World\n"
     ]
    }
   ],
   "source": [
    "#\n",
    "# Copyright (c) foo bar, All right reserved\n",
    "#\n",
    "def bmax(a,b):\n",
    "    if a > b:                   # a は b より大きい?\n",
    "#       print(\"start a > b\")    # コメントアウト \n",
    "        return a \n",
    "    else:\n",
    "#       print(\"start a <= b\")\n",
    "        return b\n",
    "\n",
    "print(\"Hello World\")"
   ]
  },
  {
   "cell_type": "markdown",
   "metadata": {
    "slideshow": {
     "slide_type": "slide"
    }
   },
   "source": [
    "## if $\\sim$ elif $\\sim$ else による条件分岐\n",
    "\n",
    "if による条件分岐は第1回の関数 bmax で紹介ましたが、ここではもう少し詳しく説明していきます。"
   ]
  },
  {
   "cell_type": "markdown",
   "metadata": {
    "slideshow": {
     "slide_type": "slide"
    }
   },
   "source": [
    "###### if $\\sim$ elif $\\sim$ else による条件分岐(続き)\n",
    "Python の if 文は以下のように記述します:\n",
    "\n",
    "``` Python\n",
    "if 式1 :\n",
    "    実行文1(のグループ、以下同じ)\n",
    "elif 式2 : \n",
    "    実行文2\n",
    "elif 式3 : \n",
    "    実行文3\n",
    "else:\n",
    "    実行文e\n",
    "```\n",
    "\n",
    "if $\\sim$ elif $\\sim$ else では、条件は上から順に評価され、True の場合\n",
    "直後の実行文グループのみが実行され終了します。  \n",
    "その他の場合、すなわちすべてが \n",
    "False のときは、else 以降のグループが実行されます。\n",
    " \n",
    "また、elif および else を省略することも可能です。"
   ]
  },
  {
   "cell_type": "markdown",
   "metadata": {
    "slideshow": {
     "slide_type": "slide"
    }
   },
   "source": [
    "## 複数行にまたがる条件式(参考)\n",
    "\n",
    "通常 Python の if 文の条件式では `()` を使いませんが、\n",
    "複雑な条件式の場合は`()` を用いて複数行にまたがる式とすることもできます:"
   ]
  },
  {
   "cell_type": "code",
   "execution_count": 1,
   "metadata": {},
   "outputs": [
    {
     "name": "stdout",
     "output_type": "stream",
     "text": [
      "'x', 'y' and 'z' are different and negatives.\n",
      "'x', 'y' and 'z' are different and negatives.\n"
     ]
    }
   ],
   "source": [
    "x, y, z = (-1, -2, -3)\n",
    "if (x < 0 and y < 0 and z < 0 and\n",
    "    x != y and y != z and x != z):\n",
    "    print (\"'x', 'y' and 'z' are different and negatives.\")\n",
    "\n",
    "### 行末にバックスラッシュ(\\) を入れる以下の方法も使えます:\n",
    "\n",
    "x, y, z = (-1, -2, -3)\n",
    "if x < 0 and y < 0 and z < 0 and \\\n",
    "    x != y and y != z and x != z:\n",
    "    print (\"'x', 'y' and 'z' are different and negatives.\")"
   ]
  },
  {
   "cell_type": "markdown",
   "metadata": {
    "slideshow": {
     "slide_type": "slide"
    }
   },
   "source": [
    "## 条件分岐の順番\n",
    "\n",
    "if 文では、if あるいは elif いずれかの条件が True の場合、\n",
    "以降の elif の条件の評価もおこなわれません。\n",
    "\n",
    "以下のプログラムは正常に終了しますが、6 行目の条件、x > 0、を満たさない場合、例えば x = 0 とするとエラーとなります。"
   ]
  },
  {
   "cell_type": "code",
   "execution_count": 4,
   "metadata": {},
   "outputs": [
    {
     "ename": "NameError",
     "evalue": "name 'y' is not defined",
     "output_type": "error",
     "traceback": [
      "\u001b[0;31m---------------------------------------------------------------------------\u001b[0m",
      "\u001b[0;31mNameError\u001b[0m                                 Traceback (most recent call last)",
      "\u001b[0;32m<ipython-input-4-89be8377936f>\u001b[0m in \u001b[0;36m<module>\u001b[0;34m()\u001b[0m\n\u001b[1;32m      6\u001b[0m \u001b[0;32mif\u001b[0m \u001b[0mx\u001b[0m \u001b[0;34m>\u001b[0m \u001b[0;36m0\u001b[0m\u001b[0;34m:\u001b[0m\u001b[0;34m\u001b[0m\u001b[0m\n\u001b[1;32m      7\u001b[0m     \u001b[0mprint\u001b[0m\u001b[0;34m(\u001b[0m\u001b[0;34m\"x is a positive\"\u001b[0m\u001b[0;34m)\u001b[0m\u001b[0;34m\u001b[0m\u001b[0m\n\u001b[0;32m----> 8\u001b[0;31m \u001b[0;32melif\u001b[0m \u001b[0my\u001b[0m \u001b[0;34m>\u001b[0m \u001b[0;36m0\u001b[0m\u001b[0;34m:\u001b[0m\u001b[0;34m\u001b[0m\u001b[0m\n\u001b[0m\u001b[1;32m      9\u001b[0m     \u001b[0mprint\u001b[0m\u001b[0;34m(\u001b[0m\u001b[0;34m\"x is not a positive, but y is a positive\"\u001b[0m\u001b[0;34m)\u001b[0m\u001b[0;34m\u001b[0m\u001b[0m\n",
      "\u001b[0;31mNameError\u001b[0m: name 'y' is not defined"
     ]
    }
   ],
   "source": [
    "y = 0                   # del y のエラーを抑制するためのおまじない\n",
    "del y                   # 変数 y を未定義に\n",
    "\n",
    "x = 0\n",
    "\n",
    "if x > 0:\n",
    "    print(\"x is a positive\")\n",
    "elif y > 0:\n",
    "    print(\"x is not a positive, but y is a positive\")\n"
   ]
  },
  {
   "cell_type": "markdown",
   "metadata": {
    "slideshow": {
     "slide_type": "slide"
    }
   },
   "source": [
    "### 練習問題\n",
    "以下のプログラムはプログラマの意図どおりに動作しません。\n",
    "`print` 文から意図を判断し書き換えてください。"
   ]
  },
  {
   "cell_type": "code",
   "execution_count": 5,
   "metadata": {},
   "outputs": [
    {
     "name": "stdout",
     "output_type": "stream",
     "text": [
      "x is larger or equal to 2, and less than 3\n"
     ]
    }
   ],
   "source": [
    "x = -1\n",
    "if x < 3:\n",
    "    print (\"x is larger or equal to 2, and less than 3\")\n",
    "elif x < 2:\n",
    "    print (\"x is larger or equal to 1, and less than 2\")\n",
    "elif x < 1:\n",
    "    print (\"x is less than 1\")\n",
    "else:\n",
    "    print(\"x is larger or equal to 3\")"
   ]
  },
  {
   "cell_type": "markdown",
   "metadata": {
    "slideshow": {
     "slide_type": "slide"
    }
   },
   "source": [
    "## 分岐の評価\n",
    "\n",
    "if 文に与える条件が or, and で結合された複合条件の場合、条件は左から順に評価され、\n",
    "不要（以降の式を評価するまでもなく自明）な評価は省かれます。\n",
    "\n",
    "例えば、`if a == 0 or b == 0:` において\n",
    "左辺,`a == 0`,が True の場合、式全体の結果が True となることは自明なので、  \n",
    "右辺,`b == 0`,を評価することなくつづく実行文グループが実行されます。\n",
    "\n",
    "逆に、`if a == 0 and b == 0:` において、\n",
    "左辺が False の場合、右辺は評価されることなく処理がすすみます。"
   ]
  },
  {
   "cell_type": "markdown",
   "metadata": {
    "slideshow": {
     "slide_type": "slide"
    }
   },
   "source": [
    "###### 分岐の評価(続き)\n",
    "以下のセルで示す２つの例のうち、最初のものは変数 x が未定義のためエラーとなりますが、２つ目は正常に実行されます。\n",
    "2 つめの例では、複合条件のうち y > 5 を評価されることなく、変数 y が未定義にもかかわらずプログラムは正常に終了します。"
   ]
  },
  {
   "cell_type": "code",
   "execution_count": null,
   "metadata": {},
   "outputs": [],
   "source": [
    "x = 10          # del x のエラーを抑制するため\n",
    "y = 10\n",
    "\n",
    "del x           # x を未定義に\n",
    "\n",
    "if x > 5 or y > 5: \n",
    "    print(\"'x' or 'y' is larger than 5\")"
   ]
  },
  {
   "cell_type": "code",
   "execution_count": null,
   "metadata": {
    "slideshow": {
     "slide_type": "-"
    }
   },
   "outputs": [],
   "source": [
    "x = 10\n",
    "y = 10          # del y のエラーを抑制するため\n",
    "\n",
    "del y           # y を未定義に\n",
    "\n",
    "if x > 5 or y > 5: \n",
    "    print(\"'x' or 'y' is larger than 5\")\n"
   ]
  },
  {
   "cell_type": "markdown",
   "metadata": {
    "slideshow": {
     "slide_type": "slide"
    }
   },
   "source": [
    "## 3 項演算子（条件式）\n",
    "Python では以下のように`if` $\\sim$ `else` 文を一行に書くこともできます。\n",
    "\n",
    "---\n",
    "```python\n",
    "sign = \"positive or zero\" if x >= 0 else \"negative\" \n",
    "```\n",
    "\n",
    "---\n",
    "\n",
    "これは、以下と等価です。\n",
    "\n",
    "---\n",
    "```python\n",
    "if x >= 0 :\n",
    "    sign = \"positive or zero\"\n",
    "else:\n",
    "    sign = \"negative\"\n",
    "```\n",
    "\n",
    "---"
   ]
  },
  {
   "cell_type": "markdown",
   "metadata": {},
   "source": [
    "## まとめ\n",
    "\n",
    "1. インデントによる構文\n",
    "2. if $\\sim$ elif $\\sim$ else\n",
    "    1. 分岐の順序\n",
    "    2. 分岐の評価\n"
   ]
  },
  {
   "cell_type": "markdown",
   "metadata": {
    "slideshow": {
     "slide_type": "slide"
    }
   },
   "source": [
    "## 予習課題\n",
    "\n",
    "引数に西暦年を year、月を month として与えられたとき、月の日数を返す関数、\n",
    "dayofmonth をプログラムしてください。  \n",
    "もちろん `datetime` や `calender` モジュールの使用は禁止します。  \n",
    "\n",
    "閏年は以下のルールで決まります：\n",
    "\n",
    "1. 西暦が 4 の倍数の年は閏年である。\n",
    "2. 上を満たしても、100 の倍数の年は閏年ではない。\n",
    "3. 上を満たしても、400 の倍数の年は閏年である。\n",
    "\n",
    "以下のプログラムを修正してもかまいません。\n",
    "\n",
    "```Python\n",
    "def dayofmonth(year, month):\n",
    "    return 30                     # いつも 30 日が返ります\n",
    "```"
   ]
  },
  {
   "cell_type": "code",
   "execution_count": 3,
   "metadata": {},
   "outputs": [],
   "source": [
    "def dayofmonth(year, month):\n",
    "    if year%400 == 0:\n",
    "        if month == 1 or month == 3 or month == 5 or month ==7 or month == 8 or month == 10 or month == 12:\n",
    "            return 31\n",
    "        elif month == 4 or month == 6 or month == 9 or month == 11:\n",
    "            return 30\n",
    "        else:\n",
    "            return 29\n",
    "    if year%100 == 0  or year%4 != 0:\n",
    "        if month == 1 or month == 3 or month == 5 or month ==7 or month == 8 or month == 10 or month == 12:\n",
    "            return 31\n",
    "        elif month == 4 or month == 6 or month == 9 or month == 11:\n",
    "            return 30\n",
    "        else:\n",
    "            return 28\n",
    "    else:\n",
    "        if month == 1 or month == 3 or month == 5 or month ==7 or month == 8 or month == 10 or month == 12:\n",
    "            return 31\n",
    "        elif month == 4 or month == 6 or month == 9 or month == 11:\n",
    "            return 30\n",
    "        else:\n",
    "            return 29"
   ]
  },
  {
   "cell_type": "code",
   "execution_count": 7,
   "metadata": {},
   "outputs": [
    {
     "data": {
      "text/plain": [
       "31"
      ]
     },
     "execution_count": 7,
     "metadata": {},
     "output_type": "execute_result"
    }
   ],
   "source": [
    "dayofmonth(2016,12)"
   ]
  }
 ],
 "metadata": {
  "celltoolbar": "Slideshow",
  "kernelspec": {
   "display_name": "Python 3",
   "language": "python",
   "name": "python3"
  },
  "language_info": {
   "codemirror_mode": {
    "name": "ipython",
    "version": 3
   },
   "file_extension": ".py",
   "mimetype": "text/x-python",
   "name": "python",
   "nbconvert_exporter": "python",
   "pygments_lexer": "ipython3",
   "version": "3.6.4"
  }
 },
 "nbformat": 4,
 "nbformat_minor": 2
}
