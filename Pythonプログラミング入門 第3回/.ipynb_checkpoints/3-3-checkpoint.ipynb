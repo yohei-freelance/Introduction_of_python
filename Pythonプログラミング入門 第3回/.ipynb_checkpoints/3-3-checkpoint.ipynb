{
 "cells": [
  {
   "cell_type": "markdown",
   "metadata": {
    "slideshow": {
     "slide_type": "slide"
    }
   },
   "source": [
    "# Pythonプログラミング入門 第3回\n",
    "制御構造のうち内包表記について説明します。"
   ]
  },
  {
   "cell_type": "markdown",
   "metadata": {
    "slideshow": {
     "slide_type": "slide"
    }
   },
   "source": [
    "# 内包表記\n",
    "## リスト内包\n",
    "Python では内包表記(Comprehension(s))が利用できます。  \n",
    "以下のような平方のリストを作るプログラムでは:"
   ]
  },
  {
   "cell_type": "code",
   "execution_count": 1,
   "metadata": {},
   "outputs": [
    {
     "name": "stdout",
     "output_type": "stream",
     "text": [
      "[0, 1, 4, 9, 16, 25]\n"
     ]
    }
   ],
   "source": [
    "squares = []\n",
    "for x in range(6):\n",
    "    squares.append(x**2)\n",
    "print(squares)"
   ]
  },
  {
   "cell_type": "markdown",
   "metadata": {},
   "source": [
    "`squares` として `[0, 1, 4, 9, 16, 25]` が得られます。\n",
    "これを内包表記を用いて書き換えると、以下のように一行で書けプログラムが読みやすくなります。"
   ]
  },
  {
   "cell_type": "code",
   "execution_count": 2,
   "metadata": {},
   "outputs": [
    {
     "name": "stdout",
     "output_type": "stream",
     "text": [
      "[0, 1, 4, 9, 16, 25]\n"
     ]
    }
   ],
   "source": [
    "squares = [x**2 for x in range(6)]\n",
    "print(squares)"
   ]
  },
  {
   "cell_type": "markdown",
   "metadata": {
    "slideshow": {
     "slide_type": "slide"
    }
   },
   "source": [
    "#####  リスト内包(続き)\n",
    "また内包表記をネスト（入れ子）にすることも可能です:"
   ]
  },
  {
   "cell_type": "code",
   "execution_count": 3,
   "metadata": {},
   "outputs": [],
   "source": [
    "table =  [[x*y for y in range(3)] for x in range(3)]\n",
    "vector = [x*y for y in range(3) for x in range(3)]"
   ]
  },
  {
   "cell_type": "markdown",
   "metadata": {},
   "source": [
    "上のプログラムでは、\n",
    "`table`　として `[[0, 0, 0], [0, 1, 2], [0, 2, 4]]` が、\n",
    "`vector` として、`[0, 0, 0, 0, 1, 2, 0, 2, 4]` が得られます。"
   ]
  },
  {
   "cell_type": "markdown",
   "metadata": {
    "slideshow": {
     "slide_type": "slide"
    }
   },
   "source": [
    "#####  リスト内包(続き)\n",
    "内包表記は`for`に加えて`if`を使うこともできます:"
   ]
  },
  {
   "cell_type": "code",
   "execution_count": 4,
   "metadata": {},
   "outputs": [
    {
     "name": "stdout",
     "output_type": "stream",
     "text": [
      "[3, 3, 8, 7]\n"
     ]
    }
   ],
   "source": [
    "words = [\"cat\", \"dog\", \"elephant\", None, \"giraffe\"]\n",
    "length = [len(w) for w in words if w != None]\n",
    "print(length)"
   ]
  },
  {
   "cell_type": "markdown",
   "metadata": {},
   "source": [
    "この場合、`length` として要素が `None` の場合を除いた`[3, 3, 8, 7]` が得られます。"
   ]
  },
  {
   "cell_type": "markdown",
   "metadata": {
    "slideshow": {
     "slide_type": "slide"
    }
   },
   "source": [
    "# その他の内包表記\n",
    "## 集合内包\n",
    "内包表記はセット（集合）型、`{}`、でも使うことができます:"
   ]
  },
  {
   "cell_type": "code",
   "execution_count": 5,
   "metadata": {},
   "outputs": [
    {
     "name": "stdout",
     "output_type": "stream",
     "text": [
      "{8, 3, 7}\n"
     ]
    }
   ],
   "source": [
    "words = [\"cat\", \"dog\", \"elephant\", \"giraffe\"]\n",
    "length_set = {len(w) for w in words}\n",
    "print(length_set)"
   ]
  },
  {
   "cell_type": "markdown",
   "metadata": {},
   "source": [
    "`length_set`　として `{3, 7, 8}` が得られます。\n",
    "セット型なので、リストと異なり重複する要素は除かれます。"
   ]
  },
  {
   "cell_type": "markdown",
   "metadata": {
    "slideshow": {
     "slide_type": "slide"
    }
   },
   "source": [
    "## 辞書内包\n",
    "さらに、内包表記は辞書型でも使うことができます。"
   ]
  },
  {
   "cell_type": "code",
   "execution_count": 6,
   "metadata": {},
   "outputs": [
    {
     "name": "stdout",
     "output_type": "stream",
     "text": [
      "{'cat': 3, 'dog': 3, 'elephant': 8, 'giraffe': 7}\n"
     ]
    }
   ],
   "source": [
    "words = [\"cat\", \"dog\", \"elephant\", \"giraffe\"]\n",
    "length_dir = {w:len(w) for w in words}\n",
    "print(length_dir)"
   ]
  },
  {
   "cell_type": "markdown",
   "metadata": {},
   "source": [
    "`length_dir` として `{'cat': 3, 'dog': 3, 'elephant': 8, 'giraffe': 7}` が得られます。"
   ]
  },
  {
   "cell_type": "markdown",
   "metadata": {
    "slideshow": {
     "slide_type": "slide"
    }
   },
   "source": [
    "## ジェネレータ式(参考)\n",
    "Python ではタプル、`()`、で内包表記を利用することはできませんが、\n",
    "小括弧内`()`に内包表記（厳密には違う）を記述するとタプルではなくジェネレータオブジェクトがつくられます。\n",
    "ジェネレータについては第4回で説明します。\n",
    "\n",
    "したがって、以下のプログラムは動作すしますがオブジェクト `squares_gen` はタプルではありません。"
   ]
  },
  {
   "cell_type": "code",
   "execution_count": 7,
   "metadata": {
    "slideshow": {
     "slide_type": "slide"
    }
   },
   "outputs": [
    {
     "name": "stdout",
     "output_type": "stream",
     "text": [
      "0\n",
      "1\n",
      "4\n",
      "9\n",
      "16\n",
      "25\n"
     ]
    },
    {
     "data": {
      "text/plain": [
       "generator"
      ]
     },
     "execution_count": 7,
     "metadata": {},
     "output_type": "execute_result"
    }
   ],
   "source": [
    "squares_gen = (x**2 for x in range(6))\n",
    "for x in squares_gen:\n",
    "    print(x)\n",
    "type(squares_gen)"
   ]
  },
  {
   "cell_type": "markdown",
   "metadata": {
    "slideshow": {
     "slide_type": "slide"
    }
   },
   "source": [
    "## まとめ\n",
    "\n",
    "1. リスト内包表記\n",
    "2. 集合、辞書内包表記"
   ]
  },
  {
   "cell_type": "markdown",
   "metadata": {
    "slideshow": {
     "slide_type": "slide"
    }
   },
   "source": [
    "## 予習課題\n",
    "任意の文字列リストから２重リスト:  \n",
    "`[[1番目単語の文字数, \"1番目の単語（大文字）\"], [2番目単語の文字数, \"2番目の単語（大文字）\"]]`   \n",
    "を返す関数 length_number を作成してください。　　\n",
    "関数内での処理には内包表記を使用してください。\n",
    "\n",
    "たとえば、`[\"The\", \"quick\", \"brown\"]`、が与えられたとき返り値は `[[3, \"THE\"], [5, \"QUICK\"], [5, \"BROWN\"]]` となります。  \n",
    "文字列オブジェクトを大文字に変換するメソッドとして `upper()`が用意されています:\n",
    "\n",
    "---\n",
    "```Python\n",
    "original_s = 'foo'\n",
    "new_s = original_s.upper()\n",
    "#new_s is 'FOO'\n",
    "```"
   ]
  },
  {
   "cell_type": "code",
   "execution_count": 13,
   "metadata": {},
   "outputs": [],
   "source": [
    "def length_number(words):\n",
    "    matrix = [[len(w), w.upper()] for w in words]\n",
    "    return matrix"
   ]
  },
  {
   "cell_type": "code",
   "execution_count": 15,
   "metadata": {},
   "outputs": [
    {
     "data": {
      "text/plain": [
       "[[3, 'DOG'], [3, 'CAT'], [8, 'ELEPHANT']]"
      ]
     },
     "execution_count": 15,
     "metadata": {},
     "output_type": "execute_result"
    }
   ],
   "source": [
    "length_number([\"dog\",\"cat\",\"elephant\"])"
   ]
  },
  {
   "cell_type": "code",
   "execution_count": null,
   "metadata": {},
   "outputs": [],
   "source": []
  }
 ],
 "metadata": {
  "celltoolbar": "Slideshow",
  "kernelspec": {
   "display_name": "Python 3",
   "language": "python",
   "name": "python3"
  },
  "language_info": {
   "codemirror_mode": {
    "name": "ipython",
    "version": 3
   },
   "file_extension": ".py",
   "mimetype": "text/x-python",
   "name": "python",
   "nbconvert_exporter": "python",
   "pygments_lexer": "ipython3",
   "version": "3.6.4"
  }
 },
 "nbformat": 4,
 "nbformat_minor": 2
}
