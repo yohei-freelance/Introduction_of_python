{
 "cells": [
  {
   "cell_type": "markdown",
   "metadata": {
    "slideshow": {
     "slide_type": "slide"
    }
   },
   "source": [
    "# Pythonプログラミング入門 第3回\n",
    "制御構造のうち繰り返しについて説明します\n",
    "\n",
    "for や while によって、同じ処理の繰り返しを簡単にプログラムすることができます。"
   ]
  },
  {
   "cell_type": "markdown",
   "metadata": {
    "slideshow": {
     "slide_type": "slide"
    }
   },
   "source": [
    "## for による繰り返し\n",
    "\n",
    "for 文の標準的な文法は以下のとおりです：\n",
    "\n",
    "---\n",
    "```Python\n",
    "for value in sequence:\n",
    "    実行文\n",
    "```\n",
    "\n",
    "Python では for 文は in 以降に与えられるリストや文字列などにわたって実行文のグループを繰り返します。\n",
    "繰り返しの順番は要素が現れる順番で、要素は for と in の間の変数に代入されます。"
   ]
  },
  {
   "cell_type": "markdown",
   "metadata": {
    "slideshow": {
     "slide_type": "slide"
    }
   },
   "source": [
    "以下に具体例を示します、関数 len は文字列の長さを返します:"
   ]
  },
  {
   "cell_type": "code",
   "execution_count": 1,
   "metadata": {
    "scrolled": true
   },
   "outputs": [
    {
     "name": "stdout",
     "output_type": "stream",
     "text": [
      "dog 3\n",
      "cat 3\n",
      "mouse 5\n",
      "done\n"
     ]
    }
   ],
   "source": [
    "words = [\"dog\", \"cat\", \"mouse\"]\n",
    "for w in words:\n",
    "    print(w, len(w))\n",
    "\n",
    "print(\"done\")"
   ]
  },
  {
   "cell_type": "markdown",
   "metadata": {},
   "source": [
    "このプログラムで、for 文には 3 つの文字列で構成されるリスト words が与えられています。\n",
    "要素は w に順番に代入され、文字列とその長さが印字されます。\n",
    "そして、最後の要素の処理がおわれば for 繰り返し(ループ)を抜け、完了メッセージを印字します。"
   ]
  },
  {
   "cell_type": "markdown",
   "metadata": {
    "slideshow": {
     "slide_type": "slide"
    }
   },
   "source": [
    "## 辞書に対する繰り返し処理\n",
    "\n",
    "for 文によって辞書の要素全てに同じ処理をおこないたい場合は:\n",
    "1. キーを取り出したい場合は、`辞書.keys()`\n",
    "2. 値を取り出したい場合は、`辞書.values()`\n",
    "3. キー、値のペアを取り出したい場合は`辞書.items()`   \n",
    "\n",
    "を使います。"
   ]
  },
  {
   "cell_type": "code",
   "execution_count": null,
   "metadata": {},
   "outputs": [],
   "source": [
    "dict_a = {\"key1\":\"val1\", \"key2\":\"val2\", \"key3\":\"val3\", \"key4\":\"val4\"}\n",
    "\n",
    "for key in dict_a.keys():\n",
    "    print(key)\n",
    "\n",
    "print()\n",
    "    \n",
    "for val in dict_a.values():\n",
    "    print(val)\n",
    "\n",
    "print()\n",
    "\n",
    "for key, val in dict_a.items():\n",
    "    print(key, \":\", val)"
   ]
  },
  {
   "cell_type": "markdown",
   "metadata": {
    "slideshow": {
     "slide_type": "slide"
    }
   },
   "source": [
    "## range 関数\n",
    "特定の回数の繰り返し処理が必要なときは、range 関数を利用します。\n",
    "以下の例は、0$\\sim$9 までの整数列の総和を計算、印字するプログラムです:"
   ]
  },
  {
   "cell_type": "code",
   "execution_count": null,
   "metadata": {},
   "outputs": [],
   "source": [
    "\n",
    "sum = 0\n",
    "for i in range(1,11,2):\n",
    "    sum = sum + i\n",
    "    \n",
    "print (sum)"
   ]
  },
  {
   "cell_type": "markdown",
   "metadata": {},
   "source": [
    "range 関数は:\n",
    "\n",
    "1. 引数をひとつ与えると 0 から 引数までの整数列を返します。  \n",
    "    このとき引数の値は含まれないことの注意してください。\n",
    "2. 引数を 2 つあるいは 3 つ与えると:\n",
    "    最初の引数を数列の開始(start)、2番目を停止(stop) 、3番目を数列の刻み(step)\n",
    "    とする整数列を返します。  \n",
    "    3 番目の引数は省略可能で、既定値は 1 となっています。"
   ]
  },
  {
   "cell_type": "markdown",
   "metadata": {
    "slideshow": {
     "slide_type": "slide"
    }
   },
   "source": [
    "### range 関数とリスト\n",
    "range 関数は整数列を返しますが、リストを返さないことに注意してください。\n",
    "これは繰り返し回数の大きな for 文などで大きなリストを与えると無駄が大きくなるためです。  \n",
    "\n",
    "range 関数を利用して整数列のリストを生成するには以下のようにする必要があります。\n",
    "\n",
    "---\n",
    "```Python\n",
    "seq_list = list(range(5)) \n",
    "# Retuen : [0,1,2,3,4]\n",
    "```"
   ]
  },
  {
   "cell_type": "markdown",
   "metadata": {
    "slideshow": {
     "slide_type": "slide"
    }
   },
   "source": [
    "### 練習問題\n",
    "引数で与えられる 2つの整数 `x,y` 間（x, y を含む）の整数の総和を返す関数 sum_n \n",
    "を for 文を利用して作成していください。\n",
    "例えば、`sum_n(1,3)`の結果は `1 + 2 + 3 = 6` となります。"
   ]
  },
  {
   "cell_type": "code",
   "execution_count": null,
   "metadata": {},
   "outputs": [],
   "source": [
    "def sum_n(x,y):\n",
    "    return 0\n",
    "\n",
    "print(sum_n(1,3))"
   ]
  },
  {
   "cell_type": "markdown",
   "metadata": {
    "slideshow": {
     "slide_type": "slide"
    }
   },
   "source": [
    "##  enumerate 関数\n",
    "for 文の繰り返し処理では、要素の順序を把握したいことがあります。\n",
    "これまで学んだ方法では以下のように書けます:\n",
    "\n",
    "---\n",
    "```Python\n",
    "i = 0\n",
    "for val in some_list:\n",
    "    print(i, val)\n",
    "    # くりかえさせたい処理\n",
    "    i += 1\n",
    "```\n",
    "\n",
    "---\n",
    "\n",
    "Python では enumerate 関数が用意されており、上のプログラムは以下のように書き換えることができます。\n",
    "\n",
    "---\n",
    "```Python\n",
    "for i, val in enumerate(some_list):\n",
    "    # くりかえさせたい処理\n",
    "```\n",
    "\n",
    "---\n",
    "\n",
    "たとえば、リスト要素とその順番の辞書が欲しい場合は以下のようにかけます:"
   ]
  },
  {
   "cell_type": "code",
   "execution_count": null,
   "metadata": {},
   "outputs": [],
   "source": [
    "words = [\"dog\", \"cat\", \"mouse\"]\n",
    "mapping = {}\n",
    "for i, w in enumerate(words):\n",
    "    mapping[w] = i\n",
    "\n",
    "print(mapping)            # {\"dog\":0, \"cat\":1, \"mouse\":1} が得られる。"
   ]
  },
  {
   "cell_type": "markdown",
   "metadata": {
    "slideshow": {
     "slide_type": "skip"
    }
   },
   "source": [
    "## 帰属演算子 `in` (参考)\n",
    "Python では `for` ループでリストを展開する `in` とは別に、リスト内の要素の有無を検査する `in`, `not in` 演算子が定義されています。\n",
    "以下のように、`if` 文の条件に `in` が出現した場合、`for` 文とは動作が異なるので注意してください。\n",
    "\n",
    "---\n",
    "```Python\n",
    "colors = [\"red\", \"green\", \"blue]\n",
    "color = \"red\"\n",
    "\n",
    "if color in colors:\n",
    "          # do something\n",
    "```"
   ]
  },
  {
   "cell_type": "markdown",
   "metadata": {
    "slideshow": {
     "slide_type": "slide"
    }
   },
   "source": [
    "# 繰り返し `while`\n",
    "\n",
    "`while` 文では与えられた条件が `False` となるまで : 以下の実行文グループを繰り返します。\n",
    "下記のプログラムでは、$\\sum_{x=1}^{100}x$ が `total` の値となります。"
   ]
  },
  {
   "cell_type": "code",
   "execution_count": null,
   "metadata": {},
   "outputs": [],
   "source": [
    "x = 1\n",
    "total = 0 \n",
    "while x <= 100:\n",
    "    total += x\n",
    "    x += 1\n",
    "\n",
    "print(x, total)"
   ]
  },
  {
   "cell_type": "markdown",
   "metadata": {
    "slideshow": {
     "slide_type": "slide"
    }
   },
   "source": [
    "# `break` 文\n",
    "`break` 文は `for` および `while` ループの実行文グループで利用可能です。\n",
    "`break`文は実行中のプログラムで最も内側の繰り返し処理を中断し、ループを終了させる目的で利用されます。\n",
    "以下のプログラムは、初項 256、公比 1/2、の等比級数の和を求めるものです。\n",
    "ただし、総和が 500 をこえれば打ち切られます。"
   ]
  },
  {
   "cell_type": "code",
   "execution_count": null,
   "metadata": {},
   "outputs": [],
   "source": [
    "x = 256\n",
    "total = 0\n",
    "while x > 0:\n",
    "    if total > 500:\n",
    "        break           # 500 を超えれば while ループを抜ける\n",
    "    total += x\n",
    "    x = x // 2          # // は少数点以下を切り捨てる除算\n",
    "\n",
    "print(x, total)"
   ]
  },
  {
   "cell_type": "markdown",
   "metadata": {
    "slideshow": {
     "slide_type": "slide"
    }
   },
   "source": [
    "# `continute` 文\n",
    "`continue` 文は [`break`](#`break` 文)同様に、`for` および `while` ループの実行文グループで利用可能です。\n",
    "`continue`文は実行中のプログラムで最も内側の繰り返し処理を中断し、次のループ繰り返しの処理を開始します。\n",
    "\n",
    "下記のプログラムでは、`colors`リストの `\"black\"` は印字されませんが　`\"white\"` は印字されます。\n",
    "\n",
    "---\n",
    "```Python\n",
    "colors = [\"red\", \"green\", \"blue\", \"black\", \"white\"]\n",
    "for c in colors:\n",
    "    if(c == \"black\"):\n",
    "           continue\n",
    "    print(c)\n",
    "```"
   ]
  },
  {
   "cell_type": "markdown",
   "metadata": {
    "slideshow": {
     "slide_type": "skip"
    }
   },
   "source": [
    "# for, while 繰り返し文における `else`(参考)\n",
    "`for` および `while` 文では`else` を書くこともできます。\n",
    "この実行文グループは、ループの最後に一度だけ実行されます。\n",
    "\n",
    "---\n",
    "```Python\n",
    "colors = [\"red\", \"green\", \"blue\", \"black\", \"white\"]\n",
    "for c in colors:\n",
    "    if(c == \"black\"):\n",
    "           continue\n",
    "    print(c)\n",
    "else:\n",
    "    print(\"\")\n",
    "```\n",
    "\n",
    "---\n",
    "`for` および `while` 文の`else` ブロックの内容は`continue` で終了したときは実行されますが、一方で\n",
    "`break` でループを終了したときは実行されません。"
   ]
  },
  {
   "cell_type": "markdown",
   "metadata": {
    "slideshow": {
     "slide_type": "skip"
    }
   },
   "source": [
    "# `pass` 文(参考)\n",
    "Python では空の実行文グループは許されていません。\n",
    "一方で、空白のコードブロックを用いることでプログラムが読みやすくなる場合があります。\n",
    "例えば以下の、`if` $\\sim$ `elif` $\\sim$ `else` プログラムはエラーとなります。\n",
    "\n",
    "---\n",
    "```Python\n",
    "x = -1\n",
    "if x < 0:\n",
    "    print(\"'x' is positive\")\n",
    "elif x == 0:\n",
    "elif 0 < x < 5:\n",
    "    print(\"x is positive and smaller than 5\")\n",
    "else:\n",
    "    print(\"x is positive and larger than or equal to 5\")\n",
    "```\n",
    "---\n",
    "\n",
    "なにもしない `pass` 文を用いて、以下のように書き換えることで正常に実行されます。\n",
    "\n",
    "---\n",
    "```python\n",
    "x = -1\n",
    "if x < 0:\n",
    "    print(\"'x' is positive\")\n",
    "elif x == 0:\n",
    "    pass\n",
    "elif 0 < x < 5:\n",
    "    print(\"x is positive and smaller than 5\")\n",
    "else:\n",
    "    print(\"x is positive and larger than or equal to 5\")\n",
    "```\n",
    "\n",
    "---"
   ]
  },
  {
   "cell_type": "markdown",
   "metadata": {
    "slideshow": {
     "slide_type": "slide"
    }
   },
   "source": [
    "## まとめ\n",
    "\n",
    "1. for 文によるループ\n",
    "    1. 基本\n",
    "    1. range() 関数\n",
    "2. while 文によるループ\n",
    "2. break, continue など"
   ]
  },
  {
   "cell_type": "markdown",
   "metadata": {
    "slideshow": {
     "slide_type": "slide"
    }
   },
   "source": [
    "# 予習課題\n",
    "以下のプログラムでは 1 秒おきに `print()` 文が永遠に実行される。  \n",
    "10 回 print 文が実行された後に　`while` ループを終了するように書き換えよ。  \n",
    "実行中のセルは Jupyter の Interrupt (割り込み)ボタンを使えば停止させることができる。"
   ]
  },
  {
   "cell_type": "code",
   "execution_count": 3,
   "metadata": {},
   "outputs": [
    {
     "name": "stdout",
     "output_type": "stream",
     "text": [
      "Yeah!\n",
      "Yeah!\n",
      "Yeah!\n",
      "Yeah!\n",
      "Yeah!\n",
      "Yeah!\n",
      "Yeah!\n",
      "Yeah!\n",
      "Yeah!\n",
      "Yeah!\n"
     ]
    }
   ],
   "source": [
    "from time import sleep\n",
    "i = 0\n",
    "while i<10:\n",
    "    print (\"Yeah!\")\n",
    "    i = i+1\n",
    "    sleep(1)"
   ]
  },
  {
   "cell_type": "code",
   "execution_count": null,
   "metadata": {},
   "outputs": [],
   "source": []
  }
 ],
 "metadata": {
  "celltoolbar": "Slideshow",
  "kernelspec": {
   "display_name": "Python 3",
   "language": "python",
   "name": "python3"
  },
  "language_info": {
   "codemirror_mode": {
    "name": "ipython",
    "version": 3
   },
   "file_extension": ".py",
   "mimetype": "text/x-python",
   "name": "python",
   "nbconvert_exporter": "python",
   "pygments_lexer": "ipython3",
   "version": "3.6.4"
  }
 },
 "nbformat": 4,
 "nbformat_minor": 2
}
