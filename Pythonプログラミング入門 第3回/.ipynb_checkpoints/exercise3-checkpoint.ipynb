{
 "cells": [
  {
   "cell_type": "markdown",
   "metadata": {},
   "source": [
    "# 第3回本課題\n",
    "\n",
    "## バブルソート\n",
    "\n",
    "ソートとは複数のデータを規則に従って並べかえる操作をさします。\n",
    "今回の課題はもっとも簡単なソートアルゴリズムのバブルソートを実装してもらいます。\n",
    "\n",
    "バブルソート（昇順）では整列対象のリスト中でインデックスが隣接する２つの要素を比較し、\n",
    "インデックスの小さい要素の値が大きければそれぞれを入れ替えるという操作を、\n",
    "入れ替えの必要がなくなるまで繰り返します。\n",
    "\n",
    "上の説明でいきなり実装するのは難易度が高いので、詳しく説明しながら実装してもらいます。\n",
    "\n",
    "### 課題の前に\n",
    "\n",
    "関数の引数に配列を与えたときの挙動について調べてみましょう。\n",
    "\n",
    "以下のセルの関数 `swap_first_second()` は引数に与えられたリストの先頭と２番目を入れ替える関数です。\n",
    "最後に `data` がどのようになるか予想したうえで、セルを実行してください:"
   ]
  },
  {
   "cell_type": "code",
   "execution_count": 1,
   "metadata": {},
   "outputs": [
    {
     "data": {
      "text/plain": [
       "[2, 1, 3, 4, 5, 6, 7, 8]"
      ]
     },
     "execution_count": 1,
     "metadata": {},
     "output_type": "execute_result"
    }
   ],
   "source": [
    "def swap_first_second(data):\n",
    "    data[1], data[0] = data[0], data[1]\n",
    "    return None\n",
    "\n",
    "data = [1,2,3,4,5,6,7,8]\n",
    "swap_first_second(data)\n",
    "data"
   ]
  },
  {
   "cell_type": "markdown",
   "metadata": {},
   "source": [
    "結果は予想どおりでしょうか？ \n",
    "関数の実行後、配列 `data` の先頭と２番目は入れ替わっていることが確認できたと思います。  \n",
    "\n",
    "このような挙動を理解して以下の課題に取り組んでください。"
   ]
  },
  {
   "cell_type": "markdown",
   "metadata": {},
   "source": [
    "##### 参考\n",
    "このような引数、あるいはオブジェクト自身を書き換える関数・メソッドを「インプレース」とか「破壊的」と呼びます。\n",
    "そして、Python の標準ソートメソッド `sort()` も「インプレース」で、「非破壊的」な関数として `sorted()`があります。"
   ]
  },
  {
   "cell_type": "markdown",
   "metadata": {},
   "source": [
    "### 課題1. リストの最大値を最後尾に移動する\n",
    "1. 要素数 N の整数のリスト `a`　が与えられるとき、インデックスの隣接する要素 `a[i]` `a[i+1]` を比較、  \n",
    "`a[i] > a[i+1]` であればこれを入れ替える。\n",
    "1. 上を `i = 0` からインデックスを一つづつ増やしながらリスト最後尾まで繰り返す。\n",
    "\n",
    "上の操作で、リストの最大値が最後尾、すなわち最も大きなインデックスの要素、に移動していることを確認してください。  \n",
    "例えば、`a = [10,3,6,4,7,8,2,9,5,1]` が与えられれば、結果は`[3,6,4,7,8,2,9,5,1,10]`となります。  \n",
    "\n",
    "以下のセルを書き換えて、リストの最大値を最後尾に移動する関数、`bubble()` を実装してください:"
   ]
  },
  {
   "cell_type": "code",
   "execution_count": 34,
   "metadata": {},
   "outputs": [],
   "source": [
    "def bubble(data):\n",
    "    #dataの文字数分だけ繰り返す\n",
    "    for i in range(len(data)-1):\n",
    "        if data[i+1] > data[i]:\n",
    "            continue\n",
    "        else:\n",
    "            data[i], data[i+1] = data[i+1], data[i]"
   ]
  },
  {
   "cell_type": "code",
   "execution_count": 35,
   "metadata": {},
   "outputs": [
    {
     "data": {
      "text/plain": [
       "[3, 6, 4, 7, 8, 2, 9, 5, 1, 10]"
      ]
     },
     "execution_count": 35,
     "metadata": {},
     "output_type": "execute_result"
    }
   ],
   "source": [
    "a = [10,3,6,4,7,8,2,9,5,1]\n",
    "bubble(a)\n",
    "a"
   ]
  },
  {
   "cell_type": "markdown",
   "metadata": {},
   "source": [
    "### 課題2.  課題1.の繰り返し\n",
    "課題 1. を繰り返します。ただし、前回の繰り返しで最後尾に移動した要素を**操作しない**ようにしてください。\n",
    "\n",
    "例えば、最初の繰り返しでは最大値がリストの最後尾に移動  \n",
    "２回目の繰り返しでは２番目に大きな値が最後尾から２番目に移動  \n",
    "３回目の繰り返しでは３番目に大きな値が最後尾から３番目に移動  \n",
    "....\n",
    "\n",
    "引数としてリストを、大小関係の**比較回数**を返す関数 bubble_sort を実装してください。\n",
    "\n",
    "\n",
    "下記のセルの関数を書き換えると良いでしょう。\n",
    "\n",
    "注)  \n",
    "**操作しない**のは、操作すると結果がおかしくなるのではなく操作そのものが無駄だから。  \n",
    "**比較回数**は入れ替え回数ではないことに注意してください。"
   ]
  },
  {
   "cell_type": "code",
   "execution_count": 38,
   "metadata": {},
   "outputs": [
    {
     "name": "stdout",
     "output_type": "stream",
     "text": [
      "[10, 3, 6, 4, 7, 8, 2, 9, 5, 1]\n",
      "45\n",
      "[1, 2, 3, 4, 5, 6, 7, 8, 9, 10]\n"
     ]
    }
   ],
   "source": [
    "def bubble_sort(data):\n",
    "    n = 0\n",
    "    w = 0\n",
    "    #wを減らしていくことでその時々に最大の数が離脱していくようにする\n",
    "    for w in range(len(data)-1):\n",
    "        for i in range(len(data)-1-w):\n",
    "            if data[i+1] > data[i]:\n",
    "                n = n + 1\n",
    "                continue\n",
    "            else:\n",
    "                data[i], data[i+1] = data[i+1], data[i]\n",
    "                n = n + 1\n",
    "        w = w + 1\n",
    "    return n\n",
    "\n",
    "a = [10,3,6,4,7,8,2,9,5,1]\n",
    "print(a)\n",
    "print(bubble_sort(a))\n",
    "print(a)"
   ]
  },
  {
   "cell_type": "code",
   "execution_count": null,
   "metadata": {},
   "outputs": [],
   "source": []
  }
 ],
 "metadata": {
  "kernelspec": {
   "display_name": "Python 3",
   "language": "python",
   "name": "python3"
  },
  "language_info": {
   "codemirror_mode": {
    "name": "ipython",
    "version": 3
   },
   "file_extension": ".py",
   "mimetype": "text/x-python",
   "name": "python",
   "nbconvert_exporter": "python",
   "pygments_lexer": "ipython3",
   "version": "3.6.4"
  }
 },
 "nbformat": 4,
 "nbformat_minor": 2
}
