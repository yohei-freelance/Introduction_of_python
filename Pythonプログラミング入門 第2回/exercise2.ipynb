{
 "cells": [
  {
   "cell_type": "markdown",
   "metadata": {},
   "source": [
    "# 第2回本課題\n",
    "\n",
    "ATGCの4文字から成る文字列 s が引数として与えられたとき、\n",
    "最も出現回数が多い文字を文字1、\n",
    "2番目に出現回数が多い文字を文字2、\n",
    "3番目に出現回数が多い文字を文字3、\n",
    "最も出現回数が少ない文字を文字4で置き換えて得られる文字列を返す関数 atgc_encode(s) を作成して下さい。\n",
    "例えば、atgc_encode(\"AAGCCCCATGGTAA\") は、\"11322221433411\" を返します。\n",
    "4文字のうち、出現回数が同じものはないと仮定します。"
   ]
  },
  {
   "cell_type": "code",
   "execution_count": 35,
   "metadata": {},
   "outputs": [],
   "source": [
    "def atgc_encode(s):\n",
    "    d1 = [s.count(\"A\"), s.count(\"T\"), s.count(\"G\"), s.count(\"C\")]\n",
    "    d2 = {s.count(\"A\"):\"A\", s.count(\"T\"):\"T\", s.count(\"G\"):\"G\", s.count(\"C\"):\"C\"}\n",
    "    d1.sort()\n",
    "    s = s.replace(d2[d1[3]],\"1\")\n",
    "    s = s.replace(d2[d1[2]],\"2\")\n",
    "    s = s.replace(d2[d1[1]],\"3\")\n",
    "    s = s.replace(d2[d1[0]],\"4\")\n",
    "    return s"
   ]
  },
  {
   "cell_type": "code",
   "execution_count": 36,
   "metadata": {},
   "outputs": [
    {
     "name": "stdout",
     "output_type": "stream",
     "text": [
      "d2: {3: 'A', 7: 'T', 4: 'G', 2: 'C'}\n"
     ]
    },
    {
     "data": {
      "text/plain": [
       "'3334411111222112'"
      ]
     },
     "execution_count": 36,
     "metadata": {},
     "output_type": "execute_result"
    }
   ],
   "source": [
    "atgc_encode(\"AAACCTTTTTGGGTTG\")"
   ]
  },
  {
   "cell_type": "code",
   "execution_count": 16,
   "metadata": {},
   "outputs": [
    {
     "data": {
      "text/plain": [
       "7"
      ]
     },
     "execution_count": 16,
     "metadata": {},
     "output_type": "execute_result"
    }
   ],
   "source": [
    "len(\"AAAVFEF\")"
   ]
  },
  {
   "cell_type": "code",
   "execution_count": null,
   "metadata": {},
   "outputs": [],
   "source": []
  }
 ],
 "metadata": {
  "kernelspec": {
   "display_name": "Python 3",
   "language": "python",
   "name": "python3"
  },
  "language_info": {
   "codemirror_mode": {
    "name": "ipython",
    "version": 3
   },
   "file_extension": ".py",
   "mimetype": "text/x-python",
   "name": "python",
   "nbconvert_exporter": "python",
   "pygments_lexer": "ipython3",
   "version": "3.6.4"
  }
 },
 "nbformat": 4,
 "nbformat_minor": 2
}
