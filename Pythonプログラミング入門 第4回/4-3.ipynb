{
 "cells": [
  {
   "cell_type": "markdown",
   "metadata": {},
   "source": [
    "# Pythonプログラミング入門 第4回\n",
    "再帰について説明します"
   ]
  },
  {
   "cell_type": "markdown",
   "metadata": {},
   "source": [
    "# 再帰\n",
    "再帰は、対象のタスクを、容易に解ける小さな粒度まで分割していき、個々の小さなタスクを解いていくことで、タスク全体を解くための方法です。再帰の考え方は関数型プログラミングにおいてもよく用いられます。通常、再帰は、関数がそれ自身の関数を呼び出すことで実現します。再帰関数は、一般的に以下のように書くことできます。\n",
    "\n",
    "```Python\n",
    "def recursive_function():\n",
    "    if:\n",
    "        非再帰的な基本処理\n",
    "    else:\n",
    "        再帰的な処理\n",
    "```"
   ]
  },
  {
   "cell_type": "markdown",
   "metadata": {},
   "source": [
    "以下で、再帰を使った処理の例をいくつか見ていきましょう。"
   ]
  },
  {
   "cell_type": "markdown",
   "metadata": {},
   "source": [
    "## 再帰の例：リストの要素の和"
   ]
  },
  {
   "cell_type": "code",
   "execution_count": 1,
   "metadata": {},
   "outputs": [
    {
     "name": "stdout",
     "output_type": "stream",
     "text": [
      "15\n"
     ]
    }
   ],
   "source": [
    "#入力のリストの要素の和を計算する関数list_sum\n",
    "def list_sum(l):\n",
    "    if (len(l) == 0):\n",
    "        #リストが空ならば0を返す\n",
    "        return 0\n",
    "    else:\n",
    "#        print(l[0])\n",
    "        #入力リストlの先頭l[0]を除いたl[1:]をlist_sumに渡し、再帰的にリストの要素の和を計算\n",
    "        #(1+(2+(3+(4+(5+0)))))\n",
    "        return l[0] + list_sum(l[1:])\n",
    "    \n",
    "print(list_sum([1,2,3,4,5]))\n",
    "\n",
    "#関数の中に関数を入れて処理をするやり方=再帰。"
   ]
  },
  {
   "cell_type": "markdown",
   "metadata": {},
   "source": [
    "## 再帰の例：べき乗の計算"
   ]
  },
  {
   "cell_type": "code",
   "execution_count": 2,
   "metadata": {},
   "outputs": [
    {
     "name": "stdout",
     "output_type": "stream",
     "text": [
      "1024\n"
     ]
    }
   ],
   "source": [
    "#入力の庭baseと冪指数exptからべき乗を計算する関数power\n",
    "def power(base, expt):\n",
    "    if (expt == 0):\n",
    "        #exptが0ならば1を返す\n",
    "        return 1\n",
    "    else:\n",
    "#        print(expt)\n",
    "        #exptを1つずつ減らしながらpowerに渡し、再帰的にべき乗を計算\n",
    "        #(2*(2*(2*....*1)))\n",
    "        return base*power(base,expt-1)\n",
    "    \n",
    "print(power(2,10))"
   ]
  },
  {
   "cell_type": "markdown",
   "metadata": {},
   "source": [
    "## 再帰の例：階乗の計算"
   ]
  },
  {
   "cell_type": "code",
   "execution_count": 3,
   "metadata": {},
   "outputs": [
    {
     "name": "stdout",
     "output_type": "stream",
     "text": [
      "3628800\n"
     ]
    }
   ],
   "source": [
    "#入力の整数nの階乗を計算する関数factorial\n",
    "def factorial(n):\n",
    "    if (n < 2):\n",
    "        #nが2未満なら1を返す\n",
    "        return 1\n",
    "    else:\n",
    "#      print(n)\n",
    "        #nを1つずつ減らしながらfactorialに渡し、再帰的に階乗を計算\n",
    "        #(n*(n-1*(n-2*....*1)))\n",
    "        return n*factorial(n-1)\n",
    "\n",
    "print(factorial(10))"
   ]
  },
  {
   "cell_type": "markdown",
   "metadata": {},
   "source": [
    "一般に、再帰の処理は繰り返し処理でも書くことができます。単純な処理においては、再帰よりも繰り返し処理の方が、少ない計算資源（メモリ消費など）で早く計算できることが多いですが、複雑な処理や適用するタスクによっては、処理を再帰的に定義したほうがコードの可読性が高く、かつ効率的に計算できることもあります。"
   ]
  },
  {
   "cell_type": "code",
   "execution_count": 4,
   "metadata": {},
   "outputs": [
    {
     "name": "stdout",
     "output_type": "stream",
     "text": [
      "3628800\n"
     ]
    }
   ],
   "source": [
    "#階乗の計算を繰り返し処理で行った例\n",
    "def factorial(n):\n",
    "    f = 1\n",
    "    for i in range(2,n+1):\n",
    "        f *= i\n",
    "    return f\n",
    "\n",
    "print(factorial(10))\n",
    "\n",
    "#再帰の処理は繰り返し処理forやwhileでも書くことができる。\n",
    "#しかしアルゴリズムや可読性の観点からどちらの方が適切かどうかはわからないので、どちらか片方の適切な方を使うことになる。"
   ]
  },
  {
   "cell_type": "markdown",
   "metadata": {},
   "source": [
    "# 予習課題\n",
    "アルゴリズムにおける探索は、アイテムの集合（例えばリスト）の中にあるアイテム（例えばリストのある要素）が存在するかを見つける処理です。処理は、アイテムが見つかれば`True`、見つからなければ`False`を返すことになります。また、そのアイテムがどこで（例えばリストのインデックス）見つかったかを併せて返すこともあります。\n",
    "\n",
    "リストの`in`操作を使うと、リストのある要素を探索するという単純な処理は以下のように実現できます。\n",
    "```Python\n",
    "1 in [1,2,3,4,5]\n",
    "6 in [1,2,3,4,5]\n",
    "```\n",
    "\n",
    "課題1：この探索を行う関数を作成してみましょう。ここでは、入力を整数を要素とするリストとして、簡単のためそれらの要素は昇順にソート（並び替え）されているものとします。また、同一の値の要素はないものとします。入力リスト（mylist）にある要素（myitem）が存在すれば`True`、存在しなければ`False`を返す以下の関数`linear_search`を完成させてください。その際に、入力のリストがソートされているので、探索を途中で打ち切ることができることに注意してください。\n",
    "```Python\n",
    "def linear_search(mylist, myitem):\n",
    "    seq = 0\n",
    "    found = False\n",
    "    while mylist[seq] <= myitem:\n",
    "        if mylist[seq] == myitem:\n",
    "            pass（ヒント：myitemが見つかったので探索を終わりたい）\n",
    "        else:\n",
    "            pass （ヒント：seq+1）\n",
    "    return found\n",
    "```\n",
    "以下は関数`linear_search`の入力と出力の例です。\n",
    "```Python\n",
    "\n",
    "print(linear_search(testlist, 3))\n",
    "False\n",
    "print(linear_search(testlist, 13))\n",
    "True\n",
    "```\n",
    "\n",
    "課題2：再帰を用いて、関数`linear_search`と同じ処理を行う以下の関数`linear_search_rec`を完成させてください。再帰を用いると関数を簡潔に記述でき、コードの可読性を高めることができますが、関数自体を繰り返し呼び出すため計算資源を多く使うことになります。\n",
    "```Python\n",
    "def linear_search_rec(mylist, myitem):\n",
    "    if mylist[0] > myitem:\n",
    "        pass （ヒント：TrueかFalseどちらを返す？）\n",
    "    else:\n",
    "         if mylist[0] == myitem:\n",
    "            pass （ヒント：TrueかFalseどちらを返す？）\n",
    "        else:\n",
    "            pass（ヒント：mylistの先頭要素以外を再帰的に探索）\n",
    "```"
   ]
  },
  {
   "cell_type": "code",
   "execution_count": 45,
   "metadata": {},
   "outputs": [],
   "source": [
    "#課題1(繰り返しバージョン)\n",
    "def linear_search(mylist, myitem):\n",
    "    seq = 0\n",
    "    found1 = True\n",
    "    found2 = False\n",
    "    while mylist[seq] <= myitem:\n",
    "        if mylist[seq] == myitem:\n",
    "            return found1\n",
    "            break\n",
    "        else:\n",
    "            seq = seq + 1\n",
    "    return found2"
   ]
  },
  {
   "cell_type": "code",
   "execution_count": 46,
   "metadata": {},
   "outputs": [
    {
     "data": {
      "text/plain": [
       "False"
      ]
     },
     "execution_count": 46,
     "metadata": {},
     "output_type": "execute_result"
    }
   ],
   "source": [
    "testlist = [0, 1, 2, 8, 13, 17, 19, 32, 42]\n",
    "linear_search(testlist,3)"
   ]
  },
  {
   "cell_type": "code",
   "execution_count": 47,
   "metadata": {},
   "outputs": [
    {
     "data": {
      "text/plain": [
       "True"
      ]
     },
     "execution_count": 47,
     "metadata": {},
     "output_type": "execute_result"
    }
   ],
   "source": [
    "linear_search(testlist,13)"
   ]
  },
  {
   "cell_type": "code",
   "execution_count": 22,
   "metadata": {},
   "outputs": [],
   "source": [
    "#課題2(再帰バージョン)\n",
    "def linear_search_rec(mylist, myitem):\n",
    "    found = True\n",
    "    notfound = False\n",
    "    if mylist[0] > myitem:\n",
    "        return notfound\n",
    "    else:\n",
    "        if mylist[0] == myitem:\n",
    "            return found\n",
    "        else:\n",
    "            del[mylist[0]]\n",
    "            return linear_search_rec(mylist, myitem)"
   ]
  },
  {
   "cell_type": "code",
   "execution_count": 24,
   "metadata": {},
   "outputs": [
    {
     "data": {
      "text/plain": [
       "False"
      ]
     },
     "execution_count": 24,
     "metadata": {},
     "output_type": "execute_result"
    }
   ],
   "source": [
    "testlist = [0, 1, 2, 8, 13, 17, 19, 32, 42]\n",
    "linear_search_rec(testlist,3)"
   ]
  },
  {
   "cell_type": "code",
   "execution_count": 25,
   "metadata": {},
   "outputs": [
    {
     "data": {
      "text/plain": [
       "True"
      ]
     },
     "execution_count": 25,
     "metadata": {},
     "output_type": "execute_result"
    }
   ],
   "source": [
    "linear_search_rec(testlist,13)"
   ]
  },
  {
   "cell_type": "code",
   "execution_count": null,
   "metadata": {},
   "outputs": [],
   "source": []
  }
 ],
 "metadata": {
  "kernelspec": {
   "display_name": "Python 3",
   "language": "python",
   "name": "python3"
  },
  "language_info": {
   "codemirror_mode": {
    "name": "ipython",
    "version": 3
   },
   "file_extension": ".py",
   "mimetype": "text/x-python",
   "name": "python",
   "nbconvert_exporter": "python",
   "pygments_lexer": "ipython3",
   "version": "3.6.4"
  }
 },
 "nbformat": 4,
 "nbformat_minor": 2
}
