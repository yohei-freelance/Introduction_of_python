{
 "cells": [
  {
   "cell_type": "markdown",
   "metadata": {},
   "source": [
    "# Pythonプログラミング入門 第4回\n",
    "イテレータとジェネレータについて説明します"
   ]
  },
  {
   "cell_type": "markdown",
   "metadata": {},
   "source": [
    "# イテレータ\n",
    "## イテレータの定義\n",
    "第2回で学んだリスト、タプル、文字列などは、それらの要素を１つずつ取り出す処理をサポートするオブジェクトです。このようなオブジェクトをイテラブル（iterable）オブジェクトと呼びます。\n",
    "\n",
    "イテラブルオブジェクトに対して、組み込みの`iter`関数を適用すると、イテラブルオブジェクトからイテレータを作成することができます。イテレータは、その要素を1つずつ取り出す`next`メソッドを持つオブジェクトで、データを逐次処理する際に用います。組み込みの`next`関数を用いて、イテレータの`next`メソッドを呼び出すことで、`iter`関数に渡した元のイテラブルオブジェクトの各要素を1つずつ取り出していくことができます。"
   ]
  },
  {
   "cell_type": "code",
   "execution_count": 1,
   "metadata": {},
   "outputs": [],
   "source": [
    "#イテラブルオブジェクトであるリストからiter関数によりイテレータを作成\n",
    "it = iter([1,2,3])"
   ]
  },
  {
   "cell_type": "code",
   "execution_count": 2,
   "metadata": {},
   "outputs": [
    {
     "data": {
      "text/plain": [
       "list_iterator"
      ]
     },
     "execution_count": 2,
     "metadata": {},
     "output_type": "execute_result"
    }
   ],
   "source": [
    "#データ型がイテレータとなっている\n",
    "type(it)"
   ]
  },
  {
   "cell_type": "code",
   "execution_count": 3,
   "metadata": {},
   "outputs": [
    {
     "data": {
      "text/plain": [
       "1"
      ]
     },
     "execution_count": 3,
     "metadata": {},
     "output_type": "execute_result"
    }
   ],
   "source": [
    "#イテレータの要素を1つ取り出し\n",
    "next(it)"
   ]
  },
  {
   "cell_type": "code",
   "execution_count": 4,
   "metadata": {},
   "outputs": [
    {
     "data": {
      "text/plain": [
       "2"
      ]
     },
     "execution_count": 4,
     "metadata": {},
     "output_type": "execute_result"
    }
   ],
   "source": [
    "#イテレータの要素を1つ取り出し\n",
    "next(it)"
   ]
  },
  {
   "cell_type": "code",
   "execution_count": 5,
   "metadata": {},
   "outputs": [
    {
     "data": {
      "text/plain": [
       "3"
      ]
     },
     "execution_count": 5,
     "metadata": {},
     "output_type": "execute_result"
    }
   ],
   "source": [
    "#イテレータの要素を1つ取り出し\n",
    "next(it)"
   ]
  },
  {
   "cell_type": "markdown",
   "metadata": {},
   "source": [
    "イテレータで全ての要素を取り出した後は、StopIterationの例外が発生します。"
   ]
  },
  {
   "cell_type": "code",
   "execution_count": 6,
   "metadata": {},
   "outputs": [
    {
     "ename": "StopIteration",
     "evalue": "",
     "output_type": "error",
     "traceback": [
      "\u001b[0;31m---------------------------------------------------------------------------\u001b[0m",
      "\u001b[0;31mStopIteration\u001b[0m                             Traceback (most recent call last)",
      "\u001b[0;32m<ipython-input-6-72185458333a>\u001b[0m in \u001b[0;36m<module>\u001b[0;34m()\u001b[0m\n\u001b[1;32m      1\u001b[0m \u001b[0;31m#取り出す要素がないのでイテレータは例外を発生\u001b[0m\u001b[0;34m\u001b[0m\u001b[0;34m\u001b[0m\u001b[0m\n\u001b[0;32m----> 2\u001b[0;31m \u001b[0mnext\u001b[0m\u001b[0;34m(\u001b[0m\u001b[0mit\u001b[0m\u001b[0;34m)\u001b[0m\u001b[0;34m\u001b[0m\u001b[0m\n\u001b[0m",
      "\u001b[0;31mStopIteration\u001b[0m: "
     ]
    }
   ],
   "source": [
    "#取り出す要素がないのでイテレータは例外を発生\n",
    "next(it)"
   ]
  },
  {
   "cell_type": "markdown",
   "metadata": {},
   "source": [
    "イテレータは`list`関数を用いてリストにすることができます。"
   ]
  },
  {
   "cell_type": "code",
   "execution_count": 7,
   "metadata": {},
   "outputs": [
    {
     "data": {
      "text/plain": [
       "[1, 2, 3]"
      ]
     },
     "execution_count": 7,
     "metadata": {},
     "output_type": "execute_result"
    }
   ],
   "source": [
    "it = iter([1,2,3])\n",
    "list(it)"
   ]
  },
  {
   "cell_type": "markdown",
   "metadata": {},
   "source": [
    "## [参考] イテラブルオブジェクトとイテレータ\n",
    "イテラブルオブジェクトもイテレータも、どちらも要素を順に取り出すことが可能なオブジェクトですが、イテラブルオブジェクトは要素が取り出された状態を保持しないのに対して、イテレータは要素の取り出しごとに、どこまで取り出されたかという状態を保持しています。これにより、イテレータでは、前回の取り出しの続きから要素を取り出すことや、別々の場所から要素を取り出すといったことが可能になります。\n",
    "\n",
    "このようにイテレータを用いて、処理の対象を逐次処理することで、例えば大きなデータを全てロードしてfor文などで処理するよりも、効率的な処理が可能になります。特に、4-3で説明する関数型プログラミングでは、データをイテレータで扱うのが一般的です。なお、ここでは、イテラブルオブジェクトからイテレータを作成する例を示しましたが、より一般的にイテレータのように要素を1つ取り出す任意の処理を作成するには、以下で説明するジェネレータを用います。"
   ]
  },
  {
   "cell_type": "markdown",
   "metadata": {},
   "source": [
    "## イテレータとforループ\n",
    "イテレータは、`for`文に適用して要素を取り出していくこともできます。`range`や、関数型プログラミングの回で説明する`map`,`filter`,`zip`などの組み込み関数は、イテレータを返すので、`for`文で処理ができます。この時、`for`文の`in`に続くイテラブルオブジェクトはイテレータとなっており、for文の繰り返しごとにそのイテレータのnextメソッドが呼ばれ要素が取り出されます。上記の`StopIteration`例外が発生するまですべての要素の取り出しが行われます。\n",
    "\n",
    "(注）厳密には、リスト、タプル、文字列、`range`などのシーケンス型オブジェクトについてはイテラブルオブジェクトではあるが、`for`文では、シーケンス型オブジェクトとして、それらの要素が空になるまで取り出しが行われる。"
   ]
  },
  {
   "cell_type": "code",
   "execution_count": 8,
   "metadata": {},
   "outputs": [
    {
     "name": "stdout",
     "output_type": "stream",
     "text": [
      "1\n",
      "2\n",
      "3\n"
     ]
    }
   ],
   "source": [
    "#イテレータの要素をfor文で1つずつ取り出し\n",
    "it = iter([1,2,3])\n",
    "for num in it:\n",
    "    print(num)"
   ]
  },
  {
   "cell_type": "markdown",
   "metadata": {},
   "source": [
    "`enumerate`関数を用いることで、イテレータの要素の取り出しとともに、カウントすることができます。"
   ]
  },
  {
   "cell_type": "code",
   "execution_count": 10,
   "metadata": {},
   "outputs": [
    {
     "name": "stdout",
     "output_type": "stream",
     "text": [
      "0 1\n",
      "1 2\n",
      "2 3\n"
     ]
    }
   ],
   "source": [
    "#イテレータの要素をfor文で1つずつ取り出し、合わせて取り出し回数もiでカウント\n",
    "#カウントは0から始まることに注意\n",
    "it = iter([1,2,3])\n",
    "for i, num in enumerate(it):\n",
    "    print(i, num)"
   ]
  },
  {
   "cell_type": "markdown",
   "metadata": {},
   "source": [
    "## [参考] イテレータと組み込み関数・演算子\n",
    "組み込み関数や演算子を使って、イテレータの任意の要素を取り出しや確認ができます。"
   ]
  },
  {
   "cell_type": "code",
   "execution_count": 11,
   "metadata": {},
   "outputs": [
    {
     "data": {
      "text/plain": [
       "3"
      ]
     },
     "execution_count": 11,
     "metadata": {},
     "output_type": "execute_result"
    }
   ],
   "source": [
    "#max関数はイテレータの中で最大の要素を返します\n",
    "it = iter([1,2,3])\n",
    "max(it)"
   ]
  },
  {
   "cell_type": "code",
   "execution_count": 12,
   "metadata": {},
   "outputs": [
    {
     "data": {
      "text/plain": [
       "1"
      ]
     },
     "execution_count": 12,
     "metadata": {},
     "output_type": "execute_result"
    }
   ],
   "source": [
    "#min関数はイテレータの中で最大の要素を返します\n",
    "it = iter([1,2,3])\n",
    "min(it)"
   ]
  },
  {
   "cell_type": "code",
   "execution_count": 13,
   "metadata": {},
   "outputs": [
    {
     "data": {
      "text/plain": [
       "False"
      ]
     },
     "execution_count": 13,
     "metadata": {},
     "output_type": "execute_result"
    }
   ],
   "source": [
    "#all関数はイテレータの全ての要素が真ならばTrue を返します。\n",
    "it = iter([True,False,True])\n",
    "all(it)"
   ]
  },
  {
   "cell_type": "code",
   "execution_count": 14,
   "metadata": {},
   "outputs": [
    {
     "data": {
      "text/plain": [
       "True"
      ]
     },
     "execution_count": 14,
     "metadata": {},
     "output_type": "execute_result"
    }
   ],
   "source": [
    "#any関数はイテレータのいずれかの要素が真ならばTrue を返します。\n",
    "it = iter([True,False,True])\n",
    "any(it)"
   ]
  },
  {
   "cell_type": "code",
   "execution_count": 15,
   "metadata": {},
   "outputs": [
    {
     "data": {
      "text/plain": [
       "False"
      ]
     },
     "execution_count": 15,
     "metadata": {},
     "output_type": "execute_result"
    }
   ],
   "source": [
    "#in演算子はイテレータに指定の要素が含まれればTrueを返します。\n",
    "it = iter([1,2,3])\n",
    "0 in it"
   ]
  },
  {
   "cell_type": "code",
   "execution_count": 16,
   "metadata": {},
   "outputs": [
    {
     "data": {
      "text/plain": [
       "True"
      ]
     },
     "execution_count": 16,
     "metadata": {},
     "output_type": "execute_result"
    }
   ],
   "source": [
    "#in演算子はイテレータに指定の要素が含まれなければTrueを返します。\n",
    "it = iter([1,2,3])\n",
    "0 not in it"
   ]
  },
  {
   "cell_type": "markdown",
   "metadata": {},
   "source": [
    "# ジェネレータ\n",
    "これまでは、リスト、タプル、文字列などのイテラブルオブジェクトからイテレータを作成する方法を見てきました。一方、イテレータのように要素を1つずつ取り出せるオブジェクトを自分で作成することも可能です。そのためには、ジェネレータ関数を定義します。通常の関数では`return`で戻り値を返しますが、ジェネレータ関数では、`yield`で戻り値を返します。この時、`yield`はイテレータとなるオブジェクト（ジェネレータイテレータ）を返しています。\n",
    "```Python\n",
    "yield 戻り値\n",
    "```\n",
    "イテレータと同じように、ジェネレータ関数で返されたジェネレータイテレータに対しては、組み込みの`next`関数や`for`文で、その要素を1つずつ取り出すことができます。全ての要素を取り出した後は、StopIterationの例外が発生します。"
   ]
  },
  {
   "cell_type": "code",
   "execution_count": 17,
   "metadata": {},
   "outputs": [
    {
     "name": "stdout",
     "output_type": "stream",
     "text": [
      "1\n",
      "2\n",
      "3\n"
     ]
    }
   ],
   "source": [
    "#1,2,3を順番に返すジェネレータ関数\n",
    "def gen():\n",
    "    yield 1 #1を返し、次に呼ばれるまで処理を中断\n",
    "    yield 2 #2を返し、次に呼ばれるまで処理を中断\n",
    "    yield 3 #3を返し、処理を終了\n",
    "\n",
    "#ジェネレータ関数の返すジェネレータイテレータをfor文で処理    \n",
    "for num in gen():\n",
    "    print(num)"
   ]
  },
  {
   "cell_type": "markdown",
   "metadata": {},
   "source": [
    "このように、yieldのたびに、ジェネレータは現在の実行状態を記憶して、処理は一時的に中断されます。 そして、再びジェネレータが呼ばれると、中断した箇所から処理を再開します。 これは、通常の関数が実行の度に新たな状態から開始するのと異なることに注意してください。"
   ]
  },
  {
   "cell_type": "markdown",
   "metadata": {},
   "source": [
    "## ジェネレータと内包表記\n",
    "内包表記を用いて、リスト内包表記のように、ジェネレータも内包表記で表現し、ジェネレータイテレータオブジェクトを生成することができます。その際、`()`で囲います。"
   ]
  },
  {
   "cell_type": "code",
   "execution_count": 18,
   "metadata": {},
   "outputs": [
    {
     "data": {
      "text/plain": [
       "generator"
      ]
     },
     "execution_count": 18,
     "metadata": {},
     "output_type": "execute_result"
    }
   ],
   "source": [
    "#1から3のべき乗を返すジェネレータの内包表記\n",
    "gen = (i*i for i in range(1,4))\n",
    "\n",
    "type(gen)"
   ]
  },
  {
   "cell_type": "code",
   "execution_count": 19,
   "metadata": {},
   "outputs": [
    {
     "name": "stdout",
     "output_type": "stream",
     "text": [
      "1\n",
      "4\n",
      "9\n"
     ]
    }
   ],
   "source": [
    "gen = (i*i for i in range(1,4))\n",
    "\n",
    "#ジェネレータ式の返すジェネレータイテレータをfor文で処理  \n",
    "for num in gen:\n",
    "    print(num)"
   ]
  },
  {
   "cell_type": "markdown",
   "metadata": {},
   "source": [
    "## [参考] 関数内の関数\n",
    "関数の中で関数を定義することができます。その際、関数内の関数はローカル変数となります。\n",
    "\n",
    "関数内の関数は、再帰関数を定義する時に利用することがあります。"
   ]
  },
  {
   "cell_type": "code",
   "execution_count": 20,
   "metadata": {},
   "outputs": [
    {
     "name": "stdout",
     "output_type": "stream",
     "text": [
      "This is the inner function\n"
     ]
    }
   ],
   "source": [
    "#関数outer_func内に関数内の関数innter_funcを定義\n",
    "def outer_func():\n",
    "    def inner_func():\n",
    "        print (\"This is the inner function\")\n",
    "    return inner_func()\n",
    "\n",
    "#関数outer_funcを呼び出し\n",
    "outer_func()"
   ]
  },
  {
   "cell_type": "markdown",
   "metadata": {},
   "source": [
    "## [参考] デコレータ\n",
    "デコレータは関数を修飾して、新たな関数を生成します。複数の関数に共通する補助的な処理を、デコレータとしてまとめることができます。\n",
    "\n",
    "デコレータは関数を受け取り、修飾した関数を返します。以下では、修飾する関数`f`の出力に\"This is the decorator\"という表示を足して出力するデコレータを作成しています。"
   ]
  },
  {
   "cell_type": "code",
   "execution_count": 21,
   "metadata": {},
   "outputs": [],
   "source": [
    "#修飾する関数に\"This is the decorator\"という表示を足すというデコレータdecoの定義\n",
    "def deco(f):\n",
    "#デコレータでは、関数内の関数を定義し、処理を定義することが多いです\n",
    "    def inner_func(*args, **kwds):\n",
    "            print (\"This is the decorator\")\n",
    "            f(*args, **kwds)\n",
    "#修飾した関数を返す\n",
    "    return inner_func()"
   ]
  },
  {
   "cell_type": "markdown",
   "metadata": {},
   "source": [
    "以下のように、修飾したい関数の定義の前に、デコレータを宣言することで、関数を修飾することできます。\n",
    "\n",
    "```Python\n",
    "@デコレータ\n",
    "def 修飾したい関数\n",
    "```"
   ]
  },
  {
   "cell_type": "code",
   "execution_count": 22,
   "metadata": {},
   "outputs": [
    {
     "name": "stdout",
     "output_type": "stream",
     "text": [
      "This is the decorator\n",
      "Hello\n"
     ]
    }
   ],
   "source": [
    "# デコレータdecoによる関数funcの修飾\n",
    "@deco\n",
    "def func():\n",
    "    print (\"Hello\")"
   ]
  },
  {
   "cell_type": "markdown",
   "metadata": {},
   "source": [
    "# 予習課題\n",
    "課題1：以下のリストからイテレータ`it`を作成し、そのイテレータから要素を1つずつ取り出して出力してください。その際、各要素の先頭文字のみを大文字に、それ以外は小文字にして出力してください。\n",
    "```Python\n",
    "['LAW', 'ECO', 'LIT', 'EDU', 'LIB', 'SCI', 'ENG', 'AGR', 'PHA', 'MED']\n",
    "```\n",
    "\n",
    "課題2：1-3で学習した以下の`tnpo`関数について、1から5までの整数をそれぞれ入力とした時のtnpo関数の出力を返すジェネレータ関数`tnpo_gen`を作成し、そのジェネレータ関数の戻り値を1つずつ取り出して出力してください。\n",
    "\n",
    "```Python\n",
    "def tnpo(x):\n",
    "    if even(x):\n",
    "        return x//2\n",
    "    else:\n",
    "        return 3*x+1\n",
    "``` "
   ]
  },
  {
   "cell_type": "code",
   "execution_count": 8,
   "metadata": {},
   "outputs": [
    {
     "name": "stdout",
     "output_type": "stream",
     "text": [
      "Law\n",
      "Eco\n",
      "Lit\n",
      "Edu\n",
      "Lib\n",
      "Sci\n",
      "Eng\n",
      "Agr\n",
      "Pha\n",
      "Med\n"
     ]
    }
   ],
   "source": [
    "#課題1\n",
    "l = ['LAW', 'ECO', 'LIT', 'EDU', 'LIB', 'SCI', 'ENG', 'AGR', 'PHA', 'MED']\n",
    "it = iter(l)\n",
    "for i in it:\n",
    "    l = i.lower()\n",
    "    print(l.capitalize())"
   ]
  },
  {
   "cell_type": "code",
   "execution_count": 4,
   "metadata": {},
   "outputs": [],
   "source": [
    "#課題2\n",
    "def tnpo(x):\n",
    "    if x%2 ==0:\n",
    "        return x//2\n",
    "    else:\n",
    "        return 3*x+1"
   ]
  },
  {
   "cell_type": "code",
   "execution_count": 2,
   "metadata": {},
   "outputs": [
    {
     "data": {
      "text/plain": [
       "15"
      ]
     },
     "execution_count": 2,
     "metadata": {},
     "output_type": "execute_result"
    }
   ],
   "source": [
    "tnpo(30)"
   ]
  },
  {
   "cell_type": "code",
   "execution_count": 7,
   "metadata": {},
   "outputs": [
    {
     "name": "stdout",
     "output_type": "stream",
     "text": [
      "4\n",
      "1\n",
      "10\n",
      "2\n",
      "16\n"
     ]
    }
   ],
   "source": [
    "#課題2\n",
    "def tnpo_gen():\n",
    "    for i in range(1,6):\n",
    "        yield tnpo(i)\n",
    "for x in tnpo_gen():\n",
    "    print(x)"
   ]
  }
 ],
 "metadata": {
  "kernelspec": {
   "display_name": "Python 3",
   "language": "python",
   "name": "python3"
  },
  "language_info": {
   "codemirror_mode": {
    "name": "ipython",
    "version": 3
   },
   "file_extension": ".py",
   "mimetype": "text/x-python",
   "name": "python",
   "nbconvert_exporter": "python",
   "pygments_lexer": "ipython3",
   "version": "3.6.4"
  }
 },
 "nbformat": 4,
 "nbformat_minor": 2
}
