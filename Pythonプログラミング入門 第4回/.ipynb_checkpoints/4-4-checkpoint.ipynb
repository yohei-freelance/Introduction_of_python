{
 "cells": [
  {
   "cell_type": "markdown",
   "metadata": {},
   "source": [
    "# Pythonプログラミング入門 第4回\n",
    "関数型プログラミングについて説明します"
   ]
  },
  {
   "cell_type": "markdown",
   "metadata": {},
   "source": [
    "# 関数型プログラミング\n",
    "関数型プログラミングでは、処理（手続きの流れ）を記述するのに、関数を組み合わせることででプログラムを構成するようにします。関数プログラミングでは、主に、`map`、`filter`、`reduce`の高階関数を組み合わせて、データに様々な処理を行います。ここで、高階関数とは他の関数を引数として受け取る関数です。"
   ]
  },
  {
   "cell_type": "markdown",
   "metadata": {},
   "source": [
    "## 関数オブジェクト\n",
    "関数型プログラミングでは、関数をオブジェクトとして利用します。オブジェクトについては1-3の説明を参考にしてください。\n",
    "\n",
    "関数をオブジェクトと考えると、関数名の変数は、その関数のオブジェクトを参照（指し示）していることになります。\n",
    "\n",
    "オブジェクトとしての関数は、関数の引数としても利用できます。`map`、`filter`、`reduce`などの高階関数は、関数を引数として受け取り、その関数にデータを渡し処理をさせることが特徴です。\n",
    "\n",
    "`map`、`filter`、`reduce`について見る前に、まず、一般の関数について引数として関数を受け取ることを考えてみましょう。"
   ]
  },
  {
   "cell_type": "code",
   "execution_count": 2,
   "metadata": {},
   "outputs": [
    {
     "data": {
      "text/plain": [
       "[1, 4, 9]"
      ]
     },
     "execution_count": 2,
     "metadata": {},
     "output_type": "execute_result"
    }
   ],
   "source": [
    "#xの平方を計算する関数square\n",
    "def square(x):\n",
    "    return x*x\n",
    "\n",
    "#リストargsの各要素を関数funcの入力とし、その出力をリストにして返す関数call_func\n",
    "def call_func(func, args):\n",
    "    results =[func(i) for i in args]\n",
    "    return results\n",
    "\n",
    "#関数squareを引数に渡した関数call_funcの呼び出し\n",
    "call_func(square,[1,2,3])"
   ]
  },
  {
   "cell_type": "markdown",
   "metadata": {},
   "source": [
    "## 無名関数\n",
    "上記では、平方を計算する関数`square`を明示的に定義しましたが、`lambda`式を使うことで、無名の（関数名のない）関数オブジェクトを作成できます。\n",
    "\n",
    "```Python\n",
    "lambda 引数:処理内容と戻り値\n",
    "```"
   ]
  },
  {
   "cell_type": "code",
   "execution_count": null,
   "metadata": {},
   "outputs": [],
   "source": [
    "#xの平方を計算する無名関数を引数に渡した関数call_funcの呼び出し\n",
    "# lambda x:x*xにより引数の平方を計算する無名関数を定義\n",
    "call_func(lambda x: x*x, [1,2,3])"
   ]
  },
  {
   "cell_type": "markdown",
   "metadata": {},
   "source": [
    "## map関数\n",
    "`map`関数は、関数とイテラブルオブジェクトを受け取り、イテラブルオブジェクトの各要素にその関数を適用します。そして、その関数の戻り値を要素とするイテレータを返します。"
   ]
  },
  {
   "cell_type": "code",
   "execution_count": null,
   "metadata": {},
   "outputs": [],
   "source": [
    "#xの平方を計算する関数square\n",
    "def square(x):\n",
    "    return x*x\n",
    "\n",
    "#map関数に関数squareとリストを渡して、リストの各要素の平方を計算\n",
    "list(map(square, [1,2,3]))"
   ]
  },
  {
   "cell_type": "markdown",
   "metadata": {},
   "source": [
    "`map`関数に、イテラブルオブジェクトを複数渡すと、各イテラブルオブジェクトの要素を並行に参照しながら、それらの複数のイテラブルオブジェクトの各要素の組み合わせを、`map`関数の引数で指定した関数へ順番に渡します。その際、関数は、イテラブルオブジェクトの数だけの引数を取らなければなりません。"
   ]
  },
  {
   "cell_type": "code",
   "execution_count": null,
   "metadata": {},
   "outputs": [],
   "source": [
    "#map関数に複数のリストを渡して、それらのリストの各要素の積を無名関数で計算\n",
    "list(map(lambda x,y:x*y, [1,2,3], [1,2,3]))"
   ]
  },
  {
   "cell_type": "markdown",
   "metadata": {},
   "source": [
    "### zip関数\n",
    "`zip`関数は、引数として渡すイテラブルオブジェクトの各要素の組み合わせを要素とするイテレータを返します。"
   ]
  },
  {
   "cell_type": "code",
   "execution_count": null,
   "metadata": {},
   "outputs": [],
   "source": [
    "#zip関数に3つのリストを渡して、それらのリストの各要素の組み合わせを順番に出力\n",
    "list(zip([1,2,3], [4,5,6],[7,8,9]))"
   ]
  },
  {
   "cell_type": "markdown",
   "metadata": {},
   "source": [
    "## filter関数\n",
    "`filter`関数は、関数とイテラブルオブジェクトを受け取り、イテラブルオブジェクトの各要素にその関数を適用します。そして、その関数の戻り値が真（True）を返す要素のみのイテレータを返します。"
   ]
  },
  {
   "cell_type": "code",
   "execution_count": null,
   "metadata": {},
   "outputs": [],
   "source": [
    "#無名関数lambda x:x>0により、関数の引数は正であることを条件式として指定\n",
    "#リストの要素の中で、正のもののみを出力\n",
    "list(filter(lambda x: x >0, [-1,0,1,2]))"
   ]
  },
  {
   "cell_type": "markdown",
   "metadata": {},
   "source": [
    "## reduce関数\n",
    "`reduce`関数は、一般に2つの引数を受け取る関数とイテラブルオブジェクトを受け取ります。そして、イテラブルオブジェクトの各要素に対して、左から右に累積的に関数を適用し、要素を単一に縮約した値を返します。例えば、以下は`((((1+2)+3)+4)+5)`を計算することになります。\n",
    "\n",
    "```Python\n",
    "reduce(lambda x, y: x+y, [1, 2, 3, 4, 5]) \n",
    "```\n",
    "イテラブルオブジェクトが単一の要素しか持っていない場合、最初の要素が返されます。"
   ]
  },
  {
   "cell_type": "code",
   "execution_count": null,
   "metadata": {},
   "outputs": [],
   "source": [
    "#reduce関数はfunctoolsモジュールからインポートします\n",
    "from functools import reduce\n",
    "\n",
    "# lambda x,y:x*yにより2つの引数の積を計算する無名関数を定義\n",
    "#reduce関数を用いて、リストの各要素を順番に以下のように繰り返し掛け算\n",
    "#(((1*2)*3)*4)\n",
    "reduce(lambda x,y:x*y,[1,2,3,4])"
   ]
  },
  {
   "cell_type": "markdown",
   "metadata": {},
   "source": [
    "# 予習課題\n",
    "n-次元ユークリッド空間における、任意の2つの座標、$X=(x_1,x_2,...,x_n)$、$Y=(y_1,y_2,...,y_n）$、の間のユークリッド距離$d(X,Y)$を計算する関数をmap関数とlambda構文を用いて作成してください。必要であればreduce関数を用いてもよい。なお、$d(X,Y)$は以下のように定義される。\n",
    "\n",
    "$d(X,Y) = \\sqrt{(x_1-y_1)^{2} + (x_2-y_2)^{2} + ... + (x_n-y_n)^{2}}$\n",
    "\n",
    "\n",
    "入力座標$X$, $Y$はそれぞれリストとして与えることとする。"
   ]
  }
 ],
 "metadata": {
  "kernelspec": {
   "display_name": "Python 3",
   "language": "python",
   "name": "python3"
  },
  "language_info": {
   "codemirror_mode": {
    "name": "ipython",
    "version": 3
   },
   "file_extension": ".py",
   "mimetype": "text/x-python",
   "name": "python",
   "nbconvert_exporter": "python",
   "pygments_lexer": "ipython3",
   "version": "3.6.4"
  }
 },
 "nbformat": 4,
 "nbformat_minor": 2
}
