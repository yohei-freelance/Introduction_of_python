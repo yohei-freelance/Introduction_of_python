{
 "cells": [
  {
   "cell_type": "markdown",
   "metadata": {
    "nbpresent": {
     "id": "661136c5-430a-4a28-a7dc-8447cf2dafab"
    },
    "slideshow": {
     "slide_type": "slide"
    }
   },
   "source": [
    "# Pythonプログラミング入門 第4回"
   ]
  },
  {
   "cell_type": "markdown",
   "metadata": {
    "nbpresent": {
     "id": "9b44097d-e842-46c4-962d-d2a6ebb48589"
    },
    "slideshow": {
     "slide_type": "-"
    }
   },
   "source": [
    "# 関数"
   ]
  },
  {
   "cell_type": "markdown",
   "metadata": {
    "nbpresent": {
     "id": "3a9dfa48-61d0-448a-80ef-f6caca60ff2f"
    },
    "slideshow": {
     "slide_type": "slide"
    }
   },
   "source": [
    "## 関数の定義\n",
    "\n",
    "関数は処理（手続きの流れ）をまとめた再利用可能なコードです。関数には以下の特徴があります：\n",
    "* 名前を持つ\n",
    "* 手続きの流れを含む\n",
    "* 戻り値（明示的あるいは非明示的に）を返す。\n",
    "\n",
    "len()やsum()などの[組み込み関数](https://docs.python.jp/3/library/functions.html)は関数の例です。\n",
    "\n",
    "まず、関数の定義をしてみましょう。関数を定義するには`def`を用います。"
   ]
  },
  {
   "cell_type": "code",
   "execution_count": 4,
   "metadata": {
    "nbpresent": {
     "id": "93578bcf-2a64-464f-a366-0669076c1da9"
    },
    "slideshow": {
     "slide_type": "-"
    }
   },
   "outputs": [],
   "source": [
    "#\"Hello\"を表示する関数greeting\n",
    "def greeting():\n",
    "    print (\"Hello\")"
   ]
  },
  {
   "cell_type": "markdown",
   "metadata": {
    "nbpresent": {
     "id": "ae0cc73e-14d9-4499-ac99-fa23f727c542"
    },
    "slideshow": {
     "slide_type": "-"
    }
   },
   "source": [
    "関数を定義したら、それを呼び出すことができます。"
   ]
  },
  {
   "cell_type": "code",
   "execution_count": 6,
   "metadata": {
    "nbpresent": {
     "id": "7fff34d3-afef-4488-81d1-09afea2fc12e"
    },
    "slideshow": {
     "slide_type": "-"
    }
   },
   "outputs": [
    {
     "name": "stdout",
     "output_type": "stream",
     "text": [
      "Hello\n"
     ]
    }
   ],
   "source": [
    "#関数greetingを呼び出し\n",
    "greeting()"
   ]
  },
  {
   "cell_type": "markdown",
   "metadata": {
    "nbpresent": {
     "id": "91f96d00-b9cf-4122-a243-0b1aecbd8c67"
    },
    "slideshow": {
     "slide_type": "slide"
    }
   },
   "source": [
    "関数の一般的な定義は以下の通りです。\n",
    "\n",
    "```Python\n",
    "def 関数名(引数):\n",
    "    関数本体\n",
    "```\n",
    "\n",
    "1行名はヘッダと呼ばれ、**関数名**はその関数を呼ぶのに使う名前、**引数**はその関数へ渡す変数の一覧です。変数がない場合もあります。\n",
    "\n",
    "**関数本体**はインデントした上で、処理や手続きの流れを記述します。"
   ]
  },
  {
   "cell_type": "markdown",
   "metadata": {
    "nbpresent": {
     "id": "d8968821-8915-4043-b5e7-2be1d7d1309c"
    },
    "slideshow": {
     "slide_type": "slide"
    }
   },
   "source": [
    "## 引数\n",
    "関数を定義する際に、ヘッダの括弧の中に関数へ渡す変数の一覧を記述します。これらの変数は関数のローカル変数となります。ローカル変数とはプログラムの一部（ここでは関数内）でのみ利用可能な変数です。\n"
   ]
  },
  {
   "cell_type": "code",
   "execution_count": 7,
   "metadata": {
    "nbpresent": {
     "id": "e03e8aa1-af37-4111-9998-028d8c257e72"
    },
    "slideshow": {
     "slide_type": "-"
    }
   },
   "outputs": [],
   "source": [
    "#引数greeting_localに渡された値を表示する関数greeting\n",
    "def greeting(greeting_local):\n",
    "    print (greeting_local)"
   ]
  },
  {
   "cell_type": "markdown",
   "metadata": {
    "nbpresent": {
     "id": "ac07ae38-3f1b-4c32-815c-60c763d90ba9"
    },
    "slideshow": {
     "slide_type": "-"
    }
   },
   "source": [
    "関数を呼び出す際に引数に値を渡すことで、関数は受け取った値を処理することができます。"
   ]
  },
  {
   "cell_type": "code",
   "execution_count": 8,
   "metadata": {
    "nbpresent": {
     "id": "2333cd6e-8012-462f-9b02-3152f2d9dfcc"
    },
    "scrolled": true,
    "slideshow": {
     "slide_type": "-"
    }
   },
   "outputs": [
    {
     "name": "stdout",
     "output_type": "stream",
     "text": [
      "Hello\n"
     ]
    }
   ],
   "source": [
    "#関数greetingに文字列\"Hello\"を渡して呼び出し\n",
    "greeting(\"Hello\")"
   ]
  },
  {
   "cell_type": "markdown",
   "metadata": {
    "nbpresent": {
     "id": "13606d0d-c9de-42a8-98bf-af9c1b493dbf"
    }
   },
   "source": [
    "## 戻り値\n",
    "関数は受け取った引数を元に処理を行い、その結果の戻り値（1-2で説明した返値と同義）を返すことができます。\n",
    "\n",
    "戻り値は、`return`で定義します。関数の戻り値がない場合は、`None`が返されます。"
   ]
  },
  {
   "cell_type": "code",
   "execution_count": 9,
   "metadata": {
    "nbpresent": {
     "id": "2d182e8a-aecd-4299-a0dc-67550555db74"
    }
   },
   "outputs": [
    {
     "data": {
      "text/plain": [
       "'Hello'"
      ]
     },
     "execution_count": 9,
     "metadata": {},
     "output_type": "execute_result"
    }
   ],
   "source": [
    "#引数greeting_localに渡された値を返す関数greeting\n",
    "def greeting(greeting_local):\n",
    "    return greeting_local\n",
    "\n",
    "#関数greetingに文字列\"Hello\"を渡して呼び出し\n",
    "greeting(\"Hello\")"
   ]
  },
  {
   "cell_type": "code",
   "execution_count": 10,
   "metadata": {
    "nbpresent": {
     "id": "2e6d9cd0-4921-4616-944b-fd17b6f2b956"
    }
   },
   "outputs": [
    {
     "data": {
      "text/plain": [
       "5.0"
      ]
     },
     "execution_count": 10,
     "metadata": {},
     "output_type": "execute_result"
    }
   ],
   "source": [
    "#入力の平均を計算して返す関数average\n",
    "def average(nums):\n",
    "    #組み込み関数のsum()とlen()を利用\n",
    "    return sum(nums)/len(nums)\n",
    "\n",
    "#関数averageに数字のリストを渡して呼び出し\n",
    "average([1,3,5,7,9])"
   ]
  },
  {
   "cell_type": "markdown",
   "metadata": {},
   "source": [
    "関数の戻り値を変数に代入することもできます。"
   ]
  },
  {
   "cell_type": "code",
   "execution_count": 11,
   "metadata": {},
   "outputs": [
    {
     "data": {
      "text/plain": [
       "'Hello'"
      ]
     },
     "execution_count": 11,
     "metadata": {},
     "output_type": "execute_result"
    }
   ],
   "source": [
    "#関数greetingの戻り値を変数greetに代入\n",
    "greet = greeting(\"Hello\")\n",
    "greet"
   ]
  },
  {
   "cell_type": "markdown",
   "metadata": {
    "nbpresent": {
     "id": "1f64a720-e5fd-4e8e-b810-061a71e14e32"
    },
    "slideshow": {
     "slide_type": "slide"
    }
   },
   "source": [
    "## 複数の引数\n",
    "関数は任意の数の引数を受け取ることができます。複数の引数を受け取る場合は、引数をカンマで区切ります。これらの引数名は重複しないようにしましょう。"
   ]
  },
  {
   "cell_type": "code",
   "execution_count": 18,
   "metadata": {
    "nbpresent": {
     "id": "b05e5641-14c2-43fb-9977-2355e3855af0"
    },
    "slideshow": {
     "slide_type": "-"
    }
   },
   "outputs": [
    {
     "name": "stdout",
     "output_type": "stream",
     "text": [
      "Hello, Bonjour, Guten Tag\n"
     ]
    }
   ],
   "source": [
    "#3つの引数それぞれに渡された値を表示する関数greeting\n",
    "def greeting(en, fr, de):\n",
    "    print (en + \", \" + fr+\", \" +de)\n",
    "    \n",
    "#関数greetingに3つの引数を渡して呼び出し\n",
    "greeting('Hello', \"Bonjour\", \"Guten Tag\")"
   ]
  },
  {
   "cell_type": "markdown",
   "metadata": {
    "nbpresent": {
     "id": "7a23ea7f-98ba-4a4d-846f-78182baa77fa"
    },
    "slideshow": {
     "slide_type": "-"
    }
   },
   "source": [
    "関数は異なる型であっても引数として受け取ることができます。"
   ]
  },
  {
   "cell_type": "code",
   "execution_count": 23,
   "metadata": {
    "nbpresent": {
     "id": "73bdb776-de83-4de7-b6aa-930b1e9de870"
    },
    "slideshow": {
     "slide_type": "-"
    }
   },
   "outputs": [
    {
     "name": "stdout",
     "output_type": "stream",
     "text": [
      "HelloHelloHello,World\n"
     ]
    }
   ],
   "source": [
    "#文字列と数値を引数として受け取る関数greeting\n",
    "def greeting(en, number, name):\n",
    "    #文字列に数を掛け算すると、文字列を数の回だけ繰り返すことを指定します\n",
    "    print (en*number+\",\"+name)\n",
    "    \n",
    "#関数greetingに文字列と数値を引数として渡して呼び出し\n",
    "greeting('Hello',3, 'World')"
   ]
  },
  {
   "cell_type": "markdown",
   "metadata": {
    "nbpresent": {
     "id": "c1bf67a6-1009-4a45-9d63-08ac24186d13"
    },
    "slideshow": {
     "slide_type": "slide"
    }
   },
   "source": [
    "## キーワード引数\n",
    "上記の一般的な引数（位置引数とも呼ばれます）では、事前に定義した引数の順番に従って、関数は引数を受け取る必要があります。\n",
    "\n",
    "キーワード付き引数を使うと、関数は引数の変数名とその値の組みを受け取ることができます。その際、引数は順不同で関数に渡すことができます。"
   ]
  },
  {
   "cell_type": "code",
   "execution_count": 27,
   "metadata": {
    "nbpresent": {
     "id": "0cadb423-7855-4277-acf7-e45041893543"
    },
    "slideshow": {
     "slide_type": "-"
    }
   },
   "outputs": [
    {
     "name": "stdout",
     "output_type": "stream",
     "text": [
      "HelloHello,Japan\n"
     ]
    }
   ],
   "source": [
    "#文字列と数値を引数として受け取る関数greeting\n",
    "def greeting(en, number, name):\n",
    "    print (en*number+\",\"+name)\n",
    "\n",
    "#関数greetingに引数の変数名とその値の組みを渡して呼び出し\n",
    "greeting(en='Hello', name=\"Japan\", number=2)"
   ]
  },
  {
   "cell_type": "code",
   "execution_count": 28,
   "metadata": {},
   "outputs": [
    {
     "name": "stdout",
     "output_type": "stream",
     "text": [
      "HelloHelloHelloHello,Java\n"
     ]
    }
   ],
   "source": [
    "greeting('Hello',4,'Java')\n",
    "\n",
    "#位置引数とキーワード引数は関数により一意に固定されない(ある種の柔軟性を維持する)"
   ]
  },
  {
   "cell_type": "markdown",
   "metadata": {
    "nbpresent": {
     "id": "0286dc1b-3118-4928-9bec-16d4f980d398"
    },
    "slideshow": {
     "slide_type": "-"
    }
   },
   "source": [
    "位置引数とキーワード引数を合わせて使う場合は、最初に位置引数を指定する必要があります。"
   ]
  },
  {
   "cell_type": "code",
   "execution_count": 29,
   "metadata": {
    "nbpresent": {
     "id": "4efcff39-bb12-4a76-ac37-1a89ed91761d"
    },
    "slideshow": {
     "slide_type": "-"
    }
   },
   "outputs": [
    {
     "name": "stdout",
     "output_type": "stream",
     "text": [
      "HelloHello,Japan\n"
     ]
    }
   ],
   "source": [
    "#位置引数とキーワード引数を組み合わせた関数greetingの呼び出し\n",
    "greeting('Hello', name=\"Japan\", number=2)"
   ]
  },
  {
   "cell_type": "markdown",
   "metadata": {
    "nbpresent": {
     "id": "d17c5099-d85c-432e-b19f-6939c51ccdc6"
    },
    "slideshow": {
     "slide_type": "slide"
    }
   },
   "source": [
    "## 引数の初期値\n",
    "関数を呼び出す際に、引数が渡されない場合に、初期値を引数として渡すことができます。\n",
    "\n",
    "初期値のある引数に値を渡したら、関数はその引数の初期値の代わりに渡された値を受け取ります。\n",
    "\n",
    "初期値を持つ引数は、位置引数の後に指定する必要があります。"
   ]
  },
  {
   "cell_type": "code",
   "execution_count": 30,
   "metadata": {
    "nbpresent": {
     "id": "19219a8e-d9c2-4b0f-9dae-5c9c7d0eecdb"
    },
    "slideshow": {
     "slide_type": "-"
    }
   },
   "outputs": [
    {
     "name": "stdout",
     "output_type": "stream",
     "text": [
      "HELLO, World\n"
     ]
    }
   ],
   "source": [
    "#引数の初期値（引数の変数enに対する\"Hello\"）を持つ関数greeting\n",
    "def greeting(name, en='Hello'):\n",
    "    print (en+\", \"+name)\n",
    "    \n",
    "#引数の初期値を持つ関数greetingの呼び出し\n",
    "greeting('World',)"
   ]
  },
  {
   "cell_type": "code",
   "execution_count": 31,
   "metadata": {},
   "outputs": [
    {
     "name": "stdout",
     "output_type": "stream",
     "text": [
      "HELLO, World\n"
     ]
    }
   ],
   "source": [
    "#改めて代入してenを変更することもできる\n",
    "greeting('World','HELLO')"
   ]
  },
  {
   "cell_type": "markdown",
   "metadata": {
    "nbpresent": {
     "id": "0201f64c-b0e4-4e25-ba4e-8ca782c24a40"
    },
    "slideshow": {
     "slide_type": "slide"
    }
   },
   "source": [
    "## 可変長の引数\n",
    "引数の前に`*`を付けて定義すると、複数の引数をタプル型として受け取ることができます。"
   ]
  },
  {
   "cell_type": "code",
   "execution_count": 32,
   "metadata": {
    "nbpresent": {
     "id": "777cde18-6250-43ff-9b1e-00265cc69608"
    },
    "slideshow": {
     "slide_type": "-"
    }
   },
   "outputs": [
    {
     "name": "stdout",
     "output_type": "stream",
     "text": [
      "('Hello', 'Bonjour', 'Guten Tag')\n"
     ]
    }
   ],
   "source": [
    "#可変長の引数を受け取り、それらを表示する関数greeting\n",
    "def greeting(*args):\n",
    "    print (args)\n",
    "    \n",
    "#可変長の引数を受け取る関数greetingに複数の引数を渡して呼び出し\n",
    "greeting(\"Hello\",\"Bonjour\",\"Guten Tag\")"
   ]
  },
  {
   "cell_type": "markdown",
   "metadata": {
    "nbpresent": {
     "id": "09c5e54f-a465-4fe5-902e-8bf75e010df7"
    }
   },
   "source": [
    "可変長引数を使って、シーケンス型のオブジェクト（リストやタプルなど）の各要素を複数の引数として関数に渡す場合は、`*`をそのオブジェクトの前につけて渡します。"
   ]
  },
  {
   "cell_type": "code",
   "execution_count": 34,
   "metadata": {
    "nbpresent": {
     "id": "5b079502-8b81-4efd-99b0-04fa615ec9dd"
    }
   },
   "outputs": [
    {
     "name": "stdout",
     "output_type": "stream",
     "text": [
      "('Hello', 'Bonjour', 'Guten Tag')\n"
     ]
    }
   ],
   "source": [
    "#リスト型オブジェクトgreeting_listを関数greetingに渡して呼び出し\n",
    "greeting_list = [\"Hello\",\"Bonjour\",\"Guten Tag\"]\n",
    "greeting(*greeting_list)\n",
    "\n",
    "#リスト型のオブジェクトをタプル型のオブジェクトに変更することができる！"
   ]
  },
  {
   "cell_type": "markdown",
   "metadata": {
    "nbpresent": {
     "id": "47ce69e1-691e-427d-aa21-23063d73cdae"
    },
    "slideshow": {
     "slide_type": "slide"
    }
   },
   "source": [
    "## 辞書型の可変長引数\n",
    "引数の前に`**`を付けて定義すると、複数のキーワード引数を辞書型として受け取ることができます。"
   ]
  },
  {
   "cell_type": "code",
   "execution_count": 35,
   "metadata": {
    "nbpresent": {
     "id": "7dcc0a7f-2ed4-485b-b73a-93f3e9b73ecf"
    },
    "slideshow": {
     "slide_type": "-"
    }
   },
   "outputs": [
    {
     "name": "stdout",
     "output_type": "stream",
     "text": [
      "{'en': 'Hello', 'fr': 'Bonjour', 'de': 'Guten Tag'}\n"
     ]
    }
   ],
   "source": [
    "#可変長のキーワード引数を受け取り、それらを表示する関数greeting\n",
    "def greeting(**kwargs):\n",
    "    print (kwargs)\n",
    "    \n",
    "#可変長のキーワード引数を受け取る関数greetingに複数の引数を渡して呼び出し\n",
    "greeting(en=\"Hello\",fr=\"Bonjour\",de=\"Guten Tag\")"
   ]
  },
  {
   "cell_type": "markdown",
   "metadata": {
    "nbpresent": {
     "id": "718a8f3d-d197-44d1-a7e0-176e38786e94"
    }
   },
   "source": [
    "辞書型の可変長引数を使って、辞書型のオブジェクトの各キーと値を複数のキーワード引数として関数に渡す場合は、`**`をそのオブジェクトの前につけて渡します。"
   ]
  },
  {
   "cell_type": "code",
   "execution_count": 16,
   "metadata": {
    "nbpresent": {
     "id": "159d31eb-1113-4abe-be4d-49beb2636dd4"
    }
   },
   "outputs": [
    {
     "name": "stdout",
     "output_type": "stream",
     "text": [
      "{'en': 'Hello', 'fr': 'Bonjour', 'de': 'Guten Tag'}\n"
     ]
    }
   ],
   "source": [
    "#辞書型オブジェクトgreeting_dictを関数greetingに渡して呼び出し\n",
    "greeting_dict = {'en':\"Hello\",'fr':\"Bonjour\",'de':\"Guten Tag\"}\n",
    "greeting(**greeting_dict)"
   ]
  },
  {
   "cell_type": "markdown",
   "metadata": {
    "nbpresent": {
     "id": "55f2497f-0912-46ac-85cc-1e522bc432be"
    }
   },
   "source": [
    "## 引数の順番"
   ]
  },
  {
   "cell_type": "markdown",
   "metadata": {
    "nbpresent": {
     "id": "5d3e6ffc-8a43-4b07-93d2-ba405146896b"
    },
    "slideshow": {
     "slide_type": "-"
    }
   },
   "source": [
    "位置引数、初期値を持つ引数、可変長引数、辞書型の可変長引数は、同時に指定することができますが、その際、これらの順番で指定する必要があります。\n",
    "\n",
    "```Python\n",
    "def 関数名(位置引数, 初期値を持つ引数, 可変長引数, 辞書型の可変長引数)\n",
    "```"
   ]
  },
  {
   "cell_type": "code",
   "execution_count": 39,
   "metadata": {
    "nbpresent": {
     "id": "9ef51ef5-93a6-4c6f-a62f-92447211ec1e"
    }
   },
   "outputs": [
    {
     "name": "stdout",
     "output_type": "stream",
     "text": [
      "Hi\n",
      "Hello\n",
      "('Bonjour',)\n",
      "{'de': 'Guten Tag'}\n"
     ]
    }
   ],
   "source": [
    "#位置引数、初期値を持つ引数、可変長引数、辞書型の可変長引数\n",
    "#それぞれを引数として受け取り、それらを表示する関数greeting\n",
    "def greeting(greet, en='Hello', *args, **kwargs):\n",
    "    print (greet)\n",
    "    print (en)\n",
    "    print (args)\n",
    "    print (kwargs)\n",
    "\n",
    "#可変長引数へ渡すリスト\n",
    "greeting_list = ['Bonjour']\n",
    "\n",
    "#辞書型の可変長引数へ渡す辞書\n",
    "greeting_dict = {'de':\"Guten Tag\"}\n",
    "\n",
    "#関数greetingに引数を渡して呼び出し\n",
    "greeting('Hi','Hello',*greeting_list,**greeting_dict)"
   ]
  },
  {
   "cell_type": "markdown",
   "metadata": {
    "nbpresent": {
     "id": "7e77726c-1e27-4472-95b2-0b9bf56d309f"
    },
    "slideshow": {
     "slide_type": "-"
    }
   },
   "source": [
    "## [参考] 変数とスコープ\n",
    "関数の引数や関数内の変数はローカル変数のため、それらの変数は関数の外からは参照できません。"
   ]
  },
  {
   "cell_type": "code",
   "execution_count": 40,
   "metadata": {
    "nbpresent": {
     "id": "ed375a17-cf40-4cad-a556-d7096fd5a60d"
    },
    "slideshow": {
     "slide_type": "-"
    }
   },
   "outputs": [
    {
     "name": "stdout",
     "output_type": "stream",
     "text": [
      "Hello\n"
     ]
    },
    {
     "ename": "NameError",
     "evalue": "name 'greeting_local' is not defined",
     "output_type": "error",
     "traceback": [
      "\u001b[0;31m---------------------------------------------------------------------------\u001b[0m",
      "\u001b[0;31mNameError\u001b[0m                                 Traceback (most recent call last)",
      "\u001b[0;32m<ipython-input-40-c99792db071b>\u001b[0m in \u001b[0;36m<module>\u001b[0;34m()\u001b[0m\n\u001b[1;32m      6\u001b[0m \u001b[0;34m\u001b[0m\u001b[0m\n\u001b[1;32m      7\u001b[0m \u001b[0;31m#ローカル変数（関数greetingの引数）greeting_localを参照\u001b[0m\u001b[0;34m\u001b[0m\u001b[0;34m\u001b[0m\u001b[0m\n\u001b[0;32m----> 8\u001b[0;31m \u001b[0mgreeting_local\u001b[0m\u001b[0;34m\u001b[0m\u001b[0m\n\u001b[0m",
      "\u001b[0;31mNameError\u001b[0m: name 'greeting_local' is not defined"
     ]
    }
   ],
   "source": [
    "#引数greeting_localに渡された値を表示する関数greeting\n",
    "def greeting(greeting_local):\n",
    "    print (greeting_local)\n",
    "    \n",
    "greeting(\"Hello\")  \n",
    "\n",
    "#ローカル変数（関数greetingの引数）greeting_localを参照\n",
    "greeting_local"
   ]
  },
  {
   "cell_type": "markdown",
   "metadata": {
    "nbpresent": {
     "id": "bed85e4b-fa27-4b34-995d-33e6bd77e695"
    },
    "slideshow": {
     "slide_type": "slide"
    }
   },
   "source": [
    "一方、変数がグローバル変数であれば、それらの変数は関数の外からも中からも参照できます。グローバル変数とはプログラム全体、どこからでも利用可能な変数です。"
   ]
  },
  {
   "cell_type": "code",
   "execution_count": 41,
   "metadata": {
    "nbpresent": {
     "id": "dd239c17-6c9e-4eff-af37-acbf61ac3d10"
    },
    "scrolled": false,
    "slideshow": {
     "slide_type": "-"
    }
   },
   "outputs": [
    {
     "name": "stdout",
     "output_type": "stream",
     "text": [
      "Hello\n"
     ]
    },
    {
     "data": {
      "text/plain": [
       "'Hello'"
      ]
     },
     "execution_count": 41,
     "metadata": {},
     "output_type": "execute_result"
    }
   ],
   "source": [
    "#グローバル変数greeting_globalの定義\n",
    "greeting_global = \"Hello\"\n",
    "\n",
    "#グローバル変数greeting_globalの値を表示する関数greeting\n",
    "def greeting():\n",
    "    print (greeting_global)\n",
    "    \n",
    "greeting()\n",
    "\n",
    "#グローバル変数greeting_globalを参照\n",
    "greeting_global"
   ]
  },
  {
   "cell_type": "markdown",
   "metadata": {
    "nbpresent": {
     "id": "1929bd9b-727f-4c45-8c6a-291c1b919786"
    },
    "slideshow": {
     "slide_type": "slide"
    }
   },
   "source": [
    "関数の引数や関数内でグローバル変数と同じ名前の変数に代入すると、それは通常はグローバル変数とは異なる、関数内のみで利用可能なローカル変数として扱われます。"
   ]
  },
  {
   "cell_type": "code",
   "execution_count": 42,
   "metadata": {},
   "outputs": [
    {
     "name": "stdout",
     "output_type": "stream",
     "text": [
      "Bonjour\n"
     ]
    },
    {
     "data": {
      "text/plain": [
       "'Hello'"
      ]
     },
     "execution_count": 42,
     "metadata": {},
     "output_type": "execute_result"
    }
   ],
   "source": [
    "#グローバル変数greeting_globalと同じ名前の変数に値を代入する関数greeting\n",
    "def greeting():\n",
    "    greeting_global = \"Bonjour\"\n",
    "    print(greeting_global)\n",
    "\n",
    "greeting()\n",
    "\n",
    "#変数greeting_globalを参照\n",
    "greeting_global"
   ]
  },
  {
   "cell_type": "markdown",
   "metadata": {},
   "source": [
    "関数内でグローバル変数に明示的に代入するには`global`を使って、代入したいグローバル変数を指定します。"
   ]
  },
  {
   "cell_type": "code",
   "execution_count": 43,
   "metadata": {
    "nbpresent": {
     "id": "85f42699-a196-472e-b243-8f3401a8c80d"
    },
    "slideshow": {
     "slide_type": "-"
    }
   },
   "outputs": [
    {
     "name": "stdout",
     "output_type": "stream",
     "text": [
      "Bonjour\n"
     ]
    },
    {
     "data": {
      "text/plain": [
       "'Bonjour'"
      ]
     },
     "execution_count": 43,
     "metadata": {},
     "output_type": "execute_result"
    }
   ],
   "source": [
    "#グローバル変数greeting_globalに値を代入する関数greeting\n",
    "def greeting():\n",
    "    global greeting_global\n",
    "    greeting_global = \"Bonjour\"\n",
    "    print(greeting_global)\n",
    "\n",
    "greeting()\n",
    "\n",
    "##変数greeting_globalを参照\n",
    "greeting_global\n",
    "\n",
    "#グローバル関数を用いたい時に関数内に組み込むのがglobal関数"
   ]
  },
  {
   "cell_type": "markdown",
   "metadata": {
    "nbpresent": {
     "id": "7baf73c0-c085-4e69-824e-71927749d767"
    },
    "slideshow": {
     "slide_type": "slide"
    }
   },
   "source": [
    "## [参考] 変数としての関数\n",
    "関数は変数でもあります。既存の変数と同じ名前の関数を定義すると、元の変数はその新たな関数を参照するものとして変更されます。一方、既存の関数と同じ名前の変数を定義すると、元の関数名の変数はその新たな変数を参照するものとして変更されます。"
   ]
  },
  {
   "cell_type": "code",
   "execution_count": 44,
   "metadata": {
    "nbpresent": {
     "id": "07dd996c-41dc-4a08-9d5a-4a2f6904e87b"
    },
    "scrolled": false,
    "slideshow": {
     "slide_type": "-"
    }
   },
   "outputs": [
    {
     "data": {
      "text/plain": [
       "str"
      ]
     },
     "execution_count": 44,
     "metadata": {},
     "output_type": "execute_result"
    }
   ],
   "source": [
    "#グローバル変数greeting_globalの定義と参照\n",
    "greeting_global = \"Hello\"\n",
    "type(greeting_global)"
   ]
  },
  {
   "cell_type": "code",
   "execution_count": 45,
   "metadata": {
    "nbpresent": {
     "id": "f08dd351-490b-41af-b723-32ddc01da37b"
    }
   },
   "outputs": [
    {
     "data": {
      "text/plain": [
       "function"
      ]
     },
     "execution_count": 45,
     "metadata": {},
     "output_type": "execute_result"
    }
   ],
   "source": [
    "#グローバル変数greeting_globalと同名の関数の定義\n",
    "#変数greeting_globalは関数を参照する\n",
    "def greeting_global():\n",
    "    print (\"This is the greeting_global function\")\n",
    "    \n",
    "type(greeting_global)"
   ]
  },
  {
   "cell_type": "markdown",
   "metadata": {
    "nbpresent": {
     "id": "212358d7-93a2-42b0-a3bb-499af71a7f40"
    },
    "slideshow": {
     "slide_type": "slide"
    }
   },
   "source": [
    "# 予習課題\n",
    "課題1： 複数（数は任意とする）の整数を可変長引数で受け取り、それらの整数の平均と分散を返す以下のような関数`avg_var`を作成してください。なお、なるべく組み込み関数は使わずに平均と分散を計算してください。\n",
    "```Python\n",
    "def avg_var(*args):\n",
    "    ...\n",
    "    return 平均, 分散 \n",
    "\n",
    "avg_var(5,4,7,1)\n",
    "```\n",
    "\n",
    "課題2： 以下のような入力を辞書型の可変長引数で受け取り、入力のすべてのキーの値（リスト）の要素（文字列）を取り出し、それらの要素をすべて\", \"（コンマと半角スペース）で結合した上で、最後に\".\"をつけて返す関数`dep_print`を作成してください。その際、出力される文字はすべて大文字となるようにしてください。以下に、出力の例を示しています。\n",
    " \n",
    " ```Python\n",
    "　def dep_print(**kwargs):\n",
    "    ...\n",
    "    return 文字列\n",
    "\n",
    "dep_print (h1=['Law'], h2=['Eco'], h3=['Lit','Edu','Lib'], s1=['Sci','Eng'], s2=['Agr','Pha'], s3=['Med'])\n",
    "```\n",
    " \n",
    " 出力の例：\n",
    " \n",
    " ```Python\n",
    "LAW, ECO, LIT, ..., PHA, MED.\n",
    "```"
   ]
  },
  {
   "cell_type": "code",
   "execution_count": 86,
   "metadata": {},
   "outputs": [],
   "source": [
    "def avg_var(*args):\n",
    "    print (args)"
   ]
  },
  {
   "cell_type": "code",
   "execution_count": 80,
   "metadata": {},
   "outputs": [
    {
     "name": "stdout",
     "output_type": "stream",
     "text": [
      "(1, 2, 3, 4)\n"
     ]
    }
   ],
   "source": [
    "avg_var(1,2,3,4)"
   ]
  },
  {
   "cell_type": "code",
   "execution_count": 107,
   "metadata": {},
   "outputs": [],
   "source": [
    "#課題1\n",
    "def avg_var(*args):\n",
    "    i = 0\n",
    "    sumy = 0\n",
    "    multiplesum = 0\n",
    "    for i in range(len(args)):\n",
    "        sumy = sumy + args[i]\n",
    "        multiplesum = multiplesum + args[i]*args[i]\n",
    "        i = i + 1\n",
    "    average = sumy / i\n",
    "#分散公式；\n",
    "    variance = multiplesum/len(args) - average*average\n",
    "    return (average,variance)\n",
    "#lenとrangeを使うことになってしまったのが悔やまれる\n",
    "#whileを使えばrangeを使うことは防げるが、lenはどうすれば消せるのかイマイチ分からなかった。)"
   ]
  },
  {
   "cell_type": "code",
   "execution_count": 112,
   "metadata": {},
   "outputs": [
    {
     "data": {
      "text/plain": [
       "(0.5, 0.25)"
      ]
     },
     "execution_count": 112,
     "metadata": {},
     "output_type": "execute_result"
    }
   ],
   "source": [
    "avg_var(0,1)"
   ]
  },
  {
   "cell_type": "code",
   "execution_count": 4,
   "metadata": {},
   "outputs": [],
   "source": [
    "#課題2\n",
    "def dep_print(**kwargs):\n",
    "    lista = []\n",
    "    for i in kwargs.values():\n",
    "        for w in i:\n",
    "            lista += [w]\n",
    "    normal1 = ','.join(lista)+'.'\n",
    "    normal2 = normal1.replace(',',' ,')\n",
    "    return normal2.upper()"
   ]
  },
  {
   "cell_type": "code",
   "execution_count": 5,
   "metadata": {},
   "outputs": [
    {
     "data": {
      "text/plain": [
       "'LAW ,ECO ,LIT ,EDU ,LIB ,SCI ,ENG ,AGR ,PHA ,MED.'"
      ]
     },
     "execution_count": 5,
     "metadata": {},
     "output_type": "execute_result"
    }
   ],
   "source": [
    "dep_print (h1=['Law'], h2=['Eco'], h3=['Lit','Edu','Lib'], s1=['Sci','Eng'], s2=['Agr','Pha'], s3=['Med'])"
   ]
  }
 ],
 "metadata": {
  "anaconda-cloud": {},
  "kernelspec": {
   "display_name": "Python 3",
   "language": "python",
   "name": "python3"
  },
  "language_info": {
   "codemirror_mode": {
    "name": "ipython",
    "version": 3
   },
   "file_extension": ".py",
   "mimetype": "text/x-python",
   "name": "python",
   "nbconvert_exporter": "python",
   "pygments_lexer": "ipython3",
   "version": "3.6.4"
  },
  "nbpresent": {
   "slides": {
    "0d9603dc-e5ee-45c0-87cc-5a75ab455f19": {
     "id": "0d9603dc-e5ee-45c0-87cc-5a75ab455f19",
     "prev": "a57a78d7-0ba6-464d-a370-bd08ff04c956",
     "regions": {
      "0105f835-18ff-474a-bdd0-e6fc528e22d1": {
       "attrs": {
        "height": 0.4,
        "width": 0.8,
        "x": 0.1,
        "y": 0.5
       },
       "content": {
        "cell": "80b3d5d3-91a8-48d4-9d2c-811823b4653c",
        "part": "whole"
       },
       "id": "0105f835-18ff-474a-bdd0-e6fc528e22d1"
      },
      "5de23e35-da7c-4ad6-8d1b-cc11ce508828": {
       "attrs": {
        "height": 0.4,
        "width": 0.8,
        "x": 0.1,
        "y": 0.5
       },
       "content": {
        "cell": "a7aac8cb-ac15-453b-b979-7ea2d311ebea",
        "part": "whole"
       },
       "id": "5de23e35-da7c-4ad6-8d1b-cc11ce508828"
      },
      "663a2d8b-6c22-4d5d-a090-01d04d035970": {
       "attrs": {
        "height": 0.4,
        "width": 0.8,
        "x": 0.1,
        "y": 0.5
       },
       "content": {
        "cell": "12de8dcb-a158-47b0-b228-3b3ad80f7e95",
        "part": "whole"
       },
       "id": "663a2d8b-6c22-4d5d-a090-01d04d035970"
      },
      "878bf239-15af-4c58-a498-e54cc6ac8805": {
       "attrs": {
        "height": 0.4,
        "width": 0.8,
        "x": 0.1,
        "y": 0.5
       },
       "content": {
        "cell": "9e0b8f27-af25-4004-ac10-f0aebd9801fa",
        "part": "whole"
       },
       "id": "878bf239-15af-4c58-a498-e54cc6ac8805"
      },
      "bdf52191-e7ba-481d-83a1-6c23773529ee": {
       "attrs": {
        "height": 0.8,
        "width": 0.8,
        "x": 0.1,
        "y": 0.1
       },
       "content": {
        "cell": "212358d7-93a2-42b0-a3bb-499af71a7f40",
        "part": "whole"
       },
       "id": "bdf52191-e7ba-481d-83a1-6c23773529ee"
      }
     }
    },
    "40bf27a9-6dd1-4498-abfd-63891f37c292": {
     "id": "40bf27a9-6dd1-4498-abfd-63891f37c292",
     "prev": "aa1f6eeb-930c-4ac8-be79-1e01a08ffdb0",
     "regions": {
      "0e0ee29c-eb3e-40f2-b577-8c7154c1cd24": {
       "attrs": {
        "height": 0.4,
        "width": 0.8,
        "x": 0.1,
        "y": 0.5
       },
       "content": {
        "cell": "09c5e54f-a465-4fe5-902e-8bf75e010df7",
        "part": "whole"
       },
       "id": "0e0ee29c-eb3e-40f2-b577-8c7154c1cd24"
      },
      "3cf5cdf8-4912-4e59-9785-6b02e89f1413": {
       "attrs": {
        "height": 0.4,
        "width": 0.8,
        "x": 0.1,
        "y": 0.5
       },
       "content": {
        "cell": "f80da2e6-07a0-48bf-81b6-260d64d6a0b3",
        "part": "whole"
       },
       "id": "3cf5cdf8-4912-4e59-9785-6b02e89f1413"
      },
      "d6f7eab8-97e7-43f4-9a47-cef2e31deaa3": {
       "attrs": {
        "height": 0.4,
        "width": 0.8,
        "x": 0.1,
        "y": 0.5
       },
       "content": {
        "cell": "5b079502-8b81-4efd-99b0-04fa615ec9dd",
        "part": "whole"
       },
       "id": "d6f7eab8-97e7-43f4-9a47-cef2e31deaa3"
      },
      "f3275639-a876-404a-8acf-68f8887cd095": {
       "attrs": {
        "height": 0.8,
        "width": 0.8,
        "x": 0.1,
        "y": 0.1
       },
       "content": {
        "cell": "0201f64c-b0e4-4e25-ba4e-8ca782c24a40",
        "part": "whole"
       },
       "id": "f3275639-a876-404a-8acf-68f8887cd095"
      },
      "fd3d089e-b179-422b-862e-51f852d282a5": {
       "attrs": {
        "height": 0.4,
        "width": 0.8,
        "x": 0.1,
        "y": 0.5
       },
       "content": {
        "cell": "777cde18-6250-43ff-9b1e-00265cc69608",
        "part": "whole"
       },
       "id": "fd3d089e-b179-422b-862e-51f852d282a5"
      }
     }
    },
    "5a36f988-1fa0-4331-83fc-00f8d6469eff": {
     "id": "5a36f988-1fa0-4331-83fc-00f8d6469eff",
     "prev": "ec8370e5-45ff-435e-886d-c2fbb9a9eb2b",
     "regions": {
      "09cebe01-66fd-4f23-9a07-bd573802ccf9": {
       "attrs": {
        "height": 0.4,
        "width": 0.8,
        "x": 0.1,
        "y": 0.5
       },
       "content": {
        "cell": "4efcff39-bb12-4a76-ac37-1a89ed91761d",
        "part": "whole"
       },
       "id": "09cebe01-66fd-4f23-9a07-bd573802ccf9"
      },
      "b1337f3c-62ad-4938-a3f4-62afcc56873b": {
       "attrs": {
        "height": 0.8,
        "width": 0.8,
        "x": 0.1,
        "y": 0.1
       },
       "content": {
        "cell": "c1bf67a6-1009-4a45-9d63-08ac24186d13",
        "part": "whole"
       },
       "id": "b1337f3c-62ad-4938-a3f4-62afcc56873b"
      },
      "bed939eb-f4ff-4711-b84b-11d76047a05b": {
       "attrs": {
        "height": 0.4,
        "width": 0.8,
        "x": 0.1,
        "y": 0.5
       },
       "content": {
        "cell": "0cadb423-7855-4277-acf7-e45041893543",
        "part": "whole"
       },
       "id": "bed939eb-f4ff-4711-b84b-11d76047a05b"
      },
      "c006ebba-dc29-48d1-a28a-afaa8b048ea3": {
       "attrs": {
        "height": 0.4,
        "width": 0.8,
        "x": 0.1,
        "y": 0.5
       },
       "content": {
        "cell": "0286dc1b-3118-4928-9bec-16d4f980d398",
        "part": "whole"
       },
       "id": "c006ebba-dc29-48d1-a28a-afaa8b048ea3"
      }
     }
    },
    "5ad45391-a584-44f7-b096-6aa45ab1028c": {
     "id": "5ad45391-a584-44f7-b096-6aa45ab1028c",
     "prev": "d56e57a9-7927-412e-bb83-c4bfa91ff4ef",
     "regions": {
      "04104bcb-5e95-47c8-9b30-5d3cd82776b0": {
       "attrs": {
        "height": 0.8,
        "width": 0.8,
        "x": 0.1,
        "y": 0.1
       },
       "content": {
        "cell": "bed85e4b-fa27-4b34-995d-33e6bd77e695",
        "part": "whole"
       },
       "id": "04104bcb-5e95-47c8-9b30-5d3cd82776b0"
      },
      "bdb73d6b-7883-491f-a08c-3f89ff86c3c9": {
       "attrs": {
        "height": 0.4,
        "width": 0.8,
        "x": 0.1,
        "y": 0.5
       },
       "content": {
        "cell": "aebc9b22-21c3-4b63-ac21-9c89fd8242c5",
        "part": "whole"
       },
       "id": "bdb73d6b-7883-491f-a08c-3f89ff86c3c9"
      },
      "e2cc37e6-426e-4785-9b2d-ce5186412288": {
       "attrs": {
        "height": 0.4,
        "width": 0.8,
        "x": 0.1,
        "y": 0.5
       },
       "content": {
        "cell": "dd239c17-6c9e-4eff-af37-acbf61ac3d10",
        "part": "whole"
       },
       "id": "e2cc37e6-426e-4785-9b2d-ce5186412288"
      }
     }
    },
    "706066bd-f013-48de-9bb9-eae66a90edac": {
     "id": "706066bd-f013-48de-9bb9-eae66a90edac",
     "prev": null,
     "regions": {
      "7acf5822-a41e-42f4-989f-097e9c117346": {
       "attrs": {
        "height": 0.8,
        "width": 0.8,
        "x": 0.1,
        "y": 0.1
       },
       "content": {
        "cell": "661136c5-430a-4a28-a7dc-8447cf2dafab",
        "part": "whole"
       },
       "id": "7acf5822-a41e-42f4-989f-097e9c117346"
      },
      "83bf8c1c-0464-42f1-9ae0-820b23002b57": {
       "attrs": {
        "height": 0.4,
        "width": 0.8,
        "x": 0.1,
        "y": 0.5
       },
       "content": {
        "cell": "9b44097d-e842-46c4-962d-d2a6ebb48589",
        "part": "whole"
       },
       "id": "83bf8c1c-0464-42f1-9ae0-820b23002b57"
      }
     }
    },
    "72f80718-5895-4e79-9e56-9f5288c92218": {
     "id": "72f80718-5895-4e79-9e56-9f5288c92218",
     "prev": "a16d12a9-7b84-42ee-918d-6f3967c3847e",
     "regions": {
      "0dc273e0-3b39-4cb1-a46a-aab763739612": {
       "attrs": {
        "height": 0.4,
        "width": 0.8,
        "x": 0.1,
        "y": 0.5
       },
       "content": {
        "cell": "b24bd3a5-b402-4e27-8ac2-f0887275e013",
        "part": "whole"
       },
       "id": "0dc273e0-3b39-4cb1-a46a-aab763739612"
      },
      "16a18b22-31fe-4619-9999-e44333a56908": {
       "attrs": {
        "height": 0.4,
        "width": 0.8,
        "x": 0.1,
        "y": 0.5
       },
       "content": {
        "cell": "f08dd351-490b-41af-b723-32ddc01da37b",
        "part": "whole"
       },
       "id": "16a18b22-31fe-4619-9999-e44333a56908"
      },
      "5af73190-c50d-4c82-a4ea-d29a6b4c556a": {
       "attrs": {
        "height": 0.4,
        "width": 0.8,
        "x": 0.1,
        "y": 0.5
       },
       "content": {
        "cell": "07dd996c-41dc-4a08-9d5a-4a2f6904e87b",
        "part": "whole"
       },
       "id": "5af73190-c50d-4c82-a4ea-d29a6b4c556a"
      },
      "61f1ec20-d848-4770-9c1d-3429803cc543": {
       "attrs": {
        "height": 0.4,
        "width": 0.8,
        "x": 0.1,
        "y": 0.5
       },
       "content": {
        "cell": "8bc59f87-80e2-4254-bca8-26d96cc05313",
        "part": "whole"
       },
       "id": "61f1ec20-d848-4770-9c1d-3429803cc543"
      },
      "8870febc-c28b-457a-9c63-570e57882ad4": {
       "attrs": {
        "height": 0.8,
        "width": 0.8,
        "x": 0.1,
        "y": 0.1
       },
       "content": {
        "cell": "7baf73c0-c085-4e69-824e-71927749d767",
        "part": "whole"
       },
       "id": "8870febc-c28b-457a-9c63-570e57882ad4"
      }
     }
    },
    "7307b4fa-0fb5-4929-b9e4-c30de7bfb77c": {
     "id": "7307b4fa-0fb5-4929-b9e4-c30de7bfb77c",
     "prev": "72f80718-5895-4e79-9e56-9f5288c92218",
     "regions": {
      "3435a9c9-505a-4d8f-abb1-1093d958df10": {
       "attrs": {
        "height": 0.4,
        "width": 0.8,
        "x": 0.1,
        "y": 0.5
       },
       "content": {
        "cell": "130c5cd0-53b2-499f-8adf-6fa26a55de8c",
        "part": "whole"
       },
       "id": "3435a9c9-505a-4d8f-abb1-1093d958df10"
      },
      "921bdcc9-b0e6-400e-a020-0def11b088e1": {
       "attrs": {
        "height": 0.4,
        "width": 0.8,
        "x": 0.1,
        "y": 0.5
       },
       "content": {
        "cell": "ea237f0c-092e-48e9-a160-38869b8ba0e4",
        "part": "whole"
       },
       "id": "921bdcc9-b0e6-400e-a020-0def11b088e1"
      },
      "f221b611-5d52-4c64-85e2-91050e6ae7e5": {
       "attrs": {
        "height": 0.8,
        "width": 0.8,
        "x": 0.1,
        "y": 0.1
       },
       "content": {
        "cell": "b2467925-3f75-428d-9b69-ee633c495a6f",
        "part": "whole"
       },
       "id": "f221b611-5d52-4c64-85e2-91050e6ae7e5"
      }
     }
    },
    "7348a811-f3d9-4c7c-8454-7a731d1ff1cf": {
     "id": "7348a811-f3d9-4c7c-8454-7a731d1ff1cf",
     "prev": "809ab018-c119-4e60-9098-81df5daa4595",
     "regions": {
      "2e4182ef-b567-47b8-b513-491afa6aacaf": {
       "attrs": {
        "height": 0.4,
        "width": 0.8,
        "x": 0.1,
        "y": 0.5
       },
       "content": {
        "cell": "71725609-99ac-4350-9097-f5ace288f798",
        "part": "whole"
       },
       "id": "2e4182ef-b567-47b8-b513-491afa6aacaf"
      },
      "385c7979-954d-4261-b191-3b654dcabd71": {
       "attrs": {
        "height": 0.8,
        "width": 0.8,
        "x": 0.1,
        "y": 0.1
       },
       "content": {
        "cell": "faa61d3a-b9f3-4c59-ad2d-29e1b0260e24",
        "part": "whole"
       },
       "id": "385c7979-954d-4261-b191-3b654dcabd71"
      },
      "8f1c9f0d-1a77-402b-bad0-e3af41fee395": {
       "attrs": {
        "height": 0.4,
        "width": 0.8,
        "x": 0.1,
        "y": 0.5
       },
       "content": {
        "cell": "78e1bc55-6b27-400e-9220-156af75a8d60",
        "part": "whole"
       },
       "id": "8f1c9f0d-1a77-402b-bad0-e3af41fee395"
      }
     }
    },
    "809ab018-c119-4e60-9098-81df5daa4595": {
     "id": "809ab018-c119-4e60-9098-81df5daa4595",
     "prev": "7307b4fa-0fb5-4929-b9e4-c30de7bfb77c",
     "regions": {
      "0304a797-1012-4502-a785-7435306bacc9": {
       "attrs": {
        "height": 0.4,
        "width": 0.8,
        "x": 0.1,
        "y": 0.5
       },
       "content": {
        "cell": "2d1f6d1b-3b75-46d2-b2c4-2567f8138eb7",
        "part": "whole"
       },
       "id": "0304a797-1012-4502-a785-7435306bacc9"
      },
      "2f019bd6-0cdf-40c4-9fe0-0108b348ffb4": {
       "attrs": {
        "height": 0.8,
        "width": 0.8,
        "x": 0.1,
        "y": 0.1
       },
       "content": {
        "cell": "8c90341a-1025-4b6f-87c4-519a30718614",
        "part": "whole"
       },
       "id": "2f019bd6-0cdf-40c4-9fe0-0108b348ffb4"
      },
      "bbec4b40-9802-43ba-ab8f-01de762e0e99": {
       "attrs": {
        "height": 0.4,
        "width": 0.8,
        "x": 0.1,
        "y": 0.5
       },
       "content": {
        "cell": "142f8421-bf53-41e1-b3a1-23baae2af41e",
        "part": "whole"
       },
       "id": "bbec4b40-9802-43ba-ab8f-01de762e0e99"
      },
      "c4cb2af0-47ca-4f93-aa36-fb183ee83f22": {
       "attrs": {
        "height": 0.4,
        "width": 0.8,
        "x": 0.1,
        "y": 0.5
       },
       "content": {
        "cell": "4c4de773-04d5-4a34-9dc1-888472d1fb72",
        "part": "whole"
       },
       "id": "c4cb2af0-47ca-4f93-aa36-fb183ee83f22"
      }
     }
    },
    "97e1984e-2194-4003-8885-5bb41c1797b9": {
     "id": "97e1984e-2194-4003-8885-5bb41c1797b9",
     "prev": "db0922c2-fc9f-45c0-892e-a5ae6c25106f",
     "regions": {
      "07141218-0b6c-4da9-bf90-b55e5065da34": {
       "attrs": {
        "height": 0.4,
        "width": 0.8,
        "x": 0.1,
        "y": 0.5
       },
       "content": {
        "cell": "13606d0d-c9de-42a8-98bf-af9c1b493dbf",
        "part": "whole"
       },
       "id": "07141218-0b6c-4da9-bf90-b55e5065da34"
      },
      "3346e56e-dcdb-4d65-bdd1-d048e7468a0c": {
       "attrs": {
        "height": 0.4,
        "width": 0.8,
        "x": 0.1,
        "y": 0.5
       },
       "content": {
        "cell": "ac07ae38-3f1b-4c32-815c-60c763d90ba9",
        "part": "whole"
       },
       "id": "3346e56e-dcdb-4d65-bdd1-d048e7468a0c"
      },
      "36a43842-dd34-4135-b451-587e6174ff42": {
       "attrs": {
        "height": 0.4,
        "width": 0.8,
        "x": 0.1,
        "y": 0.5
       },
       "content": {
        "cell": "e03e8aa1-af37-4111-9998-028d8c257e72",
        "part": "whole"
       },
       "id": "36a43842-dd34-4135-b451-587e6174ff42"
      },
      "64525f93-6d99-479a-890a-b2ced2256a1a": {
       "attrs": {
        "height": 0.4,
        "width": 0.8,
        "x": 0.1,
        "y": 0.5
       },
       "content": {
        "cell": "2e6d9cd0-4921-4616-944b-fd17b6f2b956",
        "part": "whole"
       },
       "id": "64525f93-6d99-479a-890a-b2ced2256a1a"
      },
      "82050506-6f9d-4402-82ff-88651766381b": {
       "attrs": {
        "height": 0.4,
        "width": 0.8,
        "x": 0.1,
        "y": 0.5
       },
       "content": {
        "cell": "2d182e8a-aecd-4299-a0dc-67550555db74",
        "part": "whole"
       },
       "id": "82050506-6f9d-4402-82ff-88651766381b"
      },
      "bff67dbc-fc41-4048-bb18-b5c0b6ac438d": {
       "attrs": {
        "height": 0.8,
        "width": 0.8,
        "x": 0.1,
        "y": 0.1
       },
       "content": {
        "cell": "d8968821-8915-4043-b5e7-2be1d7d1309c",
        "part": "whole"
       },
       "id": "bff67dbc-fc41-4048-bb18-b5c0b6ac438d"
      },
      "dca18822-11fb-4ec0-ba70-cd0cf25029d8": {
       "attrs": {
        "height": 0.4,
        "width": 0.8,
        "x": 0.1,
        "y": 0.5
       },
       "content": {
        "cell": "2333cd6e-8012-462f-9b02-3152f2d9dfcc",
        "part": "whole"
       },
       "id": "dca18822-11fb-4ec0-ba70-cd0cf25029d8"
      },
      "ea9661f9-7e24-4d7a-92cf-b824db960799": {
       "attrs": {
        "height": 0.4,
        "width": 0.8,
        "x": 0.1,
        "y": 0.5
       },
       "content": {
        "cell": "dc1c1be8-1d16-4793-8462-530072e0d41d",
        "part": "whole"
       },
       "id": "ea9661f9-7e24-4d7a-92cf-b824db960799"
      }
     }
    },
    "a16d12a9-7b84-42ee-918d-6f3967c3847e": {
     "id": "a16d12a9-7b84-42ee-918d-6f3967c3847e",
     "prev": "5ad45391-a584-44f7-b096-6aa45ab1028c",
     "regions": {
      "391b1d66-67cc-41b7-a2ee-ce3920db3a21": {
       "attrs": {
        "height": 0.4,
        "width": 0.8,
        "x": 0.1,
        "y": 0.5
       },
       "content": {
        "cell": "85f42699-a196-472e-b243-8f3401a8c80d",
        "part": "whole"
       },
       "id": "391b1d66-67cc-41b7-a2ee-ce3920db3a21"
      },
      "c1032338-419d-42ef-a6d9-faad26c707ed": {
       "attrs": {
        "height": 0.8,
        "width": 0.8,
        "x": 0.1,
        "y": 0.1
       },
       "content": {
        "cell": "1929bd9b-727f-4c45-8c6a-291c1b919786",
        "part": "whole"
       },
       "id": "c1032338-419d-42ef-a6d9-faad26c707ed"
      }
     }
    },
    "a57a78d7-0ba6-464d-a370-bd08ff04c956": {
     "id": "a57a78d7-0ba6-464d-a370-bd08ff04c956",
     "prev": "7348a811-f3d9-4c7c-8454-7a731d1ff1cf",
     "regions": {
      "e9a2219d-08a1-4c92-be3e-9ad6a9eca362": {
       "attrs": {
        "height": 0.8,
        "width": 0.8,
        "x": 0.1,
        "y": 0.1
       },
       "content": {
        "cell": "bf0c9043-51d9-43c6-b8e7-b4a2be620c1d",
        "part": "whole"
       },
       "id": "e9a2219d-08a1-4c92-be3e-9ad6a9eca362"
      },
      "f2cee15c-7340-4f45-a185-f9b47dbb3c3b": {
       "attrs": {
        "height": 0.4,
        "width": 0.8,
        "x": 0.1,
        "y": 0.5
       },
       "content": {
        "cell": "b16f962e-8519-4fb6-9aa6-148f6304667e",
        "part": "whole"
       },
       "id": "f2cee15c-7340-4f45-a185-f9b47dbb3c3b"
      }
     }
    },
    "aa1f6eeb-930c-4ac8-be79-1e01a08ffdb0": {
     "id": "aa1f6eeb-930c-4ac8-be79-1e01a08ffdb0",
     "prev": "5a36f988-1fa0-4331-83fc-00f8d6469eff",
     "regions": {
      "36415c2b-57a1-4160-a24f-1d44f87ff6f7": {
       "attrs": {
        "height": 0.4,
        "width": 0.8,
        "x": 0.1,
        "y": 0.5
       },
       "content": {
        "cell": "9b196f77-a712-4176-abda-bccf3ffa59ef",
        "part": "whole"
       },
       "id": "36415c2b-57a1-4160-a24f-1d44f87ff6f7"
      },
      "4ce4cf17-0d28-4f4f-b956-eba80aa8bb3d": {
       "attrs": {
        "height": 0.4,
        "width": 0.8,
        "x": 0.1,
        "y": 0.5
       },
       "content": {
        "cell": "19219a8e-d9c2-4b0f-9dae-5c9c7d0eecdb",
        "part": "whole"
       },
       "id": "4ce4cf17-0d28-4f4f-b956-eba80aa8bb3d"
      },
      "975160fa-cd6e-4c65-afb2-6406bc02dc3a": {
       "attrs": {
        "height": 0.8,
        "width": 0.8,
        "x": 0.1,
        "y": 0.1
       },
       "content": {
        "cell": "d17c5099-d85c-432e-b19f-6939c51ccdc6",
        "part": "whole"
       },
       "id": "975160fa-cd6e-4c65-afb2-6406bc02dc3a"
      }
     }
    },
    "c96aee92-cdd9-418e-b4d3-b0de0714e1f9": {
     "id": "c96aee92-cdd9-418e-b4d3-b0de0714e1f9",
     "prev": "706066bd-f013-48de-9bb9-eae66a90edac",
     "regions": {
      "0771b55a-f6a0-4557-84e2-e5a56efea815": {
       "attrs": {
        "height": 0.4,
        "width": 0.8,
        "x": 0.1,
        "y": 0.5
       },
       "content": {
        "cell": "7fff34d3-afef-4488-81d1-09afea2fc12e",
        "part": "whole"
       },
       "id": "0771b55a-f6a0-4557-84e2-e5a56efea815"
      },
      "31e787b0-56ae-4095-9930-bba350c5c569": {
       "attrs": {
        "height": 0.4,
        "width": 0.8,
        "x": 0.1,
        "y": 0.5
       },
       "content": {
        "cell": "ae0cc73e-14d9-4499-ac99-fa23f727c542",
        "part": "whole"
       },
       "id": "31e787b0-56ae-4095-9930-bba350c5c569"
      },
      "a48ee8f9-b674-419f-ac79-9830f13c3e7e": {
       "attrs": {
        "height": 0.4,
        "width": 0.8,
        "x": 0.1,
        "y": 0.5
       },
       "content": {
        "cell": "93578bcf-2a64-464f-a366-0669076c1da9",
        "part": "whole"
       },
       "id": "a48ee8f9-b674-419f-ac79-9830f13c3e7e"
      },
      "e9d8ffd0-c649-431d-84aa-41710c605b74": {
       "attrs": {
        "height": 0.8,
        "width": 0.8,
        "x": 0.1,
        "y": 0.1
       },
       "content": {
        "cell": "3a9dfa48-61d0-448a-80ef-f6caca60ff2f",
        "part": "whole"
       },
       "id": "e9d8ffd0-c649-431d-84aa-41710c605b74"
      }
     }
    },
    "d56e57a9-7927-412e-bb83-c4bfa91ff4ef": {
     "id": "d56e57a9-7927-412e-bb83-c4bfa91ff4ef",
     "prev": "40bf27a9-6dd1-4498-abfd-63891f37c292",
     "regions": {
      "0605288c-7e18-4c6d-bbfd-7af6ac867078": {
       "attrs": {
        "height": 0.4,
        "width": 0.8,
        "x": 0.1,
        "y": 0.5
       },
       "content": {
        "cell": "20e8508f-c5d5-472e-a946-1b28193b3433",
        "part": "whole"
       },
       "id": "0605288c-7e18-4c6d-bbfd-7af6ac867078"
      },
      "1e8dce12-629f-4b32-9c07-166839c764f6": {
       "attrs": {
        "height": 0.4,
        "width": 0.8,
        "x": 0.1,
        "y": 0.5
       },
       "content": {
        "cell": "7e77726c-1e27-4472-95b2-0b9bf56d309f",
        "part": "whole"
       },
       "id": "1e8dce12-629f-4b32-9c07-166839c764f6"
      },
      "5a01a61a-b33e-4eaf-9fb1-af6a24a376a8": {
       "attrs": {
        "height": 0.4,
        "width": 0.8,
        "x": 0.1,
        "y": 0.5
       },
       "content": {
        "cell": "5d3e6ffc-8a43-4b07-93d2-ba405146896b",
        "part": "whole"
       },
       "id": "5a01a61a-b33e-4eaf-9fb1-af6a24a376a8"
      },
      "635fba92-675d-482c-8bcf-08f185a1e05f": {
       "attrs": {
        "height": 0.4,
        "width": 0.8,
        "x": 0.1,
        "y": 0.5
       },
       "content": {
        "cell": "ed375a17-cf40-4cad-a556-d7096fd5a60d",
        "part": "whole"
       },
       "id": "635fba92-675d-482c-8bcf-08f185a1e05f"
      },
      "9e8fa6b7-efe3-4b20-8859-1475b402d9c0": {
       "attrs": {
        "height": 0.4,
        "width": 0.8,
        "x": 0.1,
        "y": 0.5
       },
       "content": {
        "cell": "9ef51ef5-93a6-4c6f-a62f-92447211ec1e",
        "part": "whole"
       },
       "id": "9e8fa6b7-efe3-4b20-8859-1475b402d9c0"
      },
      "b716f166-a413-413b-aa98-8b1610adb3fa": {
       "attrs": {
        "height": 0.4,
        "width": 0.8,
        "x": 0.1,
        "y": 0.5
       },
       "content": {
        "cell": "718a8f3d-d197-44d1-a7e0-176e38786e94",
        "part": "whole"
       },
       "id": "b716f166-a413-413b-aa98-8b1610adb3fa"
      },
      "cba74906-f111-4e8d-9dd5-b70a096f625b": {
       "attrs": {
        "height": 0.4,
        "width": 0.8,
        "x": 0.1,
        "y": 0.5
       },
       "content": {
        "cell": "7dcc0a7f-2ed4-485b-b73a-93f3e9b73ecf",
        "part": "whole"
       },
       "id": "cba74906-f111-4e8d-9dd5-b70a096f625b"
      },
      "d476192f-ea33-44a7-a435-044c75678ff5": {
       "attrs": {
        "height": 0.4,
        "width": 0.8,
        "x": 0.1,
        "y": 0.5
       },
       "content": {
        "cell": "159d31eb-1113-4abe-be4d-49beb2636dd4",
        "part": "whole"
       },
       "id": "d476192f-ea33-44a7-a435-044c75678ff5"
      },
      "ed57a7a6-8a20-45d0-9c6d-10b546d9d0de": {
       "attrs": {
        "height": 0.8,
        "width": 0.8,
        "x": 0.1,
        "y": 0.1
       },
       "content": {
        "cell": "47ce69e1-691e-427d-aa21-23063d73cdae",
        "part": "whole"
       },
       "id": "ed57a7a6-8a20-45d0-9c6d-10b546d9d0de"
      },
      "f75d28a2-ae30-4506-8212-ceea19773353": {
       "attrs": {
        "height": 0.4,
        "width": 0.8,
        "x": 0.1,
        "y": 0.5
       },
       "content": {
        "cell": "55f2497f-0912-46ac-85cc-1e522bc432be",
        "part": "whole"
       },
       "id": "f75d28a2-ae30-4506-8212-ceea19773353"
      }
     }
    },
    "db0922c2-fc9f-45c0-892e-a5ae6c25106f": {
     "id": "db0922c2-fc9f-45c0-892e-a5ae6c25106f",
     "prev": "c96aee92-cdd9-418e-b4d3-b0de0714e1f9",
     "regions": {
      "f99cb905-d403-40a4-9807-609339093868": {
       "attrs": {
        "height": 0.8,
        "width": 0.8,
        "x": 0.1,
        "y": 0.1
       },
       "content": {
        "cell": "91f96d00-b9cf-4122-a243-0b1aecbd8c67",
        "part": "whole"
       },
       "id": "f99cb905-d403-40a4-9807-609339093868"
      }
     }
    },
    "ec8370e5-45ff-435e-886d-c2fbb9a9eb2b": {
     "id": "ec8370e5-45ff-435e-886d-c2fbb9a9eb2b",
     "prev": "97e1984e-2194-4003-8885-5bb41c1797b9",
     "regions": {
      "2368eb50-4979-44ce-90c2-a8a46afd98ed": {
       "attrs": {
        "height": 0.4,
        "width": 0.8,
        "x": 0.1,
        "y": 0.5
       },
       "content": {
        "cell": "e9f693c8-0282-4917-83de-4d24b817350b",
        "part": "whole"
       },
       "id": "2368eb50-4979-44ce-90c2-a8a46afd98ed"
      },
      "3aa70738-658f-46d3-9635-7c54ca4bd8b5": {
       "attrs": {
        "height": 0.4,
        "width": 0.8,
        "x": 0.1,
        "y": 0.5
       },
       "content": {
        "cell": "b05e5641-14c2-43fb-9977-2355e3855af0",
        "part": "whole"
       },
       "id": "3aa70738-658f-46d3-9635-7c54ca4bd8b5"
      },
      "454e0f23-3c00-421c-a81e-6eb1f1eb116d": {
       "attrs": {
        "height": 0.8,
        "width": 0.8,
        "x": 0.1,
        "y": 0.1
       },
       "content": {
        "cell": "1f64a720-e5fd-4e8e-b810-061a71e14e32",
        "part": "whole"
       },
       "id": "454e0f23-3c00-421c-a81e-6eb1f1eb116d"
      },
      "5005f174-dfa0-414e-b645-988e6f1bc89b": {
       "attrs": {
        "height": 0.4,
        "width": 0.8,
        "x": 0.1,
        "y": 0.5
       },
       "content": {
        "cell": "5f719836-d48e-4fbe-85c4-d7cb91c02399",
        "part": "whole"
       },
       "id": "5005f174-dfa0-414e-b645-988e6f1bc89b"
      },
      "520e5eb1-2bee-4989-b8db-06e332ff41a6": {
       "attrs": {
        "height": 0.4,
        "width": 0.8,
        "x": 0.1,
        "y": 0.5
       },
       "content": {
        "cell": "7a23ea7f-98ba-4a4d-846f-78182baa77fa",
        "part": "whole"
       },
       "id": "520e5eb1-2bee-4989-b8db-06e332ff41a6"
      },
      "b2988939-417a-4829-a365-65d5554f862d": {
       "attrs": {
        "height": 0.4,
        "width": 0.8,
        "x": 0.1,
        "y": 0.5
       },
       "content": {
        "cell": "73bdb776-de83-4de7-b6aa-930b1e9de870",
        "part": "whole"
       },
       "id": "b2988939-417a-4829-a365-65d5554f862d"
      }
     }
    }
   },
   "themes": {}
  }
 },
 "nbformat": 4,
 "nbformat_minor": 2
}
