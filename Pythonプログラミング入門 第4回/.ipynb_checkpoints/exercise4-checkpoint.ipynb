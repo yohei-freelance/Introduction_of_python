{
 "cells": [
  {
   "cell_type": "markdown",
   "metadata": {},
   "source": [
    "# 第4回本課題\n",
    "二分探索は、ソート済みのリスト（より一般的にはアイテム集合）を効率的に探索するためのアルゴリズムです。二分探索では、まずリストの中央の値と探索したい値を比較して、以下のように探索を続けます。\n",
    "- 探索したい値とリストの中央の値が等しければ、探索は`True`を返して終了\n",
    "- 探索したい値がリストの中央の値より大きければ、リストの中央から右半分を対象に再びその中央を見つけて同様の探索を続ける（左半分はもう探索を打ち切ってよい）\n",
    "- 探索したい値がリストの中央の値より小さければ、リストの中央から左半分を対象に再びその中央を見つけて同様の探索を続ける（右半分はもう探索を打ち切ってよい）\n",
    "\n",
    "上記のリスト分割を繰り返していき、もし探索対象のリストが空になった時点で探索は`False`を返して終了します。\n",
    "\n",
    "再帰を用いて、二分探索を行う以下の関数`binary_search`を完成させてください。ここでは、入力を数値を要素とするリストとして、それらの要素は昇順にソート（並び替え）されているものとします。また、同一の値の要素はないものとします。同関数は、引数で渡された入力リスト（mylist）に数値（myitem）が要素として存在すれば`True`、存在しなければ`False`をそれぞれ返すようにしてください。\n",
    "\n",
    "```Python\n",
    "def binary_search(mylist, myitem):\n",
    "    if 条件:\n",
    "        pass\n",
    "    else:\n",
    "        pass\n",
    "```\n",
    "以下は関数`binary_search`の入力と出力の例です。\n",
    "```Python\n",
    "testlist = [0, 1, 2, 8, 13, 17, 19, 32, 42]\n",
    "print(binary_search(testlist, 3))\n",
    "False\n",
    "print(binary_search(testlist, 13))\n",
    "True\n",
    "```"
   ]
  },
  {
   "cell_type": "code",
   "execution_count": 39,
   "metadata": {},
   "outputs": [],
   "source": [
    "def binary_search(mylist, myitem):\n",
    "    find = True\n",
    "    notfind = False\n",
    "    mid = len(mylist)//2\n",
    "    if len(mylist) == 0:\n",
    "        return notfind\n",
    "    else:\n",
    "        if myitem == mylist[mid]:\n",
    "            return find\n",
    "        elif myitem < mylist[mid]:\n",
    "            del mylist[mid:]\n",
    "            return binary_search(mylist, myitem)\n",
    "        else:\n",
    "            del mylist[:mid]\n",
    "            return binary_search(mylist[mid:], myitem)"
   ]
  },
  {
   "cell_type": "code",
   "execution_count": 40,
   "metadata": {},
   "outputs": [],
   "source": [
    "testlist = [0, 1, 2, 8, 13, 17, 19, 32, 42, 45]"
   ]
  },
  {
   "cell_type": "code",
   "execution_count": 41,
   "metadata": {},
   "outputs": [
    {
     "name": "stdout",
     "output_type": "stream",
     "text": [
      "False\n"
     ]
    }
   ],
   "source": [
    "print(binary_search(testlist, 3))"
   ]
  },
  {
   "cell_type": "code",
   "execution_count": 42,
   "metadata": {},
   "outputs": [
    {
     "name": "stdout",
     "output_type": "stream",
     "text": [
      "True\n"
     ]
    }
   ],
   "source": [
    "print(binary_search(testlist, 13))"
   ]
  }
 ],
 "metadata": {
  "kernelspec": {
   "display_name": "Python 3",
   "language": "python",
   "name": "python3"
  },
  "language_info": {
   "codemirror_mode": {
    "name": "ipython",
    "version": 3
   },
   "file_extension": ".py",
   "mimetype": "text/x-python",
   "name": "python",
   "nbconvert_exporter": "python",
   "pygments_lexer": "ipython3",
   "version": "3.6.4"
  }
 },
 "nbformat": 4,
 "nbformat_minor": 2
}
